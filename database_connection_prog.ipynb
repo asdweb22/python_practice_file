{
 "cells": [
  {
   "cell_type": "code",
   "execution_count": 7,
   "metadata": {},
   "outputs": [
    {
     "name": "stdout",
     "output_type": "stream",
     "text": [
      "1...insert data\n",
      "2...update data\n",
      "3...delete data\n",
      "4...Display single Student Records using id\n",
      "5...Display All Student Records\n",
      "\n",
      " Select your choice\n",
      "Enter Your choice5\n",
      "\n",
      "Student data\n",
      "(1, 'Akshay', 'pune')\n",
      "(2, 'Rajesh', 'mumbai')\n",
      "(3, 'Suresh', 'Goa')\n",
      "(4, 'Sanjay', 'Satara')\n",
      "(5, 'Rohit', 'solapur')\n",
      "(32, 'Pranil Gaikwad', 'Atlanta')\n",
      "(1000, 'sgd', 'pune')\n"
     ]
    }
   ],
   "source": [
    "'''Database Connectivity in python attachted with xammp server mysql'''\n",
    "\n",
    "'''make sure first python, mysql.connector, xampp server or mysql are  installed successfully into your system then it will work\n",
    "\n",
    "1)if you are using xammp server make sure your mysql should be started and apache server '''\n",
    "\n",
    "import mysql.connector as c\n",
    "con=c.connect(host=\"localhost\", user=\"root\", password=\"\", database=\"python\")\n",
    "cur=con.cursor()\n",
    "\n",
    "\n",
    "print(\"1...insert data\")\n",
    "print(\"2...update data\")\n",
    "print(\"3...delete data\")\n",
    "print(\"4...Display single Student Records using id\")\n",
    "print(\"5...Display All Student Records\")\n",
    "print(\"\\n Select your choice\")\n",
    "\n",
    "operation=int(input(\"Enter Your choice\"))\n",
    "\n",
    "\n",
    "\n",
    "                        #insert query\n",
    "    \n",
    "if operation==1:\n",
    "    r=input(\"Enter Student rollno =\")\n",
    "    nm=input(\"Enter Student name =\")\n",
    "    c=input(\"Enter Student city =\")\n",
    "    query=\"insert into student values({},'{}','{}')\".format(r,nm,c)\n",
    "    cur.execute(query)\n",
    "    con.commit()\n",
    "    print(\"\\n Row inserted successfully\")\n",
    "\n",
    "                        #update query\n",
    "elif operation==2:\n",
    "    query=\"update student set scity='goa' where sid=4\"\n",
    "    cur.execute(query)\n",
    "    con.commit()\n",
    "    print(\"Row updated successfully\")\n",
    "\n",
    "                        #delete query\n",
    "elif operation==3:\n",
    "    sno=input(\"Enter sid\")\n",
    "    query=\"delete from  student  where sid={}\".format(sno)\n",
    "    cur.execute(query)\n",
    "    con.commit()\n",
    "    print(\"Row Deleted successfully\")\n",
    "    \n",
    "elif operation==4:\n",
    "    sno=int(input(\"Enter sid\"))\n",
    "    query=\"select * from  student  where sid={}\".format(sno)\n",
    "    cur.execute(query)\n",
    "    myresult=cur.fetchall()\n",
    "\n",
    "    print(\"\\nStudent data\")\n",
    "    for row in myresult:\n",
    "        print(row)\n",
    "\n",
    "                        #select query  (show table)\n",
    "elif operation==5:\n",
    "    query=\"select * from student\"\n",
    "    cur.execute(query)\n",
    "\n",
    "    myresult=cur.fetchall()\n",
    "\n",
    "    print(\"\\nStudent data\")\n",
    "    for row in myresult:\n",
    "        print(row)\n",
    "        \n",
    "        \n",
    "else:\n",
    "    print(\"You Entered wrong choice\")\n",
    "\n",
    "\n",
    "\n",
    "\n",
    "\n",
    "\n",
    "\n",
    "#if con.is_connected():\n",
    "#   print(\"Connection success....\")\n",
    "#else:\n",
    "#    print(\"Connection Failed....\")\n",
    "\n",
    "    \n",
    " \n"
   ]
  },
  {
   "cell_type": "code",
   "execution_count": 17,
   "metadata": {},
   "outputs": [
    {
     "name": "stdout",
     "output_type": "stream",
     "text": [
      "\n",
      "Display the count of students grouped by Grade\n",
      "('Akshay', 80, 80, 160, 'DIST')\n",
      "('Avinash', 89, 85, 174, 'DIST')\n"
     ]
    }
   ],
   "source": [
    "# 2. Write a python code to Create table in MYSQL database , use structure given as Below:\n",
    "# • Name-(name of the student)\n",
    "# • Maths- (marks obtained in Maths)\n",
    "# • Eng- (marks obtained in English)\n",
    "# • Total- (total marks obtained )\n",
    "# • Grade- (‘DIST’ ‘PASS’, ‘FAIL’)\n",
    "# Perform the following operations:\n",
    "# i. Display the students Name, Maths, Eng\n",
    "# ii. Display the count of students grouped by Grade .\n",
    "# iii. Display the students , who secured more than 70 marks in Math\n",
    "\n",
    "\n",
    "\n",
    "\n",
    "import mysql.connector as c\n",
    "con=c.connect(host=\"localhost\", user=\"root\", password=\"\",database=\"python\")\n",
    "cur=con.cursor()\n",
    "\n",
    "# ---------------------------create table-----------------------------------------------------------------\n",
    "# query=\"create table student_data (Name varchar(50),Maths int(5),Eng int(5),Total int(5),Grade varchar(20))\"\n",
    "# cur.execute(query)\n",
    "# con.commit()\n",
    "\n",
    "# print(\"Table Created successfully\")\n",
    "\n",
    "\n",
    "\n",
    "#----------------------display data---------------------------------------------------------\n",
    "\n",
    "# query=\"select Name,Maths,Eng  from student_data\"\n",
    "# cur.execute(query)\n",
    "\n",
    "# myresult=cur.fetchall()\n",
    "\n",
    "# print(\"\\nStudent data\")\n",
    "# for row in myresult:\n",
    "#     print(row)\n",
    "\n",
    "\n",
    "\n",
    "#----------------------display data---------------------------------------------------------\n",
    "#  ii. Display the count of students grouped by Grade\n",
    "\n",
    "\n",
    "\n",
    "# query=\"SELECT  Grade,count('name')  FROM `student_data` group by Grade \"\n",
    "# cur.execute(query)\n",
    "\n",
    "# myresult=cur.fetchall()\n",
    "\n",
    "# print(\"\\nDisplay the count of students grouped by Grade\")\n",
    "# for row in myresult:\n",
    "#     print(row)\n",
    "\n",
    "\n",
    "# print(\"Table Created successfully\")\n",
    "\n",
    "\n",
    "\n",
    "\n",
    "# ------------------ iii. Display the students , who secured more than 70 marks in Math\n",
    "\n",
    "\n",
    "query=\"select * from student_data where Eng >70\"\n",
    "cur.execute(query)\n",
    "\n",
    "myresult=cur.fetchall()\n",
    "\n",
    "print(\"\\nDisplay the count of students grouped by Grade\")\n",
    "for row in myresult:\n",
    "    print(row)\n",
    "\n"
   ]
  },
  {
   "cell_type": "code",
   "execution_count": 3,
   "metadata": {},
   "outputs": [
    {
     "ename": "ProgrammingError",
     "evalue": "1050 (42S01): Table 'doctor' already exists",
     "output_type": "error",
     "traceback": [
      "\u001b[1;31m---------------------------------------------------------------------------\u001b[0m",
      "\u001b[1;31mProgrammingError\u001b[0m                          Traceback (most recent call last)",
      "\u001b[1;32m<ipython-input-3-e6bc5964252b>\u001b[0m in \u001b[0;36m<module>\u001b[1;34m\u001b[0m\n\u001b[0;32m     24\u001b[0m \u001b[0mquery\u001b[0m\u001b[1;33m=\u001b[0m\u001b[1;34m\"create table doctor(d_id int(5)primary key,d_name varchar(30),joing_date varchar(20),speciality varchar(20),salary int(5), experince varchar(20), h_id int REFERENCES hospital(h_id)) \"\u001b[0m\u001b[1;33m\u001b[0m\u001b[1;33m\u001b[0m\u001b[0m\n\u001b[0;32m     25\u001b[0m \u001b[1;33m\u001b[0m\u001b[0m\n\u001b[1;32m---> 26\u001b[1;33m \u001b[0mcur\u001b[0m\u001b[1;33m.\u001b[0m\u001b[0mexecute\u001b[0m\u001b[1;33m(\u001b[0m\u001b[0mquery\u001b[0m\u001b[1;33m)\u001b[0m\u001b[1;33m\u001b[0m\u001b[1;33m\u001b[0m\u001b[0m\n\u001b[0m\u001b[0;32m     27\u001b[0m \u001b[0mcon\u001b[0m\u001b[1;33m.\u001b[0m\u001b[0mcommit\u001b[0m\u001b[1;33m(\u001b[0m\u001b[1;33m)\u001b[0m\u001b[1;33m\u001b[0m\u001b[1;33m\u001b[0m\u001b[0m\n\u001b[0;32m     28\u001b[0m \u001b[1;33m\u001b[0m\u001b[0m\n",
      "\u001b[1;32mC:\\ProgramData\\Anaconda3\\lib\\site-packages\\mysql\\connector\\cursor.py\u001b[0m in \u001b[0;36mexecute\u001b[1;34m(self, operation, params, multi)\u001b[0m\n\u001b[0;32m    566\u001b[0m \u001b[1;33m\u001b[0m\u001b[0m\n\u001b[0;32m    567\u001b[0m         \u001b[1;32mtry\u001b[0m\u001b[1;33m:\u001b[0m\u001b[1;33m\u001b[0m\u001b[1;33m\u001b[0m\u001b[0m\n\u001b[1;32m--> 568\u001b[1;33m             \u001b[0mself\u001b[0m\u001b[1;33m.\u001b[0m\u001b[0m_handle_result\u001b[0m\u001b[1;33m(\u001b[0m\u001b[0mself\u001b[0m\u001b[1;33m.\u001b[0m\u001b[0m_connection\u001b[0m\u001b[1;33m.\u001b[0m\u001b[0mcmd_query\u001b[0m\u001b[1;33m(\u001b[0m\u001b[0mstmt\u001b[0m\u001b[1;33m)\u001b[0m\u001b[1;33m)\u001b[0m\u001b[1;33m\u001b[0m\u001b[1;33m\u001b[0m\u001b[0m\n\u001b[0m\u001b[0;32m    569\u001b[0m         \u001b[1;32mexcept\u001b[0m \u001b[0merrors\u001b[0m\u001b[1;33m.\u001b[0m\u001b[0mInterfaceError\u001b[0m\u001b[1;33m:\u001b[0m\u001b[1;33m\u001b[0m\u001b[1;33m\u001b[0m\u001b[0m\n\u001b[0;32m    570\u001b[0m             \u001b[1;32mif\u001b[0m \u001b[0mself\u001b[0m\u001b[1;33m.\u001b[0m\u001b[0m_connection\u001b[0m\u001b[1;33m.\u001b[0m\u001b[0m_have_next_result\u001b[0m\u001b[1;33m:\u001b[0m  \u001b[1;31m# pylint: disable=W0212\u001b[0m\u001b[1;33m\u001b[0m\u001b[1;33m\u001b[0m\u001b[0m\n",
      "\u001b[1;32mC:\\ProgramData\\Anaconda3\\lib\\site-packages\\mysql\\connector\\connection.py\u001b[0m in \u001b[0;36mcmd_query\u001b[1;34m(self, query, raw, buffered, raw_as_string)\u001b[0m\n\u001b[0;32m    684\u001b[0m             \u001b[0mquery\u001b[0m \u001b[1;33m=\u001b[0m \u001b[0mquery\u001b[0m\u001b[1;33m.\u001b[0m\u001b[0mencode\u001b[0m\u001b[1;33m(\u001b[0m\u001b[1;34m'utf-8'\u001b[0m\u001b[1;33m)\u001b[0m\u001b[1;33m\u001b[0m\u001b[1;33m\u001b[0m\u001b[0m\n\u001b[0;32m    685\u001b[0m         \u001b[1;32mtry\u001b[0m\u001b[1;33m:\u001b[0m\u001b[1;33m\u001b[0m\u001b[1;33m\u001b[0m\u001b[0m\n\u001b[1;32m--> 686\u001b[1;33m             \u001b[0mresult\u001b[0m \u001b[1;33m=\u001b[0m \u001b[0mself\u001b[0m\u001b[1;33m.\u001b[0m\u001b[0m_handle_result\u001b[0m\u001b[1;33m(\u001b[0m\u001b[0mself\u001b[0m\u001b[1;33m.\u001b[0m\u001b[0m_send_cmd\u001b[0m\u001b[1;33m(\u001b[0m\u001b[0mServerCmd\u001b[0m\u001b[1;33m.\u001b[0m\u001b[0mQUERY\u001b[0m\u001b[1;33m,\u001b[0m \u001b[0mquery\u001b[0m\u001b[1;33m)\u001b[0m\u001b[1;33m)\u001b[0m\u001b[1;33m\u001b[0m\u001b[1;33m\u001b[0m\u001b[0m\n\u001b[0m\u001b[0;32m    687\u001b[0m         \u001b[1;32mexcept\u001b[0m \u001b[0merrors\u001b[0m\u001b[1;33m.\u001b[0m\u001b[0mProgrammingError\u001b[0m \u001b[1;32mas\u001b[0m \u001b[0merr\u001b[0m\u001b[1;33m:\u001b[0m\u001b[1;33m\u001b[0m\u001b[1;33m\u001b[0m\u001b[0m\n\u001b[0;32m    688\u001b[0m             \u001b[1;32mif\u001b[0m \u001b[0merr\u001b[0m\u001b[1;33m.\u001b[0m\u001b[0merrno\u001b[0m \u001b[1;33m==\u001b[0m \u001b[1;36m3948\u001b[0m \u001b[1;32mand\u001b[0m\u001b[0;31m \u001b[0m\u001b[0;31m\\\u001b[0m\u001b[1;33m\u001b[0m\u001b[1;33m\u001b[0m\u001b[0m\n",
      "\u001b[1;32mC:\\ProgramData\\Anaconda3\\lib\\site-packages\\mysql\\connector\\connection.py\u001b[0m in \u001b[0;36m_handle_result\u001b[1;34m(self, packet)\u001b[0m\n\u001b[0;32m    571\u001b[0m             \u001b[1;32mreturn\u001b[0m \u001b[0mself\u001b[0m\u001b[1;33m.\u001b[0m\u001b[0m_handle_eof\u001b[0m\u001b[1;33m(\u001b[0m\u001b[0mpacket\u001b[0m\u001b[1;33m)\u001b[0m\u001b[1;33m\u001b[0m\u001b[1;33m\u001b[0m\u001b[0m\n\u001b[0;32m    572\u001b[0m         \u001b[1;32melif\u001b[0m \u001b[0mpacket\u001b[0m\u001b[1;33m[\u001b[0m\u001b[1;36m4\u001b[0m\u001b[1;33m]\u001b[0m \u001b[1;33m==\u001b[0m \u001b[1;36m255\u001b[0m\u001b[1;33m:\u001b[0m\u001b[1;33m\u001b[0m\u001b[1;33m\u001b[0m\u001b[0m\n\u001b[1;32m--> 573\u001b[1;33m             \u001b[1;32mraise\u001b[0m \u001b[0merrors\u001b[0m\u001b[1;33m.\u001b[0m\u001b[0mget_exception\u001b[0m\u001b[1;33m(\u001b[0m\u001b[0mpacket\u001b[0m\u001b[1;33m)\u001b[0m\u001b[1;33m\u001b[0m\u001b[1;33m\u001b[0m\u001b[0m\n\u001b[0m\u001b[0;32m    574\u001b[0m \u001b[1;33m\u001b[0m\u001b[0m\n\u001b[0;32m    575\u001b[0m         \u001b[1;31m# We have a text result set\u001b[0m\u001b[1;33m\u001b[0m\u001b[1;33m\u001b[0m\u001b[1;33m\u001b[0m\u001b[0m\n",
      "\u001b[1;31mProgrammingError\u001b[0m: 1050 (42S01): Table 'doctor' already exists"
     ]
    }
   ],
   "source": [
    "# Q_9 create database and table by using query in python \n",
    "\n",
    "import mysql.connector as c\n",
    "con=c.connect(host=\"localhost\", user=\"root\", password=\"\",database=\"datbase_hospital\")\n",
    "cur=con.cursor()\n",
    "\n",
    "# query=\"create database datbase_hospital\"\n",
    "# cur.execute(query)\n",
    "# con.commit()\n",
    "\n",
    "# print(\"Datase Created\")\n",
    "\n",
    "# -------------------------------------------------------------------------\n",
    "\n",
    "# query=\"create table hospital (h_id int(5) primary key,h_name varchar(30),bed_count int(2)) \"\n",
    "# cur.execute(query)\n",
    "# con.commit()\n",
    "\n",
    "# print(\"Table Created successfully\")\n",
    "\n",
    "#------------------------------------------------------------------------------\n",
    "\n",
    "\n",
    "query=\"create table doctor(d_id int(5)primary key,d_name varchar(30),joing_date varchar(20),speciality varchar(20),salary int(5), experince varchar(20), h_id int REFERENCES hospital(h_id)) \"\n",
    "\n",
    "cur.execute(query)\n",
    "con.commit()\n",
    "\n",
    "print(\"Table Created successfully\")\n",
    "\n"
   ]
  },
  {
   "cell_type": "code",
   "execution_count": 5,
   "metadata": {},
   "outputs": [
    {
     "name": "stdout",
     "output_type": "stream",
     "text": [
      "Akshay\n"
     ]
    }
   ],
   "source": [
    "\n",
    "print(\"Akshay\")"
   ]
  },
  {
   "cell_type": "code",
   "execution_count": 6,
   "metadata": {},
   "outputs": [
    {
     "name": "stdout",
     "output_type": "stream",
     "text": [
      "[(1.0, 'Avinash Patel', 'avinash@gmail.com', 9878677887.0), (2.0, 'Rina Joshi', 'rina@gmail.com', 7656455665.0), (3.0, 'sagita rane', 'sagita@gmail.com', 7887899898.0)]\n",
      "Data Inserted Successfully\n"
     ]
    }
   ],
   "source": [
    "#python task from trigersoft \n",
    "#getting data from excel sheet and insert into database using python script\n",
    "\n",
    "\n",
    "\n",
    "import mysql.connector as c\n",
    "import xlrd\n",
    "\n",
    "#-------------------------for student data insert----------------------------------\n",
    "con=c.connect(host=\"localhost\", user=\"root\", password=\"\",database=\"data\")\n",
    "cur=con.cursor()\n",
    "loc=(\"Book1.xlsx\")\n",
    "\n",
    "l=list()\n",
    "a=xlrd.open_workbook(loc)\n",
    "sheet=a.sheet_by_index(1)\n",
    "\n",
    "\n",
    "\n",
    "for i in range(1,4):\n",
    "    l.append(tuple(sheet.row_values(i)))\n",
    "\n",
    "print(l)\n",
    "\n",
    "q=\"insert into student (Student_Id,UserName,Email,Mobile_No) values(%s,%s,%s,%s)\"\n",
    "\n",
    "cur.executemany(q,l)\n",
    "con.commit()\n",
    "print(\"Data Inserted Successfully\")\n",
    "\n",
    "\n",
    "    \n",
    "\n",
    "\n",
    "\n",
    "\n"
   ]
  },
  {
   "cell_type": "code",
   "execution_count": 12,
   "metadata": {},
   "outputs": [
    {
     "name": "stdout",
     "output_type": "stream",
     "text": [
      "[(1.0, 'Python', 100.0, 1.0), (2.0, 'PHP', 100.0, 1.0), (3.0, 'Cloud Computing', 100.0, 1.0)]\n",
      "Data Inserted Successfully\n"
     ]
    }
   ],
   "source": [
    "#-------------------------for subject data insert----------------------------------\n",
    "con=c.connect(host=\"localhost\", user=\"root\", password=\"\",database=\"data\")\n",
    "cur=con.cursor()\n",
    "loc=(\"Book1.xlsx\")\n",
    "\n",
    "l=list()\n",
    "a=xlrd.open_workbook(loc)\n",
    "sheet=a.sheet_by_index(0)\n",
    "\n",
    "\n",
    "\n",
    "for i in range(1,4):\n",
    "    l.append(tuple(sheet.row_values(i)))\n",
    "\n",
    "print(l)\n",
    "\n",
    "q=\"insert into subject (Subject_Id,Name,Total_Marks,Is_Active) values(%s,%s,%s,%s)\"\n",
    "\n",
    "cur.executemany(q,l)\n",
    "con.commit()\n",
    "print(\"Data Inserted Successfully\")\n"
   ]
  },
  {
   "cell_type": "code",
   "execution_count": 11,
   "metadata": {},
   "outputs": [
    {
     "ename": "IndexError",
     "evalue": "list index out of range",
     "output_type": "error",
     "traceback": [
      "\u001b[1;31m---------------------------------------------------------------------------\u001b[0m",
      "\u001b[1;31mIndexError\u001b[0m                                Traceback (most recent call last)",
      "\u001b[1;32m<ipython-input-11-c9705afb98dd>\u001b[0m in \u001b[0;36m<module>\u001b[1;34m\u001b[0m\n\u001b[0;32m      8\u001b[0m \u001b[0ml\u001b[0m\u001b[1;33m=\u001b[0m\u001b[0mlist\u001b[0m\u001b[1;33m(\u001b[0m\u001b[1;33m)\u001b[0m\u001b[1;33m\u001b[0m\u001b[1;33m\u001b[0m\u001b[0m\n\u001b[0;32m      9\u001b[0m \u001b[0ma\u001b[0m\u001b[1;33m=\u001b[0m\u001b[0mxlrd\u001b[0m\u001b[1;33m.\u001b[0m\u001b[0mopen_workbook\u001b[0m\u001b[1;33m(\u001b[0m\u001b[0mloc\u001b[0m\u001b[1;33m)\u001b[0m\u001b[1;33m\u001b[0m\u001b[1;33m\u001b[0m\u001b[0m\n\u001b[1;32m---> 10\u001b[1;33m \u001b[0msheet\u001b[0m\u001b[1;33m=\u001b[0m\u001b[0ma\u001b[0m\u001b[1;33m.\u001b[0m\u001b[0msheet_by_index\u001b[0m\u001b[1;33m(\u001b[0m\u001b[1;36m3\u001b[0m\u001b[1;33m)\u001b[0m\u001b[1;33m\u001b[0m\u001b[1;33m\u001b[0m\u001b[0m\n\u001b[0m\u001b[0;32m     11\u001b[0m \u001b[1;33m\u001b[0m\u001b[0m\n\u001b[0;32m     12\u001b[0m \u001b[1;33m\u001b[0m\u001b[0m\n",
      "\u001b[1;32mC:\\ProgramData\\Anaconda3\\lib\\site-packages\\xlrd\\book.py\u001b[0m in \u001b[0;36msheet_by_index\u001b[1;34m(self, sheetx)\u001b[0m\n\u001b[0;32m    464\u001b[0m         \u001b[1;33m:\u001b[0m\u001b[0mreturns\u001b[0m\u001b[1;33m:\u001b[0m \u001b[0mA\u001b[0m \u001b[1;33m:\u001b[0m\u001b[1;32mclass\u001b[0m\u001b[1;33m:\u001b[0m\u001b[0;31m`\u001b[0m\u001b[1;33m~\u001b[0m\u001b[0mxlrd\u001b[0m\u001b[1;33m.\u001b[0m\u001b[0msheet\u001b[0m\u001b[1;33m.\u001b[0m\u001b[0mSheet\u001b[0m\u001b[0;31m`\u001b[0m\u001b[1;33m.\u001b[0m\u001b[1;33m\u001b[0m\u001b[1;33m\u001b[0m\u001b[0m\n\u001b[0;32m    465\u001b[0m         \"\"\"\n\u001b[1;32m--> 466\u001b[1;33m         \u001b[1;32mreturn\u001b[0m \u001b[0mself\u001b[0m\u001b[1;33m.\u001b[0m\u001b[0m_sheet_list\u001b[0m\u001b[1;33m[\u001b[0m\u001b[0msheetx\u001b[0m\u001b[1;33m]\u001b[0m \u001b[1;32mor\u001b[0m \u001b[0mself\u001b[0m\u001b[1;33m.\u001b[0m\u001b[0mget_sheet\u001b[0m\u001b[1;33m(\u001b[0m\u001b[0msheetx\u001b[0m\u001b[1;33m)\u001b[0m\u001b[1;33m\u001b[0m\u001b[1;33m\u001b[0m\u001b[0m\n\u001b[0m\u001b[0;32m    467\u001b[0m \u001b[1;33m\u001b[0m\u001b[0m\n\u001b[0;32m    468\u001b[0m     \u001b[1;32mdef\u001b[0m \u001b[0msheet_by_name\u001b[0m\u001b[1;33m(\u001b[0m\u001b[0mself\u001b[0m\u001b[1;33m,\u001b[0m \u001b[0msheet_name\u001b[0m\u001b[1;33m)\u001b[0m\u001b[1;33m:\u001b[0m\u001b[1;33m\u001b[0m\u001b[1;33m\u001b[0m\u001b[0m\n",
      "\u001b[1;31mIndexError\u001b[0m: list index out of range"
     ]
    }
   ],
   "source": [
    "#-------------------------for student-subject data insert----------------------------------\n",
    "import mysql.connector as c\n",
    "import xlrd\n",
    "con=c.connect(host=\"localhost\", user=\"root\", password=\"\",database=\"data\")\n",
    "cur=con.cursor()\n",
    "loc=(\"Book1.xlsx\")\n",
    "\n",
    "l=list()\n",
    "a=xlrd.open_workbook(loc)\n",
    "sheet=a.sheet_by_index(3)\n",
    "\n",
    "\n",
    "\n",
    "for i in range(1,4):\n",
    "    l.append(tuple(sheet.row_values(i)))\n",
    "\n",
    "print(l)\n",
    "\n",
    "q=\"insert into student_subject (id,student_id,subject_id) values(%s,%s,%s)\"\n",
    "\n",
    "cur.executemany(q,l)\n",
    "con.commit()\n",
    "print(\"Data Inserted Successfully\")\n"
   ]
  },
  {
   "cell_type": "code",
   "execution_count": 5,
   "metadata": {},
   "outputs": [
    {
     "name": "stdout",
     "output_type": "stream",
     "text": [
      "[(1.0, 1.0, 50.0), (2.0, 2.0, 40.0), (3.0, 3.0, 60.0)]\n",
      "Data Inserted Successfully\n"
     ]
    }
   ],
   "source": [
    "#-------------------------for student report data insert----------------------------------\n",
    "import mysql.connector as c\n",
    "import xlrd\n",
    "con=c.connect(host=\"localhost\", user=\"root\", password=\"\",database=\"data\")\n",
    "cur=con.cursor()\n",
    "loc=(\"Book1.xlsx\")\n",
    "\n",
    "l=list()\n",
    "a=xlrd.open_workbook(loc)\n",
    "sheet=a.sheet_by_index(2)\n",
    "\n",
    "\n",
    "\n",
    "for i in range(1,4):\n",
    "    l.append(tuple(sheet.row_values(i)))\n",
    "\n",
    "print(l)\n",
    "\n",
    "q=\"insert into student_report (id,sb_Id,Marks) values(%s,%s,%s)\"\n",
    "\n",
    "cur.executemany(q,l)\n",
    "con.commit()\n",
    "print(\"Data Inserted Successfully\")\n"
   ]
  },
  {
   "cell_type": "code",
   "execution_count": 30,
   "metadata": {},
   "outputs": [
    {
     "name": "stdout",
     "output_type": "stream",
     "text": [
      "   ID       UserName              Email      Mobile\n",
      "0   1  Avinash Patel  avinash@gmail.com  9878677887\n",
      "1   2     Rina Joshi     rina@gmail.com  7656455665\n",
      "2   3    sagita rane   sagita@gmail.com  7887899898\n"
     ]
    },
    {
     "ename": "NameError",
     "evalue": "name 'connection' is not defined",
     "output_type": "error",
     "traceback": [
      "\u001b[1;31m---------------------------------------------------------------------------\u001b[0m",
      "\u001b[1;31mNameError\u001b[0m                                 Traceback (most recent call last)",
      "\u001b[1;32m<ipython-input-30-5f4762c79cda>\u001b[0m in \u001b[0;36m<module>\u001b[1;34m\u001b[0m\n\u001b[0;32m     21\u001b[0m \u001b[1;33m\u001b[0m\u001b[0m\n\u001b[0;32m     22\u001b[0m \u001b[1;33m\u001b[0m\u001b[0m\n\u001b[1;32m---> 23\u001b[1;33m \u001b[0mdf\u001b[0m\u001b[1;33m=\u001b[0m\u001b[0mpd\u001b[0m\u001b[1;33m.\u001b[0m\u001b[0mread_sql\u001b[0m\u001b[1;33m(\u001b[0m\u001b[0msql\u001b[0m\u001b[1;33m=\u001b[0m\u001b[1;34m\"select * from student\"\u001b[0m\u001b[1;33m,\u001b[0m\u001b[0mcon\u001b[0m\u001b[1;33m=\u001b[0m\u001b[0mconnection\u001b[0m\u001b[1;33m)\u001b[0m\u001b[1;33m\u001b[0m\u001b[1;33m\u001b[0m\u001b[0m\n\u001b[0m\u001b[0;32m     24\u001b[0m \u001b[0mdf\u001b[0m\u001b[1;33m.\u001b[0m\u001b[0mto_excel\u001b[0m\u001b[1;33m(\u001b[0m\u001b[1;34m\"Book1.xlsx\"\u001b[0m\u001b[1;33m,\u001b[0m\u001b[0msheet_name\u001b[0m\u001b[1;33m=\u001b[0m\u001b[1;34m'abc'\u001b[0m\u001b[1;33m)\u001b[0m\u001b[1;33m\u001b[0m\u001b[1;33m\u001b[0m\u001b[0m\n",
      "\u001b[1;31mNameError\u001b[0m: name 'connection' is not defined"
     ]
    }
   ],
   "source": [
    "#-------------------------for student report databse to excel----------------------------------\n",
    "\n",
    "\n",
    "import mysql.connector as c\n",
    "import xlrd\n",
    "con=c.connect(host=\"localhost\", user=\"root\", password=\"\",database=\"data\")\n",
    "cur=con.cursor()\n",
    "loc=(\"Book1.xlsx\n",
    "\n",
    "\n",
    "     \n",
    "  "
   ]
  },
  {
   "cell_type": "code",
   "execution_count": 3,
   "metadata": {},
   "outputs": [
    {
     "data": {
      "text/html": [
       "<div>\n",
       "<style scoped>\n",
       "    .dataframe tbody tr th:only-of-type {\n",
       "        vertical-align: middle;\n",
       "    }\n",
       "\n",
       "    .dataframe tbody tr th {\n",
       "        vertical-align: top;\n",
       "    }\n",
       "\n",
       "    .dataframe thead th {\n",
       "        text-align: right;\n",
       "    }\n",
       "</style>\n",
       "<table border=\"1\" class=\"dataframe\">\n",
       "  <thead>\n",
       "    <tr style=\"text-align: right;\">\n",
       "      <th></th>\n",
       "      <th>id</th>\n",
       "      <th>username</th>\n",
       "      <th>email</th>\n",
       "      <th>mobileno</th>\n",
       "      <th>marks</th>\n",
       "      <th>total_marks</th>\n",
       "      <th>percentage</th>\n",
       "    </tr>\n",
       "  </thead>\n",
       "  <tbody>\n",
       "    <tr>\n",
       "      <th>0</th>\n",
       "      <td>1</td>\n",
       "      <td>Avinash Patel</td>\n",
       "      <td>avinash@gmail.com</td>\n",
       "      <td>9878677887</td>\n",
       "      <td>150.0</td>\n",
       "      <td>300.0</td>\n",
       "      <td>50.0</td>\n",
       "    </tr>\n",
       "    <tr>\n",
       "      <th>1</th>\n",
       "      <td>2</td>\n",
       "      <td>Rina Joshi</td>\n",
       "      <td>rina@gmail.com</td>\n",
       "      <td>7656455665</td>\n",
       "      <td>150.0</td>\n",
       "      <td>300.0</td>\n",
       "      <td>50.0</td>\n",
       "    </tr>\n",
       "  </tbody>\n",
       "</table>\n",
       "</div>"
      ],
      "text/plain": [
       "   id       username              email    mobileno  marks  total_marks  \\\n",
       "0   1  Avinash Patel  avinash@gmail.com  9878677887  150.0        300.0   \n",
       "1   2     Rina Joshi     rina@gmail.com  7656455665  150.0        300.0   \n",
       "\n",
       "   percentage  \n",
       "0        50.0  \n",
       "1        50.0  "
      ]
     },
     "execution_count": 3,
     "metadata": {},
     "output_type": "execute_result"
    }
   ],
   "source": [
    "#report generating \n",
    "\n",
    "import mysql.connector as c\n",
    "import xlrd\n",
    "import pandas as pd\n",
    "con=c.connect(host=\"localhost\", user=\"root\", password=\"\",database=\"data\")\n",
    "cur=con.cursor()\n",
    "\n",
    "q=\"\"\"select \n",
    "student.id,student.username,student.email,student.mobileno,\n",
    "sum(sr.marks) as marks,\n",
    "sum(subject.total_marks) as total_marks,\n",
    "round(((marks / total_marks) * 100 ),2) as percentage\n",
    "from \n",
    "student_report as sr\n",
    "join \n",
    "student_subject as ss\n",
    "join \n",
    "subject\n",
    "join \n",
    "student\n",
    "on \n",
    "sr.student_subject_id = ss.id\n",
    "and \n",
    "ss.subject_id=subject.id\n",
    "AND\n",
    "ss.student_id=student.id\n",
    "group BY\n",
    "ss.student_id\"\"\"\n",
    "\n",
    "\n",
    "df=pd.read_sql(q,con)\n",
    "df\n",
    "\n",
    "\n",
    "\n",
    "df.to_excel('report.xls',sheet_name=\"abc\")\n"
   ]
  },
  {
   "cell_type": "code",
   "execution_count": 10,
   "metadata": {},
   "outputs": [
    {
     "ename": "PermissionError",
     "evalue": "[Errno 13] Permission denied: 'report.xls'",
     "output_type": "error",
     "traceback": [
      "\u001b[1;31m---------------------------------------------------------------------------\u001b[0m",
      "\u001b[1;31mPermissionError\u001b[0m                           Traceback (most recent call last)",
      "\u001b[1;32m<ipython-input-10-1decc26cc0ef>\u001b[0m in \u001b[0;36m<module>\u001b[1;34m\u001b[0m\n\u001b[1;32m----> 1\u001b[1;33m \u001b[0mdf\u001b[0m\u001b[1;33m.\u001b[0m\u001b[0mto_excel\u001b[0m\u001b[1;33m(\u001b[0m\u001b[1;34m'report.xls'\u001b[0m\u001b[1;33m,\u001b[0m\u001b[0msheet_name\u001b[0m\u001b[1;33m=\u001b[0m\u001b[1;34m\"abc\"\u001b[0m\u001b[1;33m)\u001b[0m\u001b[1;33m\u001b[0m\u001b[1;33m\u001b[0m\u001b[0m\n\u001b[0m",
      "\u001b[1;32mC:\\ProgramData\\Anaconda3\\lib\\site-packages\\pandas\\core\\generic.py\u001b[0m in \u001b[0;36mto_excel\u001b[1;34m(self, excel_writer, sheet_name, na_rep, float_format, columns, header, index, index_label, startrow, startcol, engine, merge_cells, encoding, inf_rep, verbose, freeze_panes)\u001b[0m\n\u001b[0;32m   2024\u001b[0m             \u001b[0minf_rep\u001b[0m\u001b[1;33m=\u001b[0m\u001b[0minf_rep\u001b[0m\u001b[1;33m,\u001b[0m\u001b[1;33m\u001b[0m\u001b[1;33m\u001b[0m\u001b[0m\n\u001b[0;32m   2025\u001b[0m         )\n\u001b[1;32m-> 2026\u001b[1;33m         formatter.write(\n\u001b[0m\u001b[0;32m   2027\u001b[0m             \u001b[0mexcel_writer\u001b[0m\u001b[1;33m,\u001b[0m\u001b[1;33m\u001b[0m\u001b[1;33m\u001b[0m\u001b[0m\n\u001b[0;32m   2028\u001b[0m             \u001b[0msheet_name\u001b[0m\u001b[1;33m=\u001b[0m\u001b[0msheet_name\u001b[0m\u001b[1;33m,\u001b[0m\u001b[1;33m\u001b[0m\u001b[1;33m\u001b[0m\u001b[0m\n",
      "\u001b[1;32mC:\\ProgramData\\Anaconda3\\lib\\site-packages\\pandas\\io\\formats\\excel.py\u001b[0m in \u001b[0;36mwrite\u001b[1;34m(self, writer, sheet_name, startrow, startcol, freeze_panes, engine)\u001b[0m\n\u001b[0;32m    740\u001b[0m         )\n\u001b[0;32m    741\u001b[0m         \u001b[1;32mif\u001b[0m \u001b[0mneed_save\u001b[0m\u001b[1;33m:\u001b[0m\u001b[1;33m\u001b[0m\u001b[1;33m\u001b[0m\u001b[0m\n\u001b[1;32m--> 742\u001b[1;33m             \u001b[0mwriter\u001b[0m\u001b[1;33m.\u001b[0m\u001b[0msave\u001b[0m\u001b[1;33m(\u001b[0m\u001b[1;33m)\u001b[0m\u001b[1;33m\u001b[0m\u001b[1;33m\u001b[0m\u001b[0m\n\u001b[0m",
      "\u001b[1;32mC:\\ProgramData\\Anaconda3\\lib\\site-packages\\pandas\\io\\excel\\_xlwt.py\u001b[0m in \u001b[0;36msave\u001b[1;34m(self)\u001b[0m\n\u001b[0;32m     30\u001b[0m         \u001b[0mSave\u001b[0m \u001b[0mworkbook\u001b[0m \u001b[0mto\u001b[0m \u001b[0mdisk\u001b[0m\u001b[1;33m.\u001b[0m\u001b[1;33m\u001b[0m\u001b[1;33m\u001b[0m\u001b[0m\n\u001b[0;32m     31\u001b[0m         \"\"\"\n\u001b[1;32m---> 32\u001b[1;33m         \u001b[1;32mreturn\u001b[0m \u001b[0mself\u001b[0m\u001b[1;33m.\u001b[0m\u001b[0mbook\u001b[0m\u001b[1;33m.\u001b[0m\u001b[0msave\u001b[0m\u001b[1;33m(\u001b[0m\u001b[0mself\u001b[0m\u001b[1;33m.\u001b[0m\u001b[0mpath\u001b[0m\u001b[1;33m)\u001b[0m\u001b[1;33m\u001b[0m\u001b[1;33m\u001b[0m\u001b[0m\n\u001b[0m\u001b[0;32m     33\u001b[0m \u001b[1;33m\u001b[0m\u001b[0m\n\u001b[0;32m     34\u001b[0m     def write_cells(\n",
      "\u001b[1;32mC:\\ProgramData\\Anaconda3\\lib\\site-packages\\xlwt\\Workbook.py\u001b[0m in \u001b[0;36msave\u001b[1;34m(self, filename_or_stream)\u001b[0m\n\u001b[0;32m    708\u001b[0m \u001b[1;33m\u001b[0m\u001b[0m\n\u001b[0;32m    709\u001b[0m         \u001b[0mdoc\u001b[0m \u001b[1;33m=\u001b[0m \u001b[0mCompoundDoc\u001b[0m\u001b[1;33m.\u001b[0m\u001b[0mXlsDoc\u001b[0m\u001b[1;33m(\u001b[0m\u001b[1;33m)\u001b[0m\u001b[1;33m\u001b[0m\u001b[1;33m\u001b[0m\u001b[0m\n\u001b[1;32m--> 710\u001b[1;33m         \u001b[0mdoc\u001b[0m\u001b[1;33m.\u001b[0m\u001b[0msave\u001b[0m\u001b[1;33m(\u001b[0m\u001b[0mfilename_or_stream\u001b[0m\u001b[1;33m,\u001b[0m \u001b[0mself\u001b[0m\u001b[1;33m.\u001b[0m\u001b[0mget_biff_data\u001b[0m\u001b[1;33m(\u001b[0m\u001b[1;33m)\u001b[0m\u001b[1;33m)\u001b[0m\u001b[1;33m\u001b[0m\u001b[1;33m\u001b[0m\u001b[0m\n\u001b[0m\u001b[0;32m    711\u001b[0m \u001b[1;33m\u001b[0m\u001b[0m\n\u001b[0;32m    712\u001b[0m \u001b[1;33m\u001b[0m\u001b[0m\n",
      "\u001b[1;32mC:\\ProgramData\\Anaconda3\\lib\\site-packages\\xlwt\\CompoundDoc.py\u001b[0m in \u001b[0;36msave\u001b[1;34m(self, file_name_or_filelike_obj, stream)\u001b[0m\n\u001b[0;32m    260\u001b[0m         \u001b[0mwe_own_it\u001b[0m \u001b[1;33m=\u001b[0m \u001b[1;32mnot\u001b[0m \u001b[0mhasattr\u001b[0m\u001b[1;33m(\u001b[0m\u001b[0mf\u001b[0m\u001b[1;33m,\u001b[0m \u001b[1;34m'write'\u001b[0m\u001b[1;33m)\u001b[0m\u001b[1;33m\u001b[0m\u001b[1;33m\u001b[0m\u001b[0m\n\u001b[0;32m    261\u001b[0m         \u001b[1;32mif\u001b[0m \u001b[0mwe_own_it\u001b[0m\u001b[1;33m:\u001b[0m\u001b[1;33m\u001b[0m\u001b[1;33m\u001b[0m\u001b[0m\n\u001b[1;32m--> 262\u001b[1;33m             \u001b[0mf\u001b[0m \u001b[1;33m=\u001b[0m \u001b[0mopen\u001b[0m\u001b[1;33m(\u001b[0m\u001b[0mfile_name_or_filelike_obj\u001b[0m\u001b[1;33m,\u001b[0m \u001b[1;34m'w+b'\u001b[0m\u001b[1;33m)\u001b[0m\u001b[1;33m\u001b[0m\u001b[1;33m\u001b[0m\u001b[0m\n\u001b[0m\u001b[0;32m    263\u001b[0m         \u001b[0mf\u001b[0m\u001b[1;33m.\u001b[0m\u001b[0mwrite\u001b[0m\u001b[1;33m(\u001b[0m\u001b[0mself\u001b[0m\u001b[1;33m.\u001b[0m\u001b[0mheader\u001b[0m\u001b[1;33m)\u001b[0m\u001b[1;33m\u001b[0m\u001b[1;33m\u001b[0m\u001b[0m\n\u001b[0;32m    264\u001b[0m         \u001b[0mf\u001b[0m\u001b[1;33m.\u001b[0m\u001b[0mwrite\u001b[0m\u001b[1;33m(\u001b[0m\u001b[0mself\u001b[0m\u001b[1;33m.\u001b[0m\u001b[0mpacked_MSAT_1st\u001b[0m\u001b[1;33m)\u001b[0m\u001b[1;33m\u001b[0m\u001b[1;33m\u001b[0m\u001b[0m\n",
      "\u001b[1;31mPermissionError\u001b[0m: [Errno 13] Permission denied: 'report.xls'"
     ]
    }
   ],
   "source": []
  },
  {
   "cell_type": "code",
   "execution_count": 5,
   "metadata": {},
   "outputs": [
    {
     "ename": "AttributeError",
     "evalue": "module 'os' has no attribute 'cwd'",
     "output_type": "error",
     "traceback": [
      "\u001b[1;31m---------------------------------------------------------------------------\u001b[0m",
      "\u001b[1;31mAttributeError\u001b[0m                            Traceback (most recent call last)",
      "\u001b[1;32m<ipython-input-5-5925e704f416>\u001b[0m in \u001b[0;36m<module>\u001b[1;34m\u001b[0m\n\u001b[0;32m      1\u001b[0m \u001b[1;32mimport\u001b[0m \u001b[0mos\u001b[0m\u001b[1;33m\u001b[0m\u001b[1;33m\u001b[0m\u001b[0m\n\u001b[1;32m----> 2\u001b[1;33m \u001b[0mos\u001b[0m\u001b[1;33m.\u001b[0m\u001b[0mcwd\u001b[0m\u001b[1;33m(\u001b[0m\u001b[1;33m)\u001b[0m\u001b[1;33m\u001b[0m\u001b[1;33m\u001b[0m\u001b[0m\n\u001b[0m",
      "\u001b[1;31mAttributeError\u001b[0m: module 'os' has no attribute 'cwd'"
     ]
    }
   ],
   "source": []
  },
  {
   "cell_type": "code",
   "execution_count": null,
   "metadata": {},
   "outputs": [],
   "source": []
  }
 ],
 "metadata": {
  "kernelspec": {
   "display_name": "Python 3",
   "language": "python",
   "name": "python3"
  },
  "language_info": {
   "codemirror_mode": {
    "name": "ipython",
    "version": 3
   },
   "file_extension": ".py",
   "mimetype": "text/x-python",
   "name": "python",
   "nbconvert_exporter": "python",
   "pygments_lexer": "ipython3",
   "version": "3.8.5"
  }
 },
 "nbformat": 4,
 "nbformat_minor": 4
}
