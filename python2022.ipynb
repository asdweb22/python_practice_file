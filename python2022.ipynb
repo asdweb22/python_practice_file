{
 "cells": [
  {
   "cell_type": "code",
   "execution_count": 1,
   "metadata": {},
   "outputs": [
    {
     "name": "stdout",
     "output_type": "stream",
     "text": [
      "i love python\n",
      "i love java \n",
      "i love django framework\n",
      "i love php\n",
      "\n"
     ]
    }
   ],
   "source": [
    "# print as it is\n",
    "        \n",
    "print('''i love python\n",
    "i love java \n",
    "i love django framework\n",
    "i love php\n",
    "''')"
   ]
  },
  {
   "cell_type": "code",
   "execution_count": 3,
   "metadata": {},
   "outputs": [
    {
     "data": {
      "text/plain": [
       "[2, 4, 6, 8, 10]"
      ]
     },
     "execution_count": 3,
     "metadata": {},
     "output_type": "execute_result"
    }
   ],
   "source": [
    "\n",
    "\n",
    "l1=[i for i in range(1,11) if i%2==0]\n",
    "l1"
   ]
  },
  {
   "cell_type": "code",
   "execution_count": 4,
   "metadata": {},
   "outputs": [
    {
     "data": {
      "text/plain": [
       "[5, 10, 15, 20, 25, 30, 35, 40, 45, 50]"
      ]
     },
     "execution_count": 4,
     "metadata": {},
     "output_type": "execute_result"
    }
   ],
   "source": [
    "\n",
    "\n",
    "l2=[5*i for i in range(1,11)]\n",
    "l2"
   ]
  },
  {
   "cell_type": "code",
   "execution_count": 5,
   "metadata": {},
   "outputs": [
    {
     "name": "stdout",
     "output_type": "stream",
     "text": [
      "Requirement already satisfied: playsound in c:\\programdata\\anaconda3\\lib\\site-packages (1.3.0)\n",
      "Note: you may need to restart the kernel to use updated packages.\n"
     ]
    }
   ],
   "source": [
    "pip install playsound\n"
   ]
  },
  {
   "cell_type": "code",
   "execution_count": 2,
   "metadata": {},
   "outputs": [
    {
     "ename": "KeyboardInterrupt",
     "evalue": "",
     "output_type": "error",
     "traceback": [
      "\u001b[1;31m---------------------------------------------------------------------------\u001b[0m",
      "\u001b[1;31mKeyboardInterrupt\u001b[0m                         Traceback (most recent call last)",
      "\u001b[1;32m<ipython-input-2-b26819822569>\u001b[0m in \u001b[0;36m<module>\u001b[1;34m\u001b[0m\n\u001b[0;32m      1\u001b[0m \u001b[1;32mfrom\u001b[0m \u001b[0mplaysound\u001b[0m \u001b[1;32mimport\u001b[0m \u001b[0mplaysound\u001b[0m\u001b[1;33m\u001b[0m\u001b[1;33m\u001b[0m\u001b[0m\n\u001b[1;32m----> 2\u001b[1;33m \u001b[0mplaysound\u001b[0m\u001b[1;33m(\u001b[0m\u001b[1;34m'C:\\\\Users\\\\aksha\\\\song1.mp3'\u001b[0m\u001b[1;33m)\u001b[0m\u001b[1;33m\u001b[0m\u001b[1;33m\u001b[0m\u001b[0m\n\u001b[0m",
      "\u001b[1;32mC:\\ProgramData\\Anaconda3\\lib\\site-packages\\playsound.py\u001b[0m in \u001b[0;36m_playsoundWin\u001b[1;34m(sound, block)\u001b[0m\n\u001b[0;32m     71\u001b[0m         \u001b[0mlogger\u001b[0m\u001b[1;33m.\u001b[0m\u001b[0mdebug\u001b[0m\u001b[1;33m(\u001b[0m\u001b[1;34m'Starting'\u001b[0m\u001b[1;33m)\u001b[0m\u001b[1;33m\u001b[0m\u001b[1;33m\u001b[0m\u001b[0m\n\u001b[0;32m     72\u001b[0m         \u001b[0mwinCommand\u001b[0m\u001b[1;33m(\u001b[0m\u001b[1;34mu'open {}'\u001b[0m\u001b[1;33m.\u001b[0m\u001b[0mformat\u001b[0m\u001b[1;33m(\u001b[0m\u001b[0msound\u001b[0m\u001b[1;33m)\u001b[0m\u001b[1;33m)\u001b[0m\u001b[1;33m\u001b[0m\u001b[1;33m\u001b[0m\u001b[0m\n\u001b[1;32m---> 73\u001b[1;33m         \u001b[0mwinCommand\u001b[0m\u001b[1;33m(\u001b[0m\u001b[1;34mu'play {}{}'\u001b[0m\u001b[1;33m.\u001b[0m\u001b[0mformat\u001b[0m\u001b[1;33m(\u001b[0m\u001b[0msound\u001b[0m\u001b[1;33m,\u001b[0m \u001b[1;34m' wait'\u001b[0m \u001b[1;32mif\u001b[0m \u001b[0mblock\u001b[0m \u001b[1;32melse\u001b[0m \u001b[1;34m''\u001b[0m\u001b[1;33m)\u001b[0m\u001b[1;33m)\u001b[0m\u001b[1;33m\u001b[0m\u001b[1;33m\u001b[0m\u001b[0m\n\u001b[0m\u001b[0;32m     74\u001b[0m         \u001b[0mlogger\u001b[0m\u001b[1;33m.\u001b[0m\u001b[0mdebug\u001b[0m\u001b[1;33m(\u001b[0m\u001b[1;34m'Returning'\u001b[0m\u001b[1;33m)\u001b[0m\u001b[1;33m\u001b[0m\u001b[1;33m\u001b[0m\u001b[0m\n\u001b[0;32m     75\u001b[0m     \u001b[1;32mfinally\u001b[0m\u001b[1;33m:\u001b[0m\u001b[1;33m\u001b[0m\u001b[1;33m\u001b[0m\u001b[0m\n",
      "\u001b[1;32mC:\\ProgramData\\Anaconda3\\lib\\site-packages\\playsound.py\u001b[0m in \u001b[0;36mwinCommand\u001b[1;34m(*command)\u001b[0m\n\u001b[0;32m     54\u001b[0m         \u001b[0mbuf\u001b[0m \u001b[1;33m=\u001b[0m \u001b[0mc_buffer\u001b[0m\u001b[1;33m(\u001b[0m\u001b[0mbufLen\u001b[0m\u001b[1;33m)\u001b[0m\u001b[1;33m\u001b[0m\u001b[1;33m\u001b[0m\u001b[0m\n\u001b[0;32m     55\u001b[0m         \u001b[0mcommand\u001b[0m \u001b[1;33m=\u001b[0m \u001b[1;34m' '\u001b[0m\u001b[1;33m.\u001b[0m\u001b[0mjoin\u001b[0m\u001b[1;33m(\u001b[0m\u001b[0mcommand\u001b[0m\u001b[1;33m)\u001b[0m\u001b[1;33m.\u001b[0m\u001b[0mencode\u001b[0m\u001b[1;33m(\u001b[0m\u001b[1;34m'utf-16'\u001b[0m\u001b[1;33m)\u001b[0m\u001b[1;33m\u001b[0m\u001b[1;33m\u001b[0m\u001b[0m\n\u001b[1;32m---> 56\u001b[1;33m         \u001b[0merrorCode\u001b[0m \u001b[1;33m=\u001b[0m \u001b[0mint\u001b[0m\u001b[1;33m(\u001b[0m\u001b[0mwindll\u001b[0m\u001b[1;33m.\u001b[0m\u001b[0mwinmm\u001b[0m\u001b[1;33m.\u001b[0m\u001b[0mmciSendStringW\u001b[0m\u001b[1;33m(\u001b[0m\u001b[0mcommand\u001b[0m\u001b[1;33m,\u001b[0m \u001b[0mbuf\u001b[0m\u001b[1;33m,\u001b[0m \u001b[0mbufLen\u001b[0m \u001b[1;33m-\u001b[0m \u001b[1;36m1\u001b[0m\u001b[1;33m,\u001b[0m \u001b[1;36m0\u001b[0m\u001b[1;33m)\u001b[0m\u001b[1;33m)\u001b[0m  \u001b[1;31m# use widestring version of the function\u001b[0m\u001b[1;33m\u001b[0m\u001b[1;33m\u001b[0m\u001b[0m\n\u001b[0m\u001b[0;32m     57\u001b[0m         \u001b[1;32mif\u001b[0m \u001b[0merrorCode\u001b[0m\u001b[1;33m:\u001b[0m\u001b[1;33m\u001b[0m\u001b[1;33m\u001b[0m\u001b[0m\n\u001b[0;32m     58\u001b[0m             \u001b[0merrorBuffer\u001b[0m \u001b[1;33m=\u001b[0m \u001b[0mc_buffer\u001b[0m\u001b[1;33m(\u001b[0m\u001b[0mbufLen\u001b[0m\u001b[1;33m)\u001b[0m\u001b[1;33m\u001b[0m\u001b[1;33m\u001b[0m\u001b[0m\n",
      "\u001b[1;31mKeyboardInterrupt\u001b[0m: "
     ]
    }
   ],
   "source": [
    "# from playsound import playsound\n",
    "# playsound('C:\\\\Users\\\\aksha\\\\song1.mp3')"
   ]
  },
  {
   "cell_type": "code",
   "execution_count": 3,
   "metadata": {},
   "outputs": [
    {
     "name": "stdout",
     "output_type": "stream",
     "text": [
      "['.android', '.angular-config.json', '.appletviewer', '.cache', '.conda', '.condarc', '.config', '.dotnet', '.eclipse', '.gitconfig', '.gradle', '.idlerc', '.ipynb_checkpoints', '.ipython', '.jupyter', '.kivy', '.matplotlib', '.node_repl_history', '.p2', '.pipwin', '.python_history', '.spyder-py3', '.templateengine', '.tooling', '.vscode', '1.txt', '2.txt', '3.txt', '3D Objects', 'Akshay.csv', 'AMBUJACEM.csv', 'AndroidStudioProjects', 'AppData', 'Application Data', 'asd.ipynb', 'asd.txt', 'ASD_PYTHON_PRO.ipynb', 'binaryfile.txt', 'Book1.xlsx', 'calculator.png', 'Calculator1.ico', 'college_pract_prog.ipynb', 'config.ini', 'Contacts', 'Cookies', 'data.csv', 'data.pickle', 'data.txt', 'data5.csv', 'database_connection_prog.ipynb', 'demofile.txt', 'demofile1.txt', 'demofile3.txt', 'details.csv', 'Documents', 'Downloads', 'eclipse', 'eclipse-workspace', 'eclipse-workspace1', 'empdata.csv', 'Employee.csv', 'Envs', 'Favorites', 'friends.csv', 'friends.txt', 'Ganesha.jpg', 'Ganesha2.jpg', 'images', 'instruments.csv', 'IntelGraphicsProfiles', 'juhi22.csv', 'Links', 'Local Settings', 'logo.png', 'marks.csv', 'MicrosoftEdgeBackups', 'Music', 'My Documents', 'myfile.txt', 'myfile1.csv', 'NetHood', 'notepad2.ico', 'NSE.csv', 'NSE_EXCHANGE_TOKEN_ALL_data.csv', 'NTUSER.DAT', 'ntuser.dat.LOG1', 'ntuser.dat.LOG2', 'NTUSER.DAT{225580c9-4136-11eb-9696-a4ae54cad1ac}.TxR.0.regtrans-ms', 'NTUSER.DAT{225580c9-4136-11eb-9696-a4ae54cad1ac}.TxR.1.regtrans-ms', 'NTUSER.DAT{225580c9-4136-11eb-9696-a4ae54cad1ac}.TxR.2.regtrans-ms', 'NTUSER.DAT{225580c9-4136-11eb-9696-a4ae54cad1ac}.TxR.blf', 'NTUSER.DAT{225580ca-4136-11eb-9696-a4ae54cad1ac}.TM.blf', 'NTUSER.DAT{225580ca-4136-11eb-9696-a4ae54cad1ac}.TMContainer00000000000000000001.regtrans-ms', 'NTUSER.DAT{225580ca-4136-11eb-9696-a4ae54cad1ac}.TMContainer00000000000000000002.regtrans-ms', 'ntuser.ini', 'OneDrive', 'pandas_practice.ipynb', 'pipwin', 'practice.ipynb', 'PrintHood', 'program list.ipynb', 'project_python.ipynb', 'PycharmProjects', 'python2022.ipynb', 'python_lab_assignment_RN-5.ipynb', 'python_lab_exercise(asd).ipynb', 'python_practice_lockdown2 .ipynb', 'python_pract_9-8-2021.ipynb', 'python_pract_lockdown2.ipynb', 'python_pro_2021.ipynb', 'pywhatkit_dbs.txt', 'qb.csv', 'Recent', 'report.xls', 'sample.csv', 'sample.csv.xlsx', 'Saved Games', 'seaborn-data', 'Searches', 'SendTo', 'simplefile.txt', 'song1.mp3', 'source', 'sresult.csv', 'Start Menu', 'survey_results_public.csv', 'survey_results_schema.csv', 'TANGO', 'Templates', 'titu.txt', 'tkinterdata.txt', 'tkinterrate.csv', 'Tkinter_application.ipynb', 'tkinter_data.txt', 'Tradehull_task.ipynb', 'Untitled.ipynb', 'Untitled1.ipynb', 'Untitled10.ipynb', 'Untitled11.ipynb', 'Untitled12.ipynb', 'Untitled2.ipynb', 'Untitled3.ipynb', 'Untitled4.ipynb', 'Untitled5.ipynb', 'Untitled6.ipynb', 'Untitled7.ipynb', 'Untitled8.ipynb', 'Untitled9.ipynb', 'Videos', '~$sample.csv.xlsx']\n"
     ]
    }
   ],
   "source": [
    "import os\n",
    "\n",
    "print(os.listdir())"
   ]
  },
  {
   "cell_type": "code",
   "execution_count": 5,
   "metadata": {},
   "outputs": [
    {
     "data": {
      "text/plain": [
       "'\"Akshay\"'"
      ]
     },
     "execution_count": 5,
     "metadata": {},
     "output_type": "execute_result"
    }
   ],
   "source": [
    "name='''\"Akshay\"'''\n",
    "name"
   ]
  },
  {
   "cell_type": "code",
   "execution_count": 6,
   "metadata": {},
   "outputs": [
    {
     "data": {
      "text/plain": [
       "str"
      ]
     },
     "execution_count": 6,
     "metadata": {},
     "output_type": "execute_result"
    }
   ],
   "source": [
    "type(name)"
   ]
  },
  {
   "cell_type": "code",
   "execution_count": 7,
   "metadata": {},
   "outputs": [
    {
     "data": {
      "text/plain": [
       "2978907352496"
      ]
     },
     "execution_count": 7,
     "metadata": {},
     "output_type": "execute_result"
    }
   ],
   "source": [
    "id(name)"
   ]
  },
  {
   "cell_type": "code",
   "execution_count": 10,
   "metadata": {},
   "outputs": [
    {
     "name": "stdout",
     "output_type": "stream",
     "text": [
      "Enter no15\n",
      "Enter no25\n"
     ]
    },
    {
     "data": {
      "text/plain": [
       "5.0"
      ]
     },
     "execution_count": 10,
     "metadata": {},
     "output_type": "execute_result"
    }
   ],
   "source": [
    "a=int(input(\"Enter no1\"))\n",
    "b=int(input(\"Enter no2\"))\n",
    "r=(a+b)/2\n",
    "r"
   ]
  },
  {
   "cell_type": "code",
   "execution_count": 11,
   "metadata": {},
   "outputs": [
    {
     "data": {
      "text/plain": [
       "'\"'"
      ]
     },
     "execution_count": 11,
     "metadata": {},
     "output_type": "execute_result"
    }
   ],
   "source": [
    "name[0]"
   ]
  },
  {
   "cell_type": "code",
   "execution_count": 12,
   "metadata": {},
   "outputs": [
    {
     "data": {
      "text/plain": [
       "'r'"
      ]
     },
     "execution_count": 12,
     "metadata": {},
     "output_type": "execute_result"
    }
   ],
   "source": [
    "nm1=\"Suraj\"\n",
    "nm1[2]"
   ]
  },
  {
   "cell_type": "code",
   "execution_count": 14,
   "metadata": {},
   "outputs": [
    {
     "data": {
      "text/plain": [
       "5"
      ]
     },
     "execution_count": 14,
     "metadata": {},
     "output_type": "execute_result"
    }
   ],
   "source": [
    "len(nm1)"
   ]
  },
  {
   "cell_type": "code",
   "execution_count": 15,
   "metadata": {},
   "outputs": [
    {
     "data": {
      "text/plain": [
       "'a'"
      ]
     },
     "execution_count": 15,
     "metadata": {},
     "output_type": "execute_result"
    }
   ],
   "source": [
    "nm1[3]"
   ]
  },
  {
   "cell_type": "code",
   "execution_count": 17,
   "metadata": {},
   "outputs": [
    {
     "name": "stdout",
     "output_type": "stream",
     "text": [
      "SURAJ\n"
     ]
    }
   ],
   "source": [
    "print(nm1.upper())"
   ]
  },
  {
   "cell_type": "code",
   "execution_count": 18,
   "metadata": {},
   "outputs": [
    {
     "data": {
      "text/plain": [
       "'ur'"
      ]
     },
     "execution_count": 18,
     "metadata": {},
     "output_type": "execute_result"
    }
   ],
   "source": [
    "nm1[1:3]"
   ]
  },
  {
   "cell_type": "code",
   "execution_count": 24,
   "metadata": {},
   "outputs": [
    {
     "name": "stdout",
     "output_type": "stream",
     "text": [
      "110\n",
      "python is high level \n",
      "object oriented \n",
      "general purpose programming language\n",
      "developed by guido van rossom 1989\n",
      "PYTHON IS HIGH LEVEL \n",
      "OBJECT ORIENTED \n",
      "GENERAL PURPOSE PROGRAMMING LANGUAGE\n",
      "DEVELOPED BY GUIDO VAN ROSSOM 1989\n",
      "Python is high level \n",
      "object oriented \n",
      "general purpose programming language\n",
      "developed by guido van rossom 1989\n",
      "9\n",
      "1\n",
      "22\n",
      "python is high level \n",
      "object oriented \n",
      "general purpose programming language\n",
      "developed by guido van rossom 1989\n"
     ]
    }
   ],
   "source": [
    "story='''python is high level \n",
    "object oriented \n",
    "general purpose programming language\n",
    "developed by guido van rossom 1989'''\n",
    "\n",
    "print(len(story))\n",
    "print(story.lower())\n",
    "print(story.upper())\n",
    "print(story.capitalize())\n",
    "print(story.count(\"o\"))\n",
    "print(story.count(\"python\"))\n",
    "print(story.find(\"object\"))\n",
    "print(story.replace(\"php\",\"python\"))"
   ]
  },
  {
   "cell_type": "code",
   "execution_count": 26,
   "metadata": {},
   "outputs": [
    {
     "name": "stdout",
     "output_type": "stream",
     "text": [
      "Enter your nameyash\n",
      "Good morning yash\n"
     ]
    }
   ],
   "source": [
    "name=input(\"Enter your name\")\n",
    "\n",
    "print(\"Good morning\",name)"
   ]
  },
  {
   "cell_type": "code",
   "execution_count": 44,
   "metadata": {},
   "outputs": [
    {
     "name": "stdout",
     "output_type": "stream",
     "text": [
      "Enter your namepp\n",
      "Dear pp,\n",
      "    you have been invited in our master class python program link will share with you soon \n",
      "    make sure available your self tomorrow 7.00pm\n",
      "    this session is very helpful for your professional python journey \n",
      "\n",
      "Thanks and Regards \n",
      "Abc company\n"
     ]
    }
   ],
   "source": [
    "# created customize letter created\n",
    "\n",
    "\n",
    "name=input(\"Enter your name\")\n",
    "letter=f'''Dear {name},\n",
    "    you have been invited in our master class python program link will share with you soon \n",
    "    make sure available your self tomorrow 7.00pm\n",
    "    this session is very helpful for your professional python journey \n",
    "\n",
    "Thanks and Regards \n",
    "Abc company'''\n",
    "\n",
    "print(letter)\n"
   ]
  },
  {
   "cell_type": "code",
   "execution_count": 31,
   "metadata": {},
   "outputs": [
    {
     "name": "stdout",
     "output_type": "stream",
     "text": [
      "5\n"
     ]
    }
   ],
   "source": [
    "# check double space in string (index value returns otherwise -1)\n",
    "cds='''hello  i am akshay'''\n",
    "\n",
    "print(cds.find(\"  \"))"
   ]
  },
  {
   "cell_type": "code",
   "execution_count": 32,
   "metadata": {},
   "outputs": [
    {
     "name": "stdout",
     "output_type": "stream",
     "text": [
      "hello i am akshay\n"
     ]
    }
   ],
   "source": [
    "# replace double spaces with single spaces\n",
    "cds=cds.replace(\"  \",\" \")\n",
    "print(cds)"
   ]
  },
  {
   "cell_type": "code",
   "execution_count": 45,
   "metadata": {},
   "outputs": [
    {
     "data": {
      "text/plain": [
       "'hello Raj, \\n    in this is python course you will learn complete python from basic to advanced\\nThanks for enrollig !   '"
      ]
     },
     "execution_count": 45,
     "metadata": {},
     "output_type": "execute_result"
    }
   ],
   "source": [
    "# print letter using escape sequence characters\n",
    "\n",
    "myletter='''hello Raj, \n",
    "    in this is python course you will learn complete python from basic to advanced\n",
    "Thanks for enrollig !   '''\n",
    "\n",
    "\n",
    "myletter"
   ]
  },
  {
   "cell_type": "code",
   "execution_count": 49,
   "metadata": {},
   "outputs": [
    {
     "data": {
      "text/plain": [
       "30"
      ]
     },
     "execution_count": 49,
     "metadata": {},
     "output_type": "execute_result"
    }
   ],
   "source": [
    "l1=[10,20,30,40,50,\"raj\",2.5,True]\n",
    "\n",
    "l1[2]\n"
   ]
  },
  {
   "cell_type": "code",
   "execution_count": 51,
   "metadata": {},
   "outputs": [
    {
     "data": {
      "text/plain": [
       "[40, 50, 'raj', 2.5]"
      ]
     },
     "execution_count": 51,
     "metadata": {},
     "output_type": "execute_result"
    }
   ],
   "source": [
    "# slicing in list\n",
    "l1[-5:-1]"
   ]
  },
  {
   "cell_type": "code",
   "execution_count": 53,
   "metadata": {},
   "outputs": [
    {
     "data": {
      "text/plain": [
       "[10, 20, 30, 40, 50, 'raj', 2.5, True, 'sagar']"
      ]
     },
     "execution_count": 53,
     "metadata": {},
     "output_type": "execute_result"
    }
   ],
   "source": [
    "l1.append(\"sagar\")\n",
    "l1"
   ]
  },
  {
   "cell_type": "code",
   "execution_count": 56,
   "metadata": {},
   "outputs": [
    {
     "data": {
      "text/plain": [
       "[8, 9, 29, 44, 45, 50, 60, 78, 98, 630]"
      ]
     },
     "execution_count": 56,
     "metadata": {},
     "output_type": "execute_result"
    }
   ],
   "source": [
    "l2=[60,50,9,8,630,45,78,98,29,44]\n",
    "l2.sort()\n",
    "l2"
   ]
  },
  {
   "cell_type": "code",
   "execution_count": 61,
   "metadata": {},
   "outputs": [
    {
     "data": {
      "text/plain": [
       "['sagar', True, 2.5, 'raj', 50, 40, 30, 20, 10]"
      ]
     },
     "execution_count": 61,
     "metadata": {},
     "output_type": "execute_result"
    }
   ],
   "source": [
    "l1.reverse()\n",
    "l1\n"
   ]
  },
  {
   "cell_type": "code",
   "execution_count": 63,
   "metadata": {},
   "outputs": [
    {
     "data": {
      "text/plain": [
       "[8, 9, 5, 29, 44, 45, 50, 60, 78, 98, 630]"
      ]
     },
     "execution_count": 63,
     "metadata": {},
     "output_type": "execute_result"
    }
   ],
   "source": [
    "l2.insert(2,5)\n",
    "l2"
   ]
  },
  {
   "cell_type": "code",
   "execution_count": 64,
   "metadata": {},
   "outputs": [
    {
     "data": {
      "text/plain": [
       "[8, 9, 5, 29, 44, 45, 50, 60, 78, 98]"
      ]
     },
     "execution_count": 64,
     "metadata": {},
     "output_type": "execute_result"
    }
   ],
   "source": [
    "l2.pop()\n",
    "l2"
   ]
  },
  {
   "cell_type": "code",
   "execution_count": 66,
   "metadata": {},
   "outputs": [
    {
     "data": {
      "text/plain": [
       "[8, 9, 5, 29, 45, 50, 60, 78, 98]"
      ]
     },
     "execution_count": 66,
     "metadata": {},
     "output_type": "execute_result"
    }
   ],
   "source": [
    "l2.pop(4)\n",
    "l2"
   ]
  },
  {
   "cell_type": "code",
   "execution_count": 67,
   "metadata": {},
   "outputs": [
    {
     "data": {
      "text/plain": [
       "[8, 9, 29, 45, 50, 60, 78, 98]"
      ]
     },
     "execution_count": 67,
     "metadata": {},
     "output_type": "execute_result"
    }
   ],
   "source": [
    "l2.remove(5)\n",
    "l2"
   ]
  },
  {
   "cell_type": "code",
   "execution_count": 68,
   "metadata": {},
   "outputs": [
    {
     "data": {
      "text/plain": [
       "(10, 20, 54, 0, 65, 87, 50, 63, 98)"
      ]
     },
     "execution_count": 68,
     "metadata": {},
     "output_type": "execute_result"
    }
   ],
   "source": [
    "tup1=(10,20,54,0,65,87,50,63,98)\n",
    "tup1"
   ]
  },
  {
   "cell_type": "code",
   "execution_count": 69,
   "metadata": {},
   "outputs": [
    {
     "data": {
      "text/plain": [
       "1"
      ]
     },
     "execution_count": 69,
     "metadata": {},
     "output_type": "execute_result"
    }
   ],
   "source": [
    "tup1.count(10)"
   ]
  },
  {
   "cell_type": "code",
   "execution_count": 73,
   "metadata": {},
   "outputs": [
    {
     "data": {
      "text/plain": [
       "8"
      ]
     },
     "execution_count": 73,
     "metadata": {},
     "output_type": "execute_result"
    }
   ],
   "source": [
    "tup1.index(98)"
   ]
  },
  {
   "cell_type": "code",
   "execution_count": 76,
   "metadata": {},
   "outputs": [
    {
     "name": "stdout",
     "output_type": "stream",
     "text": [
      "*\n",
      "**\n",
      "***\n",
      "****\n"
     ]
    }
   ],
   "source": [
    "for i in range(4):\n",
    "    print(\"*\" * (i+1))"
   ]
  },
  {
   "cell_type": "code",
   "execution_count": 80,
   "metadata": {},
   "outputs": [
    {
     "data": {
      "text/plain": [
       "6"
      ]
     },
     "execution_count": 80,
     "metadata": {},
     "output_type": "execute_result"
    }
   ],
   "source": [
    "# factorial\n",
    "# 1*2*3*4*5\n",
    "\n",
    "\n",
    "\n",
    "def fact(n):\n",
    "    f=1\n",
    "    for i in range(1,n+1):\n",
    "        f=f*i \n",
    "    return f \n",
    "\n",
    "fact(3)"
   ]
  },
  {
   "cell_type": "code",
   "execution_count": 85,
   "metadata": {},
   "outputs": [
    {
     "name": "stdout",
     "output_type": "stream",
     "text": [
      "number is not prime\n"
     ]
    }
   ],
   "source": [
    "def prime(n):\n",
    "    p=True\n",
    "    for i in range(2,n):\n",
    "        if n%i==0:\n",
    "            p=False\n",
    "            break\n",
    "            \n",
    "    if p:\n",
    "        print(\"number is prime\")\n",
    "    else:\n",
    "        print(\"number is not prime\")\n",
    "        \n",
    "prime(6)        "
   ]
  },
  {
   "cell_type": "code",
   "execution_count": 7,
   "metadata": {},
   "outputs": [],
   "source": [
    "# multiplication tables created 2-20 \n",
    "\n",
    "for i in range(2,21):\n",
    "    with open(f\"F:/python_prog/tables/Multiplication_table_of_{i}.txt\",\"w\") as f:\n",
    "        for j in range(1,11):\n",
    "            f.write(f\"{i}X{j}={i*j}\\n\")\n",
    "    \n",
    "    "
   ]
  },
  {
   "cell_type": "code",
   "execution_count": 16,
   "metadata": {},
   "outputs": [
    {
     "name": "stdout",
     "output_type": "stream",
     "text": [
      "prime numbers list  [2, 3, 5, 7, 11, 13, 17, 19, 23, 29, 31, 37, 41, 43, 47]\n"
     ]
    }
   ],
   "source": [
    "# prime numbers divisible by 1 and itself\n",
    "\n",
    "pnl=[]\n",
    "\n",
    "for i in range(2,50):\n",
    "    prime=True\n",
    "    for j in range(2,i):\n",
    "        if i%j==0:\n",
    "            prime=False\n",
    "            \n",
    "    if prime:\n",
    "        pnl.append(i)\n",
    "print(\"prime numbers list \",pnl)    "
   ]
  },
  {
   "cell_type": "code",
   "execution_count": 18,
   "metadata": {},
   "outputs": [],
   "source": [
    "with open(\"F:/python_prog/mysamplefile.txt\",\"w\") as f:\n",
    "    f.write(\"I love python \\n\")\n",
    "\n",
    "\n",
    "    \n",
    "    "
   ]
  },
  {
   "cell_type": "code",
   "execution_count": 19,
   "metadata": {},
   "outputs": [
    {
     "data": {
      "text/plain": [
       "'I love python \\n'"
      ]
     },
     "execution_count": 19,
     "metadata": {},
     "output_type": "execute_result"
    }
   ],
   "source": [
    "# updating file\n",
    "\n",
    "with open(\"F:/python_prog/mysamplefile.txt\") as f:\n",
    "    content=f.read()\n",
    "\n",
    "print(content)    \n",
    "content=content.replace(\"python\",\"php\")\n",
    "\n",
    "\n",
    "with open(\"F:/python_prog/mysamplefile.txt\",\"w\") as f:\n",
    "    f.write(content)"
   ]
  },
  {
   "cell_type": "code",
   "execution_count": 25,
   "metadata": {},
   "outputs": [
    {
     "name": "stdout",
     "output_type": "stream",
     "text": [
      "yes\n"
     ]
    }
   ],
   "source": [
    "# checking data is matching or not with case sensitive\n",
    "\n",
    "story='''yes i love PYTHON language\n",
    "yes i love java language \n",
    "yes i love web development \n",
    "yes i love django\n",
    "yes i love php\n",
    "yes i love photoshop\n",
    "yes i love coding\n",
    "yes i love to solve real world problems'''\n",
    "\n",
    "\n",
    "if 'python' in story.lower():\n",
    "    print(\"yes\")\n",
    "else:\n",
    "    print(\"no\")"
   ]
  },
  {
   "cell_type": "code",
   "execution_count": 26,
   "metadata": {},
   "outputs": [
    {
     "data": {
      "text/plain": [
       "'yes i love PYTHON language\\nyes i love java language \\nyes i love web development \\nyes i love django\\nyes i love php\\nyes i love photoshop\\nyes i love coding\\nyes i love to solve real world problems'"
      ]
     },
     "execution_count": 26,
     "metadata": {},
     "output_type": "execute_result"
    }
   ],
   "source": [
    "story"
   ]
  },
  {
   "cell_type": "code",
   "execution_count": 7,
   "metadata": {},
   "outputs": [
    {
     "name": "stdout",
     "output_type": "stream",
     "text": [
      "25000\n",
      "30000\n"
     ]
    }
   ],
   "source": [
    "# oops\n",
    "\n",
    "class Employee:\n",
    "    company=\"Google\"\n",
    "    salary=25000\n",
    "    \n",
    "    \n",
    "ajay=Employee()\n",
    "suresh=Employee()\n",
    "\n",
    "suresh.company\n",
    "ajay.company\n",
    "\n",
    "Employee.company=\"Asd_industries\"   #changing class attribute\n",
    "\n",
    "ajay.company\n",
    "\n",
    "print(ajay.salary)  #default salary has been applied\n",
    "\n",
    "#after creating instance attribute \n",
    "\n",
    "ajay.salary=30000\n",
    "print(\"After allocating special salary to ajay: \",ajay.salary)\n"
   ]
  },
  {
   "cell_type": "code",
   "execution_count": 13,
   "metadata": {},
   "outputs": [
    {
     "name": "stdout",
     "output_type": "stream",
     "text": [
      "Salary is 25000\n"
     ]
    }
   ],
   "source": [
    "#talking about self keyword used for pointing to current object\n",
    "\n",
    "\n",
    "class Emp:\n",
    "    company_nm=\"Google\"\n",
    "    \n",
    "    def getsalary(self):\n",
    "        print(f\"Salary is {self.salary}\")\n",
    "        \n",
    "om=Emp()\n",
    "\n",
    "om.salary=25000\n",
    "om.getsalary()  # Emp.getsalary(om)\n",
    "\n"
   ]
  },
  {
   "cell_type": "code",
   "execution_count": 14,
   "metadata": {},
   "outputs": [
    {
     "name": "stdout",
     "output_type": "stream",
     "text": [
      "Salary is 25000\n",
      "Good morning, sir\n"
     ]
    }
   ],
   "source": [
    "#talking about static method we can direct ca;; without self keyword \n",
    "\n",
    "\n",
    "class Emp:\n",
    "    company_nm=\"Google\"\n",
    "    \n",
    "    def getsalary(self):\n",
    "        print(f\"Salary is {self.salary}\")\n",
    "        \n",
    "    \n",
    "    @staticmethod\n",
    "    def greeting():\n",
    "        print(\"Good morning, sir\")\n",
    "        \n",
    "om=Emp()\n",
    "\n",
    "\n",
    "om.salary=25000\n",
    "om.getsalary()  # Emp.getsalary(om)\n",
    "om.greeting()\n"
   ]
  },
  {
   "cell_type": "code",
   "execution_count": 21,
   "metadata": {},
   "outputs": [
    {
     "name": "stdout",
     "output_type": "stream",
     "text": [
      "----------------------------------------Constructor called--------------------------------------- \n",
      " \n",
      "Employee work started\n",
      "-------------------------------------display function called---------------------------------------- \n",
      "\n",
      "Employee Name : om\n",
      "Employee Salary : 25000\n",
      "Employee Domain : python developer\n",
      "---------------------------------------static function called-------------------------------------- \n",
      "\n",
      "Good morning, sir\n"
     ]
    }
   ],
   "source": [
    "#talking about costructor in python\n",
    "\n",
    "\n",
    "class Emp:\n",
    "    company_nm=\"Google\"\n",
    "    \n",
    "    def __init__(self,nm,sal,domain):\n",
    "        \n",
    "        self.nm=nm\n",
    "        self.sal=sal\n",
    "        self.domain=domain\n",
    "        \n",
    "        print(\"----------------------------------------Constructor called--------------------------------------- \\n \")\n",
    "        print(\"Employee work started\")\n",
    "        \n",
    "    \n",
    "    def display_data(self):\n",
    "        \n",
    "        print(\"-------------------------------------display function called---------------------------------------- \\n\")\n",
    "        print(\"Employee Name :\",self.nm)\n",
    "        print(\"Employee Salary :\",self.sal)\n",
    "        print(\"Employee Domain :\",self.domain)\n",
    "   \n",
    "     \n",
    "    @staticmethod\n",
    "    def greeting():\n",
    "        print(\"---------------------------------------static function called-------------------------------------- \\n\")\n",
    "        print(\"Good morning, sir\")\n",
    "    \n",
    "        \n",
    "om=Emp('om',25000,'python developer')\n",
    "om.display_data()\n",
    "\n",
    "om.greeting()\n"
   ]
  },
  {
   "cell_type": "code",
   "execution_count": 26,
   "metadata": {},
   "outputs": [
    {
     "name": "stdout",
     "output_type": "stream",
     "text": [
      "Sauare of a number is : 81\n",
      "Sauare  root of a number is : 3.0\n",
      "Cube of a number is : 6561\n"
     ]
    }
   ],
   "source": [
    "# create calculator responsible for square suarerrot cube of a number\n",
    "\n",
    "\n",
    "class calculator:\n",
    "    \n",
    "    def __init__(self,num):\n",
    "        self.num=num\n",
    "    \n",
    "    def square(self):\n",
    "        print(\"Sauare of a number is :\",self.num **2)\n",
    "        \n",
    "        \n",
    "    def square_root(self):\n",
    "        print(\"Sauare  root of a number is :\",self.num **0.5)\n",
    "        \n",
    "        \n",
    "\n",
    "        \n",
    "    def cube(self):\n",
    "        print(\"Cube of a number is :\",self.num*self.num **3)\n",
    "        \n",
    "        \n",
    "cal1=calculator(9)        \n",
    "        \n",
    "cal1.square()\n",
    "cal1.square_root()\n",
    "cal1.cube()"
   ]
  },
  {
   "cell_type": "code",
   "execution_count": 32,
   "metadata": {},
   "outputs": [
    {
     "name": "stdout",
     "output_type": "stream",
     "text": [
      "Class attribute : aman\n",
      "instance attribute : simran\n"
     ]
    }
   ],
   "source": [
    "class sample:\n",
    "    a=\"aman\"\n",
    "    \n",
    "\n",
    "obj1=sample()\n",
    "obj1.a=\"simran\"      #due to this class attribute variable will not changed only instance variable changed  \n",
    "\n",
    "print(\"Class attribute :\",sample.a)\n",
    "print(\"instance attribute :\",obj1.a)"
   ]
  },
  {
   "cell_type": "code",
   "execution_count": null,
   "metadata": {},
   "outputs": [],
   "source": [
    "# inheritance      income from multiple sources class income1,income2,income n  \n",
    "# one person accessing other incomes  \n",
    "\n",
    "# 1)single \n",
    "# 2)multiple - ex.1 person(income1,income2)   ex.2 programmer(employee,freelancer)   \n",
    "# 3)multilevel\n",
    "\n",
    "\n",
    "class Mother:\n",
    "    company=\"google\"\n",
    "    \n",
    "    def property1(self):\n",
    "        print(\"2BHK flat \")\n",
    "        \n",
    "        \n",
    "class Father:\n",
    "    company=\"Microsoft\"\n",
    "    \n",
    "    def property1(self):\n",
    "        print(\"2 four wheeler \")\n",
    "        print(\"1 land \")\n",
    "\n",
    "class child (Mother,Father):\n",
    "    def show_data(self):\n",
    "        print(\"i am child class\")\n",
    "        \n",
    "        \n",
    "        \n",
    "\n"
   ]
  },
  {
   "cell_type": "code",
   "execution_count": 37,
   "metadata": {},
   "outputs": [
    {
     "name": "stdout",
     "output_type": "stream",
     "text": [
      "i am Akshay\n",
      "Income first from Infosys - 101  as a \"Employee\"  Rs.80000 \n",
      "Income second from fiver - 2 \"freelancing\"  Rs.50000 \n"
     ]
    }
   ],
   "source": [
    "# multiple inheritance\n",
    "\n",
    "#changing class attribute value   way 1\n",
    "    def change_salary(self,sal):\n",
    "#         self.salary=sal\n",
    "        self.__class__.salary=sal  \n",
    "\n",
    "class Employee:\n",
    "    company1=\"Infosys\"\n",
    "    ecod=101\n",
    "    \n",
    "    def income1_details(self):\n",
    "        print(f\"Income first from {self.company1} - {self.ecod}  as a \\\"Employee\\\"  Rs.80000 \")\n",
    "        \n",
    "        \n",
    "class Freelancer:\n",
    "    company2=\"fiver\"\n",
    "    level=2\n",
    "    \n",
    "    def income2_details(self):\n",
    "        print(f\"Income second from {self.company2} - {self.level} \\\"freelancing\\\"  Rs.50000 \")\n",
    "        \n",
    "\n",
    "class Programmer (Employee,Freelancer):  #priority is first of employee if we trying to access company employee company will print\n",
    "    name=\"Akshay\"\n",
    "    \n",
    "    def show_data(self):\n",
    "        print(f\"i am {self.name}\")\n",
    "        \n",
    "        \n",
    "prog=Programmer()\n",
    "\n",
    "prog.show_data()\n",
    "prog.income1_details()\n",
    "prog.income2_details()\n",
    "        \n"
   ]
  },
  {
   "cell_type": "code",
   "execution_count": 44,
   "metadata": {},
   "outputs": [
    {
     "name": "stdout",
     "output_type": "stream",
     "text": [
      "25000\n",
      "35000\n",
      "35000\n"
     ]
    }
   ],
   "source": [
    "class Employee:\n",
    "    company=\"TCS\"\n",
    "    salary=25000\n",
    "    loaction=\"delhi\"\n",
    "    \n",
    "    \n",
    "#changing class attribute value   way 1\n",
    "#     def change_salary(self,sal):\n",
    "# #         self.salary=sal\n",
    "#         self.__class__.salary=sal  \n",
    "    \n",
    "\n",
    "#changing class attribute value   way 2\n",
    "    @classmethod\n",
    "    def change_salary(cls,sal):\n",
    "#         self.salary=sal\n",
    "        cls.salary=sal  \n",
    "    \n",
    "        \n",
    "e1=Employee()\n",
    "\n",
    "print(e1.salary)\n",
    "e1.change_salary(35000) #changing instance attribute value\n",
    "print(e1.salary)\n",
    "print(Employee.salary) \n",
    "\n",
    "\n",
    "\n"
   ]
  },
  {
   "cell_type": "code",
   "execution_count": 53,
   "metadata": {},
   "outputs": [
    {
     "name": "stdout",
     "output_type": "stream",
     "text": [
      "add started\n"
     ]
    },
    {
     "data": {
      "text/plain": [
       "11"
      ]
     },
     "execution_count": 53,
     "metadata": {},
     "output_type": "execute_result"
    }
   ],
   "source": [
    "class number:\n",
    "\n",
    "    def __init__(self,num):\n",
    "        self.num=num\n",
    "        \n",
    "        \n",
    "    def __add__(self,other):\n",
    "        print(\"add started\")\n",
    "        return self.num+other.num\n",
    "    \n",
    "n1=number(5)\n",
    "n2=number(6)\n",
    "\n",
    "sum=n1+n2\n",
    "sum\n"
   ]
  },
  {
   "cell_type": "code",
   "execution_count": 1,
   "metadata": {},
   "outputs": [
    {
     "data": {
      "text/plain": [
       "\"['hii ', 'i ', 'am', 'Akshay']\""
      ]
     },
     "execution_count": 1,
     "metadata": {},
     "output_type": "execute_result"
    }
   ],
   "source": [
    "lst=[\"hii \", \"i \",\"am\",\"Akshay\"]\n",
    "\n",
    "str1=str(lst)\n",
    "str1\n"
   ]
  },
  {
   "cell_type": "code",
   "execution_count": 3,
   "metadata": {},
   "outputs": [
    {
     "data": {
      "text/plain": [
       "'hii  i  am Akshay'"
      ]
     },
     "execution_count": 3,
     "metadata": {},
     "output_type": "execute_result"
    }
   ],
   "source": [
    "# convert list into str\n",
    "\n",
    "lst\n",
    "listtostr=' '.join(lst)\n",
    "listtostr"
   ]
  },
  {
   "cell_type": "code",
   "execution_count": 18,
   "metadata": {},
   "outputs": [
    {
     "data": {
      "text/plain": [
       "[{2: 8},\n",
       " {3: 27},\n",
       " {4: 64},\n",
       " {5: 125},\n",
       " {6: 216},\n",
       " {7: 343},\n",
       " {8: 512},\n",
       " {9: 729},\n",
       " {10: 1000},\n",
       " {11: 1331},\n",
       " {12: 1728},\n",
       " {13: 2197},\n",
       " {14: 2744},\n",
       " {15: 3375},\n",
       " {16: 4096},\n",
       " {17: 4913},\n",
       " {18: 5832},\n",
       " {19: 6859},\n",
       " {20: 8000}]"
      ]
     },
     "execution_count": 18,
     "metadata": {},
     "output_type": "execute_result"
    }
   ],
   "source": [
    "# list comprehention\n",
    "\n",
    "l1=[{i:i** 3} for i in range(2,21)]\n",
    "l1"
   ]
  },
  {
   "cell_type": "code",
   "execution_count": 19,
   "metadata": {},
   "outputs": [
    {
     "data": {
      "text/plain": [
       "['hii ', 'i ', 'am', 'Akshay']"
      ]
     },
     "execution_count": 19,
     "metadata": {},
     "output_type": "execute_result"
    }
   ],
   "source": [
    "lst"
   ]
  },
  {
   "cell_type": "code",
   "execution_count": 21,
   "metadata": {},
   "outputs": [
    {
     "name": "stdout",
     "output_type": "stream",
     "text": [
      "List to tuple : ('hii ', 'i ', 'am', 'Akshay')\n",
      "List to set : {'am', 'hii ', 'Akshay', 'i '}\n"
     ]
    }
   ],
   "source": [
    "list_to_tuple=tuple(lst)\n",
    "print(\"List to tuple :\",list_to_tuple)\n",
    "\n",
    "list_to_set=set(lst)\n",
    "print(\"List to set :\",list_to_set)"
   ]
  },
  {
   "cell_type": "code",
   "execution_count": 24,
   "metadata": {},
   "outputs": [
    {
     "data": {
      "text/plain": [
       "['hii', 'i', 'am', 'Akshay', 'hii', 'am', 'i']"
      ]
     },
     "execution_count": 24,
     "metadata": {},
     "output_type": "execute_result"
    }
   ],
   "source": [
    "# remove duplicate elements from list\n",
    "\n",
    "lst=[\"hii\",\"i\",\"am\",\"Akshay\",\"hii\",\"am\",\"i\"]\n",
    "lst\n"
   ]
  },
  {
   "cell_type": "code",
   "execution_count": 25,
   "metadata": {},
   "outputs": [
    {
     "name": "stdout",
     "output_type": "stream",
     "text": [
      "List to set : {'hii', 'am', 'i', 'Akshay'}\n"
     ]
    }
   ],
   "source": [
    "\n",
    "list_to_set=set(lst)\n",
    "print(\"List to set :\",list_to_set)"
   ]
  },
  {
   "cell_type": "code",
   "execution_count": 26,
   "metadata": {},
   "outputs": [
    {
     "data": {
      "text/plain": [
       "['hii', 'i', 'am', 'Akshay', 'hii', 'am', 'i']"
      ]
     },
     "execution_count": 26,
     "metadata": {},
     "output_type": "execute_result"
    }
   ],
   "source": [
    "lst"
   ]
  },
  {
   "cell_type": "code",
   "execution_count": 27,
   "metadata": {},
   "outputs": [
    {
     "data": {
      "text/plain": [
       "2"
      ]
     },
     "execution_count": 27,
     "metadata": {},
     "output_type": "execute_result"
    }
   ],
   "source": [
    "lst.count(\"i\")"
   ]
  },
  {
   "cell_type": "code",
   "execution_count": 28,
   "metadata": {},
   "outputs": [
    {
     "data": {
      "text/plain": [
       "['hey', 'hii', 'how', 'are', 'u']"
      ]
     },
     "execution_count": 28,
     "metadata": {},
     "output_type": "execute_result"
    }
   ],
   "source": [
    "lst2=[\"hey\",\"hii\",\"how\",\"are\",\"u\"]\n",
    "lst2"
   ]
  },
  {
   "cell_type": "code",
   "execution_count": 34,
   "metadata": {},
   "outputs": [],
   "source": [
    "lst3=lst+lst2\n",
    "lst3\n",
    "\n",
    "lst.extend(lst2)"
   ]
  },
  {
   "cell_type": "code",
   "execution_count": 35,
   "metadata": {},
   "outputs": [
    {
     "data": {
      "text/plain": [
       "['hii', 'i', 'am', 'Akshay', 'hii', 'am', 'i', 'hey', 'hii', 'how', 'are', 'u']"
      ]
     },
     "execution_count": 35,
     "metadata": {},
     "output_type": "execute_result"
    }
   ],
   "source": [
    "lst"
   ]
  },
  {
   "cell_type": "code",
   "execution_count": 36,
   "metadata": {},
   "outputs": [
    {
     "name": "stdout",
     "output_type": "stream",
     "text": [
      "akshaydhongade87\n",
      "gmail.com\n"
     ]
    }
   ],
   "source": [
    "# separate emailand domain name from email\n",
    "\n",
    "\n",
    "email=\"akshaydhongade87@gmail.com\"\n",
    "\n",
    "username,domain=email.split('@')\n",
    "print(username)\n",
    "print(domain)"
   ]
  },
  {
   "cell_type": "code",
   "execution_count": 42,
   "metadata": {},
   "outputs": [
    {
     "name": "stdout",
     "output_type": "stream",
     "text": [
      "[3, 2, 6]\n",
      "['applemango', 'bananaorange']\n"
     ]
    }
   ],
   "source": [
    "# map function is used to mapping with functional arguments\n",
    "\n",
    "\n",
    "\n",
    "def test(n):\n",
    "    return len(n)\n",
    "\n",
    "\n",
    "def test2(a,b):\n",
    "    return a+b\n",
    "    \n",
    "\n",
    "x=map(test,(\"raj\",\"om\",\"suresh\"))\n",
    "y=map(test2,(\"apple\",\"banana\"),(\"mango\",\"orange\"))\n",
    "\n",
    "print(list(x))\n",
    "print(list(y))\n",
    "      \n"
   ]
  },
  {
   "cell_type": "code",
   "execution_count": 43,
   "metadata": {},
   "outputs": [
    {
     "data": {
      "text/plain": [
       "7"
      ]
     },
     "execution_count": 43,
     "metadata": {},
     "output_type": "execute_result"
    }
   ],
   "source": [
    "l=lambda a,b:a+b\n",
    "l(5,2)"
   ]
  },
  {
   "cell_type": "code",
   "execution_count": 55,
   "metadata": {},
   "outputs": [
    {
     "data": {
      "text/plain": [
       "{'Audi': 3, 'Jaguar': 2, 'Bmw': 4}"
      ]
     },
     "execution_count": 55,
     "metadata": {},
     "output_type": "execute_result"
    }
   ],
   "source": [
    "cars=[\"Audi\",\"Audi\",\"Audi\",\"Jaguar\",\"Jaguar\",\"Bmw\",\"Bmw\",\"Bmw\",\"Bmw\"]\n",
    "\n",
    "# required output{\"Audi\":3,\"Jaguar\":2,\"Bmw\":4}\n",
    "\n",
    "car_count2={}\n",
    "\n",
    "\n",
    "for car in cars:\n",
    "    if car in car_count2:\n",
    "        car_count2[car]=car_count2[car]+1\n",
    "        \n",
    "    else:\n",
    "        car_count2[car]=1\n",
    "        \n",
    "        \n",
    "car_count2"
   ]
  },
  {
   "cell_type": "code",
   "execution_count": 52,
   "metadata": {},
   "outputs": [
    {
     "data": {
      "text/plain": [
       "{'Audi': 3, 'Jaguar': 2, 'Bmw': 4}"
      ]
     },
     "execution_count": 52,
     "metadata": {},
     "output_type": "execute_result"
    }
   ],
   "source": [
    "# way2\n",
    "\n",
    "car_count1={}\n",
    "for car in cars:\n",
    "    if car not in car_count1:\n",
    "        car_count1.update({car:1})\n",
    "    else:\n",
    "        car_count1.update({car:car_count1[car]+1})\n",
    "        \n",
    "car_count1        \n"
   ]
  },
  {
   "cell_type": "code",
   "execution_count": 72,
   "metadata": {},
   "outputs": [
    {
     "data": {
      "text/plain": [
       "[0, 2, 4, 6, 8]"
      ]
     },
     "execution_count": 72,
     "metadata": {},
     "output_type": "execute_result"
    }
   ],
   "source": [
    "# lambda function with list comprehension even numbers\n",
    "\n",
    "elst=lambda n:list(i for i in range(n) if i%2==0)\n",
    "\n",
    "elst(10)"
   ]
  },
  {
   "cell_type": "code",
   "execution_count": 71,
   "metadata": {},
   "outputs": [
    {
     "data": {
      "text/plain": [
       "[0, 2, 4, 6, 8]"
      ]
     },
     "execution_count": 71,
     "metadata": {},
     "output_type": "execute_result"
    }
   ],
   "source": [
    "# list comprehension\n",
    "\n",
    "\n",
    "lst4=[i for i in range(10) if i%2==0]\n",
    "lst4"
   ]
  },
  {
   "cell_type": "code",
   "execution_count": null,
   "metadata": {},
   "outputs": [
    {
     "name": "stdout",
     "output_type": "stream",
     "text": [
      "1...Push\n",
      "2...pop\n",
      "3...Show list\n",
      "4...Exit\n",
      "Enter your option1\n"
     ]
    }
   ],
   "source": [
    "# stack in python\n",
    "\n",
    "stk=[]\n",
    "\n",
    "\n",
    "while True:\n",
    "    print(\"1...Push\")\n",
    "    print(\"2...pop\")\n",
    "    print(\"3...Show list\")\n",
    "    print(\"4...Exit\")\n",
    "\n",
    "    n=int(input(\"Enter your option\"))\n",
    "\n",
    "\n",
    "    if n==1:\n",
    "        ele=eval(input(\"Enter element\"))\n",
    "        stk.append(ele)\n",
    "    \n",
    "    elif n==2:\n",
    "        popval=stk.pop()\n",
    "        print(\"element poped : \",popval)\n",
    "    \n",
    "    elif n==3:\n",
    "        print(\"Stack list :\",stk)\n",
    "        \n",
    "    elif n==4:\n",
    "        break\n",
    "        \n",
    "    else:\n",
    "        print(\"invalid choice\")\n",
    "        \n",
    "        \n",
    "        \n"
   ]
  },
  {
   "cell_type": "code",
   "execution_count": 4,
   "metadata": {},
   "outputs": [
    {
     "data": {
      "text/plain": [
       "'i love python'"
      ]
     },
     "execution_count": 4,
     "metadata": {},
     "output_type": "execute_result"
    }
   ],
   "source": [
    "lst3=[\"i\",\"love\",\"python\"]\n",
    "\n",
    "lst3\n",
    "str4=' '.join(lst3)\n",
    "str4"
   ]
  },
  {
   "cell_type": "code",
   "execution_count": 5,
   "metadata": {},
   "outputs": [
    {
     "data": {
      "text/plain": [
       "'nohtyp evol i'"
      ]
     },
     "execution_count": 5,
     "metadata": {},
     "output_type": "execute_result"
    }
   ],
   "source": [
    "str4[::-1]"
   ]
  },
  {
   "cell_type": "code",
   "execution_count": 16,
   "metadata": {},
   "outputs": [
    {
     "name": "stdout",
     "output_type": "stream",
     "text": [
      "123 12 12.5 (3+4j) True 0b1010 0o12 0x2 65 A\n"
     ]
    }
   ],
   "source": [
    "# conversion functions \n",
    "\n",
    "a=int('123')\n",
    "b=str(12)\n",
    "c=float('12.5')\n",
    "d=complex('3+4j')\n",
    "e=bool(1)\n",
    "\n",
    "f=bin(10)\n",
    "g=oct(10)\n",
    "h=hex(2)\n",
    "i=ord('A') #character to unicode conversion\n",
    "j=chr(65)  #unicode to character\n",
    "\n",
    "# list(),tuple,set(),dict()\n",
    "\n",
    "\n",
    "print(a,b,c,d,e,f,g,h,i,j)\n"
   ]
  },
  {
   "cell_type": "code",
   "execution_count": 20,
   "metadata": {},
   "outputs": [
    {
     "name": "stdout",
     "output_type": "stream",
     "text": [
      "befor inhancing\n",
      "we will use this function \n",
      "And inhance this function \n",
      "after inhancing\n"
     ]
    }
   ],
   "source": [
    "#decorator in python\n",
    "\n",
    "# decorator is function that takes function as a parameter and return function\n",
    "\n",
    "# way1\n",
    "def decor(fun):\n",
    "    def inner():\n",
    "        print(\"befor inhancing\")\n",
    "        fun()\n",
    "        print(\"after inhancing\")\n",
    "\n",
    "    return inner\n",
    "\n",
    "def num():\n",
    "    print(\"we will use this function \")\n",
    "    print(\"And inhance this function \")\n",
    "   \n",
    "\n",
    "res=decor(num)    \n",
    "res()"
   ]
  },
  {
   "cell_type": "code",
   "execution_count": 22,
   "metadata": {},
   "outputs": [
    {
     "name": "stdout",
     "output_type": "stream",
     "text": [
      "befor inhancing\n",
      "we will use this function \n",
      "And inhance this function \n",
      "after inhancing\n"
     ]
    }
   ],
   "source": [
    "# way2\n",
    "def decor(fun):\n",
    "    def inner():\n",
    "        print(\"befor inhancing\")\n",
    "        fun()\n",
    "        print(\"after inhancing\")\n",
    "\n",
    "    return inner\n",
    "\n",
    "@decor\n",
    "def num():\n",
    "    print(\"we will use this function \")\n",
    "    print(\"And inhance this function \")\n",
    "   \n",
    "num()"
   ]
  },
  {
   "cell_type": "code",
   "execution_count": 23,
   "metadata": {},
   "outputs": [
    {
     "data": {
      "text/plain": [
       "20"
      ]
     },
     "execution_count": 23,
     "metadata": {},
     "output_type": "execute_result"
    }
   ],
   "source": [
    "def mydecor(fun):\n",
    "    def myinner():\n",
    "        a=fun()\n",
    "        add=a+10\n",
    "        return add\n",
    "    return myinner\n",
    "\n",
    "@mydecor\n",
    "def change():\n",
    "    return 10\n",
    "\n",
    "\n",
    "change()\n",
    "\n"
   ]
  },
  {
   "cell_type": "code",
   "execution_count": 24,
   "metadata": {},
   "outputs": [
    {
     "data": {
      "text/plain": [
       "[2, 3, 4, 5, 6, 7]"
      ]
     },
     "execution_count": 24,
     "metadata": {},
     "output_type": "execute_result"
    }
   ],
   "source": [
    "# filter\n",
    "\n",
    "l1=[2,3,4,5,6,7]\n",
    "\n",
    "c1=list(filter(lambda x:x*x,l1))\n",
    "c1"
   ]
  },
  {
   "cell_type": "code",
   "execution_count": 2,
   "metadata": {},
   "outputs": [
    {
     "name": "stdout",
     "output_type": "stream",
     "text": [
      "Collecting bs4Note: you may need to restart the kernel to use updated packages.\n",
      "  Downloading bs4-0.0.1.tar.gz (1.1 kB)\n",
      "Requirement already satisfied: beautifulsoup4 in c:\\programdata\\anaconda3\\lib\\site-packages (from bs4) (4.9.3)\n",
      "Requirement already satisfied: soupsieve>1.2; python_version >= \"3.0\" in c:\\programdata\\anaconda3\\lib\\site-packages (from beautifulsoup4->bs4) (2.0.1)\n",
      "Building wheels for collected packages: bs4\n",
      "  Building wheel for bs4 (setup.py): started\n",
      "  Building wheel for bs4 (setup.py): finished with status 'done'\n",
      "  Created wheel for bs4: filename=bs4-0.0.1-py3-none-any.whl size=1277 sha256=b66c90cc6ad42441f0aa67620874903eac7fc512000e099b48304b2b7015bc3c\n",
      "  Stored in directory: c:\\users\\aksha\\appdata\\local\\pip\\cache\\wheels\\75\\78\\21\\68b124549c9bdc94f822c02fb9aa3578a669843f9767776bca\n",
      "Successfully built bs4\n",
      "Installing collected packages: bs4\n",
      "\n",
      "Successfully installed bs4-0.0.1\n"
     ]
    }
   ],
   "source": [
    "pip install bs4"
   ]
  },
  {
   "cell_type": "code",
   "execution_count": 3,
   "metadata": {},
   "outputs": [
    {
     "name": "stdout",
     "output_type": "stream",
     "text": [
      "Requirement already satisfied: html5lib in c:\\programdata\\anaconda3\\lib\\site-packages (1.1)\n",
      "Requirement already satisfied: webencodings in c:\\programdata\\anaconda3\\lib\\site-packages (from html5lib) (0.5.1)\n",
      "Requirement already satisfied: six>=1.9 in c:\\programdata\\anaconda3\\lib\\site-packages (from html5lib) (1.15.0)\n",
      "Note: you may need to restart the kernel to use updated packages.\n"
     ]
    }
   ],
   "source": [
    "pip install html5lib"
   ]
  },
  {
   "cell_type": "code",
   "execution_count": 6,
   "metadata": {},
   "outputs": [
    {
     "name": "stdout",
     "output_type": "stream",
     "text": [
      "<bound method Tag.prettify of <!DOCTYPE html>\n",
      "<html lang=\"en\"><head><meta content=\"width=device-width\" name=\"viewport\"/><meta charset=\"utf-8\"/><script async=\"\" crossorigin=\"anonymous\" src=\"https://pagead2.googlesyndication.com/pagead/js/adsbygoogle.js?client=ca-pub-9655830461045889\"></script><script>(function(w,d,s,l,i){w[l]=w[l]||[];w[l].push({'gtm.start':\n",
      "        new Date().getTime(),event:'gtm.js'});var f=d.getElementsByTagName(s)[0],\n",
      "        j=d.createElement(s),dl=l!='dataLayer'?'&l='+l:'';j.async=true;j.src=\n",
      "        'https://www.googletagmanager.com/gtm.js?id='+i+dl;f.parentNode.insertBefore(j,f);\n",
      "        })(window,document,'script','dataLayer','GTM-MCDDKRF');</script><title>Home | CodeWithHarry</title><meta content=\"Welcome to Code With Harry. Code With Harry is my attempt to teach basics and those coding techniques to people in short time which took me ages to learn.\" name=\"description\"/><link href=\"/favicon.ico\" rel=\"icon\"/><meta content=\"7\" name=\"next-head-count\"/><link as=\"style\" href=\"/_next/static/css/b4431901a160a742.css\" rel=\"preload\"/><link data-n-g=\"\" href=\"/_next/static/css/b4431901a160a742.css\" rel=\"stylesheet\"/><link as=\"style\" href=\"/_next/static/css/39f4d8aba4b66723.css\" rel=\"preload\"/><link data-n-p=\"\" href=\"/_next/static/css/39f4d8aba4b66723.css\" rel=\"stylesheet\"/><noscript data-n-css=\"\"></noscript><script defer=\"\" nomodule=\"\" src=\"/_next/static/chunks/polyfills-5cd94c89d3acac5f.js\"></script><script defer=\"\" src=\"/_next/static/chunks/webpack-cbd121490397276d.js\"></script><script defer=\"\" src=\"/_next/static/chunks/framework-91d7f78b5b4003c8.js\"></script><script defer=\"\" src=\"/_next/static/chunks/main-728af1fb3715c9e8.js\"></script><script defer=\"\" src=\"/_next/static/chunks/pages/_app-7ccd4159d18b03be.js\"></script><script defer=\"\" src=\"/_next/static/chunks/pages/index-afddd706d45453a5.js\"></script><script defer=\"\" src=\"/_next/static/F3k4CoacHQrKVkdvt--Fq/_buildManifest.js\"></script><script defer=\"\" src=\"/_next/static/F3k4CoacHQrKVkdvt--Fq/_ssgManifest.js\"></script><script defer=\"\" src=\"/_next/static/F3k4CoacHQrKVkdvt--Fq/_middlewareManifest.js\"></script></head><body><noscript><iframe height=\"0\" src=\"https://www.googletagmanager.com/ns.html?id=GTM-MCDDKRF\" style=\"display:none;visibility:hidden\" width=\"0\"></iframe></noscript><div id=\"__next\"><div class=\"w-full z-10 sticky bg-white top-0 border-b border-grey-light\"><div class=\"w-full flex flex-wrap items-center lg:justify-between mt-0 py-4 justify-center\"><div class=\"mx-0 px-0 lg:pl-4 flex items-center lg:mx-4\"><span class=\"text-teal-700 no-underline hover:no-underline font-bold text-xl text-purple-800\"><a href=\"/\">CodeWithHarry</a></span></div><div class=\"pr-4 absolute top-1 right-1 pt-3\"><button class=\"lg:hidden flex items-center px-3 py-2 border rounded text-grey border-grey-dark hover:text-black hover:border-purple appearance-none focus:outline-none\"><svg class=\"fill-current h-3 w-3\" viewbox=\"0 0 20 20\" xmlns=\"http://www.w3.org/2000/svg\"><title>Menu</title><path d=\"M0 3h20v2H0V3zm0 6h20v2H0V9zm0 6h20v2H0v-2z\"></path></svg></button></div><div class=\"w-full flex-grow lg:flex lg:flex-1 lg:content-center lg:justify-end lg:w-auto h-0 lg:h-auto overflow-hidden mt-2 lg:mt-0 z-20 transition-all\" id=\"nav-content\"><ul class=\"flex items-center flex-col lg:flex-row\"><div class=\"search-icon cursor-pointer px-6 hidden\" id=\"search-toggle\"><svg class=\"fill-current pointer-events-none text-grey-darkest w-4 h-4 inline\" viewbox=\"0 0 20 20\" xmlns=\"http://www.w3.org/2000/svg\"><path d=\"M12.9 14.32a8 8 0 1 1 1.41-1.41l5.35 5.33-1.42 1.42-5.33-5.34zM8 14A6 6 0 1 0 8 2a6 6 0 0 0 0 12z\"></path></svg></div><li class=\"mx-2 my-2\"><a href=\"/\">Home</a></li><li class=\"mx-2 my-2\"><a href=\"/videos/\">Courses</a></li><li class=\"mx-2 my-2\"><a href=\"/blog/\">Blog</a></li><li class=\"mx-2 my-2\"><a href=\"/contact/\">Contact</a></li></ul><div class=\"text-center my-2 px-4\"><button class=\"text-white bg-purple-700 hover:bg-purple-800 focus:ring-4 focus:ring-purple-300 font-medium rounded-lg text-sm px-3 py-2 text-center inline-flex items-center mx-1\" id=\"login\">Login</button><button class=\"text-white bg-purple-700 hover:bg-purple-800 focus:ring-4 focus:ring-purple-300 font-medium rounded-lg text-sm px-3 py-2 text-center inline-flex items-center mx-1\" id=\"signup\">Signup</button></div></div></div></div><div class=\"relative w-full hidden bg-white shadow-xl\" id=\"search-content\"><div class=\"container mx-auto py-4 text-black\"><input autofocus=\"\" class=\"w-full text-grey-800 transition focus:outline-none focus:border-transparent p-2 appearance-none leading-normal text-xl lg:text-2xl\" id=\"searchfield\" placeholder=\"Search...\" type=\"search\"/></div></div><div class=\"mx-auto my-1\"></div><div class=\"\" style=\"position:fixed;top:0;left:0;height:2px;background:transparent;z-index:99999999999;width:100%\"><div class=\"\" style=\"height:100%;background:purple;transition:all 500ms ease;width:0%\"><div style=\"box-shadow:0 0 10px purple, 0 0 10px purple;width:5%;opacity:1;position:absolute;height:100%;transition:all 500ms ease;transform:rotate(3deg) translate(0px, -4px);left:-10rem\"></div></div></div><div class=\"Home_container__bCOhY\"><div class=\"flex bg-white h-96 container mx-auto\"><div class=\"flex items-center text-center lg:text-left px-8 md:px-12 lg:w-1/2\"><div><h2 class=\"text-3xl font-semibold text-gray-800 md:text-4xl\">Welcome to <span class=\"text-indigo-600\">CodeWithHarry</span></h2><p class=\"mt-2 text-sm text-gray-500 md:text-base\">Confused on which course to take? I have got you covered. Browse courses and find out the best course for you. Its free! Code With Harry is my attempt to teach basics and those coding techniques to people in short time which took me ages to learn.</p><div class=\"flex justify-center lg:justify-start mt-6\"><button class=\"px-3 py-2 lg:px-4 lg:py-3 bg-gray-900 text-gray-200 text-xs font-semibold rounded hover:bg-gray-800\">Free Courses</button><button class=\"px-3 py-2 mx-4 lg:px-4 lg:py-3 bg-gray-300 text-gray-900 text-xs font-semibold rounded hover:bg-gray-400\">Explore Blog</button></div></div></div><div class=\"hidden lg:block lg:w-1/2\" style=\"clip-path:polygon(10% 0, 100% 0%, 100% 100%, 0 100%)\"><div class=\"h-full object-cover\" style=\"background-image:url(https://images.unsplash.com/photo-1498050108023-c5249f4df085?ixlib=rb-1.2.1&amp;ixid=eyJhcHBfaWQiOjEyMDd9&amp;auto=format&amp;fit=crop&amp;w=1352&amp;q=80)\"><div class=\"h-full bg-black opacity-25\"></div></div></div></div><div class=\"container mx-auto lg:my-2\"><h2 class=\"text-3xl font-medium title-font text-gray-900 my-10 text-center\">Recommended Courses</h2><div class=\"flex flex-wrap\"><div class=\"lg:p-4 md:w-1/3 flex justify-center\"><div class=\"max-w-sm rounded-2xl overflow-hidden shadow-lg\"><img alt=\"Tailwind Course In Hindi\" class=\"w-full\" src=\"https://codewithharry.nyc3.cdn.digitaloceanspaces.com/assets/ea2cfeb5412adb3e200c6fc4206c73a0.png\"/><div class=\"px-6 py-4 lg:h-52\"><span class=\"tracking-widest text-xs title-font font-medium text-gray-400 mb-1\">Free Course</span><div class=\"title-font text-lg font-medium text-gray-900 mb-3\"><a href=\"/videos/tailwind-course-in-hindi-1/\">Tailwind Course In Hindi</a></div><p class=\"text-gray-700 text-base\">Complete Tailwind CSS Course by CodeWithHarry in Hindi - Learn Tailwind CSS from scratch for free! </p></div><div class=\"px-6 pt-4 pb-2\"><span class=\"inline-block bg-purple-800 rounded-full px-3 py-2 text-sm font-semibold text-white mr-2 mb-2 hover:bg-purple-600 cursor-pointer\"> Start Watching</span></div></div></div><div class=\"lg:p-4 md:w-1/3 flex justify-center\"><div class=\"max-w-sm rounded-2xl overflow-hidden shadow-lg\"><img alt=\"React Js Tutorials For Beginners\" class=\"w-full\" src=\"https://codewithharry.nyc3.cdn.digitaloceanspaces.com/assets/90a57ddc0174e2d9bf47c381eaddc0ee.jpg\"/><div class=\"px-6 py-4 lg:h-52\"><span class=\"tracking-widest text-xs title-font font-medium text-gray-400 mb-1\">Free Course</span><div class=\"title-font text-lg font-medium text-gray-900 mb-3\"><a href=\"/videos/react-tutorials-in-hindi-1/\">React Js Tutorials For Beginners</a></div><p class=\"text-gray-700 text-base\">React is a free and open-source front-end JavaScript library. This series will cover React from starting to the end. We will learn react from the ground up!</p></div><div class=\"px-6 pt-4 pb-2\"><span class=\"inline-block bg-purple-800 rounded-full px-3 py-2 text-sm font-semibold text-white mr-2 mb-2 hover:bg-purple-600 cursor-pointer\"> Start Watching</span></div></div></div><div class=\"lg:p-4 md:w-1/3 flex justify-center\"><div class=\"max-w-sm rounded-2xl overflow-hidden shadow-lg\"><img alt=\"Data Structures and Algorithms Course\" class=\"w-full\" src=\"https://codewithharry.nyc3.cdn.digitaloceanspaces.com/assets/5286f40260e65257448301d19d2d8935.jpg\"/><div class=\"px-6 py-4 lg:h-52\"><span class=\"tracking-widest text-xs title-font font-medium text-gray-400 mb-1\">Free Course</span><div class=\"title-font text-lg font-medium text-gray-900 mb-3\"><a href=\"/videos/data-structures-and-algorithms-in-hindi-1/\">Data Structures and Algorithms Course</a></div><p class=\"text-gray-700 text-base\">Data Structure and Algorithm is one of the most crucial things to learn. This course will give you a complete understanding of Data Structure and its implementation.</p></div><div class=\"px-6 pt-4 pb-2\"><span class=\"inline-block bg-purple-800 rounded-full px-3 py-2 text-sm font-semibold text-white mr-2 mb-2 hover:bg-purple-600 cursor-pointer\"> Start Watching</span></div></div></div></div></div><div class=\"container mx-auto\"><section class=\"text-gray-600 body-font\"><div class=\"container px-5 py-12 mx-auto\"><h2 class=\"text-3xl font-medium title-font text-gray-900 mb-12 text-center\">Testimonials</h2><div class=\"flex flex-wrap -m-4\"><div class=\"p-4 md:w-1/2 w-full\"><div class=\"h-full bg-gray-100 p-8 rounded\"><svg class=\"block w-5 h-5 text-gray-400 mb-4\" fill=\"currentColor\" viewbox=\"0 0 975.036 975.036\" xmlns=\"http://www.w3.org/2000/svg\"><path d=\"M925.036 57.197h-304c-27.6 0-50 22.4-50 50v304c0 27.601 22.4 50 50 50h145.5c-1.9 79.601-20.4 143.3-55.4 191.2-27.6 37.8-69.399 69.1-125.3 93.8-25.7 11.3-36.8 41.7-24.8 67.101l36 76c11.6 24.399 40.3 35.1 65.1 24.399 66.2-28.6 122.101-64.8 167.7-108.8 55.601-53.7 93.7-114.3 114.3-181.9 20.601-67.6 30.9-159.8 30.9-276.8v-239c0-27.599-22.401-50-50-50zM106.036 913.497c65.4-28.5 121-64.699 166.9-108.6 56.1-53.7 94.4-114.1 115-181.2 20.6-67.1 30.899-159.6 30.899-277.5v-239c0-27.6-22.399-50-50-50h-304c-27.6 0-50 22.4-50 50v304c0 27.601 22.4 50 50 50h145.5c-1.9 79.601-20.4 143.3-55.4 191.2-27.6 37.8-69.4 69.1-125.3 93.8-25.7 11.3-36.8 41.7-24.8 67.101l35.9 75.8c11.601 24.399 40.501 35.2 65.301 24.399z\"></path></svg><p class=\"leading-relaxed mb-6\">I don't have words to thank this man, I'm really grateful to have this channel and website in my daily routine. If you're a mere beginner, then you can trust this guy and can put your time into his content. I can assure you that it'll be worth it.</p><span class=\"inline-flex items-center\"><span class=\"flex-grow flex flex-col pl-4\"><span class=\"title-font font-medium text-gray-900\">Mohit Kumar</span><span class=\"text-gray-500 text-sm\">Web Developer</span></span></span></div></div><div class=\"p-4 md:w-1/2 w-full\"><div class=\"h-full bg-gray-100 p-8 rounded\"><svg class=\"block w-5 h-5 text-gray-400 mb-4\" fill=\"currentColor\" viewbox=\"0 0 975.036 975.036\" xmlns=\"http://www.w3.org/2000/svg\"><path d=\"M925.036 57.197h-304c-27.6 0-50 22.4-50 50v304c0 27.601 22.4 50 50 50h145.5c-1.9 79.601-20.4 143.3-55.4 191.2-27.6 37.8-69.399 69.1-125.3 93.8-25.7 11.3-36.8 41.7-24.8 67.101l36 76c11.6 24.399 40.3 35.1 65.1 24.399 66.2-28.6 122.101-64.8 167.7-108.8 55.601-53.7 93.7-114.3 114.3-181.9 20.601-67.6 30.9-159.8 30.9-276.8v-239c0-27.599-22.401-50-50-50zM106.036 913.497c65.4-28.5 121-64.699 166.9-108.6 56.1-53.7 94.4-114.1 115-181.2 20.6-67.1 30.899-159.6 30.899-277.5v-239c0-27.6-22.399-50-50-50h-304c-27.6 0-50 22.4-50 50v304c0 27.601 22.4 50 50 50h145.5c-1.9 79.601-20.4 143.3-55.4 191.2-27.6 37.8-69.4 69.1-125.3 93.8-25.7 11.3-36.8 41.7-24.8 67.101l35.9 75.8c11.601 24.399 40.501 35.2 65.301 24.399z\"></path></svg><p class=\"leading-relaxed mb-6\">For everyone who wants to level up their #Coding and #Dev skills - seriously, this channel is for you! Both basic and advanced stacks are covered on this channel, and one can learn according to his skill levels. And the icing on the cake is, everything is available for free.</p><span class=\"inline-flex items-center\"><span class=\"flex-grow flex flex-col pl-4\"><span class=\"title-font font-medium text-gray-900\">Rakesh Shetty</span><span class=\"text-gray-500 text-sm\">Web Developer</span></span></span></div></div></div></div></section></div></div><div><footer class=\"text-gray-600 body-font mt-8 px-10 bg-white\"><div class=\"px-2 py-4 mx-auto flex items-center sm:flex-row flex-col\"><span class=\"flex title-font font-medium items-center md:justify-start justify-center text-gray-900\"><img class=\"rounded h-12\" src=\"/img/logo-blue.png\"/><span class=\"ml-3 text-xl\">CodeWithHarry</span></span><p class=\"text-sm text-gray-500 sm:ml-4 sm:pl-4 sm:border-l-2 sm:border-gray-200 sm:py-2 sm:mt-0 mt-4 text-center\">Copyright © 2022 CodeWithHarry.com</p><span class=\"inline-flex sm:ml-auto sm:mt-0 mt-4 justify-center sm:justify-start\"><a class=\"text-gray-500\" href=\"https://www.facebook.com/CodeWithHarry/\" rel=\"noreferrer\" target=\"_blank\"><svg class=\"w-5 h-5\" fill=\"currentColor\" stroke-linecap=\"round\" stroke-linejoin=\"round\" stroke-width=\"2\" viewbox=\"0 0 24 24\"><path d=\"M18 2h-3a5 5 0 00-5 5v3H7v4h3v8h4v-8h3l1-4h-4V7a1 1 0 011-1h3z\"></path></svg></a><a class=\"ml-3 text-gray-500\" href=\"https://www.instagram.com/CodeWithHarry/\" rel=\"noreferrer\" target=\"_blank\"><svg class=\"w-5 h-5\" fill=\"none\" stroke=\"currentColor\" stroke-linecap=\"round\" stroke-linejoin=\"round\" stroke-width=\"2\" viewbox=\"0 0 24 24\"><rect height=\"20\" rx=\"5\" ry=\"5\" width=\"20\" x=\"2\" y=\"2\"></rect><path d=\"M16 11.37A4 4 0 1112.63 8 4 4 0 0116 11.37zm1.5-4.87h.01\"></path></svg></a></span></div></footer></div></div><script id=\"__NEXT_DATA__\" type=\"application/json\">{\"props\":{\"pageProps\":{\"url\":\"https://cwh-apis-strapi-c39h9.ondigitalocean.app\",\"courses\":[{\"previewimg\":[{\"_id\":\"61d069aaa8662f00112b2f56\",\"name\":\"maxresdefault.png\",\"alternativeText\":\"\",\"caption\":\"\",\"hash\":\"ea2cfeb5412adb3e200c6fc4206c73a0\",\"ext\":\".png\",\"mime\":\"image/png\",\"size\":504.94,\"width\":1280,\"height\":720,\"url\":\"https://codewithharry.nyc3.cdn.digitaloceanspaces.com/assets/ea2cfeb5412adb3e200c6fc4206c73a0.png\",\"formats\":{\"thumbnail\":{\"name\":\"thumbnail_maxresdefault.png\",\"hash\":\"716ea4001209154c40edf769bc2d4762\",\"ext\":\".png\",\"mime\":\"image/png\",\"width\":245,\"height\":138,\"size\":54.31,\"path\":null,\"url\":\"https://codewithharry.nyc3.cdn.digitaloceanspaces.com/assets/716ea4001209154c40edf769bc2d4762.png\"},\"large\":{\"name\":\"large_maxresdefault.png\",\"hash\":\"23c7d9af612643b3869ec4402d48d96f\",\"ext\":\".png\",\"mime\":\"image/png\",\"width\":1000,\"height\":563,\"size\":598.39,\"path\":null,\"url\":\"https://codewithharry.nyc3.cdn.digitaloceanspaces.com/assets/23c7d9af612643b3869ec4402d48d96f.png\"},\"medium\":{\"name\":\"medium_maxresdefault.png\",\"hash\":\"d41d2c00be670003da312e1f7de3b44a\",\"ext\":\".png\",\"mime\":\"image/png\",\"width\":750,\"height\":422,\"size\":363.76,\"path\":null,\"url\":\"https://codewithharry.nyc3.cdn.digitaloceanspaces.com/assets/d41d2c00be670003da312e1f7de3b44a.png\"},\"small\":{\"name\":\"small_maxresdefault.png\",\"hash\":\"213a504930c363db5e691647e3300ff8\",\"ext\":\".png\",\"mime\":\"image/png\",\"width\":500,\"height\":281,\"size\":181.09,\"path\":null,\"url\":\"https://codewithharry.nyc3.cdn.digitaloceanspaces.com/assets/213a504930c363db5e691647e3300ff8.png\"}},\"provider\":\"do\",\"related\":[\"61d069b36ff03b00118e19cb\"],\"createdAt\":\"2022-01-01T14:48:10.333Z\",\"updatedAt\":\"2022-01-01T14:48:19.048Z\",\"__v\":0,\"id\":\"61d069aaa8662f00112b2f56\"}],\"_id\":\"61d069b36ff03b00118e19cb\",\"ytplaylistid\":\"PLu0W_9lII9ahwFDuExCpPFHAK829Wto2O\",\"title\":\"Tailwind Course In Hindi\",\"description\":\"Complete Tailwind CSS Course by CodeWithHarry in Hindi - Learn Tailwind CSS from scratch for free! \",\"firstSlug\":\"tailwind-course-in-hindi-1\",\"published_at\":\"2022-01-01T14:50:36.984Z\",\"createdAt\":\"2022-01-01T14:48:19.035Z\",\"updatedAt\":\"2022-01-01T14:54:04.234Z\",\"__v\":0,\"id\":\"61d069b36ff03b00118e19cb\"},{\"previewimg\":[{\"_id\":\"61bfeee69c378500110f7b95\",\"name\":\"-mJFZp84TIY-HD.jpg\",\"alternativeText\":\"\",\"caption\":\"\",\"hash\":\"90a57ddc0174e2d9bf47c381eaddc0ee\",\"ext\":\".jpg\",\"mime\":\"image/png\",\"size\":1818.27,\"width\":2560,\"height\":1440,\"url\":\"https://codewithharry.nyc3.cdn.digitaloceanspaces.com/assets/90a57ddc0174e2d9bf47c381eaddc0ee.jpg\",\"formats\":{\"thumbnail\":{\"name\":\"thumbnail_-mJFZp84TIY-HD.jpg\",\"hash\":\"d70a61ca8475fbffe6e355ea790377f9\",\"ext\":\".jpg\",\"mime\":\"image/png\",\"width\":245,\"height\":138,\"size\":63.3,\"path\":null,\"url\":\"https://codewithharry.nyc3.cdn.digitaloceanspaces.com/assets/d70a61ca8475fbffe6e355ea790377f9.jpg\"},\"large\":{\"name\":\"large_-mJFZp84TIY-HD.jpg\",\"hash\":\"922621e7273d079f2aa0440314009769\",\"ext\":\".jpg\",\"mime\":\"image/png\",\"width\":1000,\"height\":563,\"size\":691.03,\"path\":null,\"url\":\"https://codewithharry.nyc3.cdn.digitaloceanspaces.com/assets/922621e7273d079f2aa0440314009769.jpg\"},\"medium\":{\"name\":\"medium_-mJFZp84TIY-HD.jpg\",\"hash\":\"6e80b2384ed16a1967729b5117580b23\",\"ext\":\".jpg\",\"mime\":\"image/png\",\"width\":750,\"height\":422,\"size\":426.61,\"path\":null,\"url\":\"https://codewithharry.nyc3.cdn.digitaloceanspaces.com/assets/6e80b2384ed16a1967729b5117580b23.jpg\"},\"small\":{\"name\":\"small_-mJFZp84TIY-HD.jpg\",\"hash\":\"720bff77a03d125face792a4257a9190\",\"ext\":\".jpg\",\"mime\":\"image/png\",\"width\":500,\"height\":281,\"size\":215.53,\"path\":null,\"url\":\"https://codewithharry.nyc3.cdn.digitaloceanspaces.com/assets/720bff77a03d125face792a4257a9190.jpg\"}},\"provider\":\"do\",\"related\":[\"61bf15cbb26eda2ecc384ca2\"],\"createdAt\":\"2021-12-20T02:48:06.627Z\",\"updatedAt\":\"2021-12-26T18:30:47.316Z\",\"__v\":0,\"id\":\"61bfeee69c378500110f7b95\"}],\"_id\":\"61bf15cbb26eda2ecc384ca2\",\"title\":\"React Js Tutorials For Beginners\",\"ytplaylistid\":\"PLu0W_9lII9agx66oZnT6IyhcMIbUMNMdt\",\"description\":\"React is a free and open-source front-end JavaScript library. This series will cover React from starting to the end. We will learn react from the ground up!\",\"firstSlug\":\"react-tutorials-in-hindi-1\",\"published_at\":\"2021-12-19T11:21:47.256Z\",\"createdAt\":\"2021-12-19T11:21:47.258Z\",\"updatedAt\":\"2021-12-26T18:30:53.708Z\",\"__v\":0,\"order\":1,\"id\":\"61bf15cbb26eda2ecc384ca2\"},{\"previewimg\":[{\"_id\":\"61bfeee682a25a00115079ae\",\"name\":\"5_5oE5lgrhw-HD.jpg\",\"alternativeText\":\"\",\"caption\":\"\",\"hash\":\"5286f40260e65257448301d19d2d8935\",\"ext\":\".jpg\",\"mime\":\"image/png\",\"size\":1052.05,\"width\":1666,\"height\":948,\"url\":\"https://codewithharry.nyc3.cdn.digitaloceanspaces.com/assets/5286f40260e65257448301d19d2d8935.jpg\",\"formats\":{\"thumbnail\":{\"name\":\"thumbnail_5_5oE5lgrhw-HD.jpg\",\"hash\":\"26395e4be1fa67bdae477b2266ca4194\",\"ext\":\".jpg\",\"mime\":\"image/png\",\"width\":245,\"height\":139,\"size\":71.04,\"path\":null,\"url\":\"https://codewithharry.nyc3.cdn.digitaloceanspaces.com/assets/26395e4be1fa67bdae477b2266ca4194.jpg\"},\"large\":{\"name\":\"large_5_5oE5lgrhw-HD.jpg\",\"hash\":\"560cfa858d158a524210691c7a615a40\",\"ext\":\".jpg\",\"mime\":\"image/png\",\"width\":1000,\"height\":569,\"size\":759.98,\"path\":null,\"url\":\"https://codewithharry.nyc3.cdn.digitaloceanspaces.com/assets/560cfa858d158a524210691c7a615a40.jpg\"},\"medium\":{\"name\":\"medium_5_5oE5lgrhw-HD.jpg\",\"hash\":\"8ea60dc0aaa3bab4f6beca8a70ae6da2\",\"ext\":\".jpg\",\"mime\":\"image/png\",\"width\":750,\"height\":427,\"size\":462.58,\"path\":null,\"url\":\"https://codewithharry.nyc3.cdn.digitaloceanspaces.com/assets/8ea60dc0aaa3bab4f6beca8a70ae6da2.jpg\"},\"small\":{\"name\":\"small_5_5oE5lgrhw-HD.jpg\",\"hash\":\"f496dc6b6be213de9a4de3c3647f8396\",\"ext\":\".jpg\",\"mime\":\"image/png\",\"width\":500,\"height\":285,\"size\":231.83,\"path\":null,\"url\":\"https://codewithharry.nyc3.cdn.digitaloceanspaces.com/assets/f496dc6b6be213de9a4de3c3647f8396.jpg\"}},\"provider\":\"do\",\"related\":[\"61bf15cbb26eda2ecc384c9e\"],\"createdAt\":\"2021-12-20T02:48:06.761Z\",\"updatedAt\":\"2021-12-26T18:28:16.052Z\",\"__v\":0,\"id\":\"61bfeee682a25a00115079ae\"}],\"_id\":\"61bf15cbb26eda2ecc384c9e\",\"title\":\"Data Structures and Algorithms Course\",\"ytplaylistid\":\"PLu0W_9lII9ahIappRPN0MCAgtOu3lQjQi\",\"description\":\"Data Structure and Algorithm is one of the most crucial things to learn. This course will give you a complete understanding of Data Structure and its implementation.\",\"firstSlug\":\"data-structures-and-algorithms-in-hindi-1\",\"published_at\":\"2021-12-19T11:21:47.255Z\",\"createdAt\":\"2021-12-19T11:21:47.258Z\",\"updatedAt\":\"2021-12-26T18:28:26.160Z\",\"__v\":0,\"order\":2,\"id\":\"61bf15cbb26eda2ecc384c9e\"}]},\"__N_SSG\":true},\"page\":\"/\",\"query\":{},\"buildId\":\"F3k4CoacHQrKVkdvt--Fq\",\"isFallback\":false,\"gsp\":true,\"scriptLoader\":[]}</script></body></html>>\n"
     ]
    }
   ],
   "source": [
    "import requests \n",
    "from bs4 import BeautifulSoup\n",
    "\n",
    "\n",
    "r=requests.get(\"https://codewithharry.com\")\n",
    "htmlcontent=r.content\n",
    "# print(htmlcontent)\n",
    "\n",
    "soup=BeautifulSoup(htmlcontent,'html.parser')\n",
    "print(soup.prettify)\n"
   ]
  },
  {
   "cell_type": "code",
   "execution_count": 5,
   "metadata": {},
   "outputs": [
    {
     "name": "stdout",
     "output_type": "stream",
     "text": [
      "b'<!DOCTYPE html><html lang=\"en\"><head><meta name=\"viewport\" content=\"width=device-width\"/><meta charSet=\"utf-8\"/><script async=\"\" src=\"https://pagead2.googlesyndication.com/pagead/js/adsbygoogle.js?client=ca-pub-9655830461045889\" crossorigin=\"anonymous\"></script><script>(function(w,d,s,l,i){w[l]=w[l]||[];w[l].push({\\'gtm.start\\':\\n        new Date().getTime(),event:\\'gtm.js\\'});var f=d.getElementsByTagName(s)[0],\\n        j=d.createElement(s),dl=l!=\\'dataLayer\\'?\\'&l=\\'+l:\\'\\';j.async=true;j.src=\\n        \\'https://www.googletagmanager.com/gtm.js?id=\\'+i+dl;f.parentNode.insertBefore(j,f);\\n        })(window,document,\\'script\\',\\'dataLayer\\',\\'GTM-MCDDKRF\\');</script><title>Home | CodeWithHarry</title><meta name=\"description\" content=\"Welcome to Code With Harry. Code With Harry is my attempt to teach basics and those coding techniques to people in short time which took me ages to learn.\"/><link rel=\"icon\" href=\"/favicon.ico\"/><meta name=\"next-head-count\" content=\"7\"/><link rel=\"preload\" href=\"/_next/static/css/b4431901a160a742.css\" as=\"style\"/><link rel=\"stylesheet\" href=\"/_next/static/css/b4431901a160a742.css\" data-n-g=\"\"/><link rel=\"preload\" href=\"/_next/static/css/39f4d8aba4b66723.css\" as=\"style\"/><link rel=\"stylesheet\" href=\"/_next/static/css/39f4d8aba4b66723.css\" data-n-p=\"\"/><noscript data-n-css=\"\"></noscript><script defer=\"\" nomodule=\"\" src=\"/_next/static/chunks/polyfills-5cd94c89d3acac5f.js\"></script><script src=\"/_next/static/chunks/webpack-cbd121490397276d.js\" defer=\"\"></script><script src=\"/_next/static/chunks/framework-91d7f78b5b4003c8.js\" defer=\"\"></script><script src=\"/_next/static/chunks/main-728af1fb3715c9e8.js\" defer=\"\"></script><script src=\"/_next/static/chunks/pages/_app-7ccd4159d18b03be.js\" defer=\"\"></script><script src=\"/_next/static/chunks/pages/index-afddd706d45453a5.js\" defer=\"\"></script><script src=\"/_next/static/F3k4CoacHQrKVkdvt--Fq/_buildManifest.js\" defer=\"\"></script><script src=\"/_next/static/F3k4CoacHQrKVkdvt--Fq/_ssgManifest.js\" defer=\"\"></script><script src=\"/_next/static/F3k4CoacHQrKVkdvt--Fq/_middlewareManifest.js\" defer=\"\"></script></head><body><noscript><iframe src=\"https://www.googletagmanager.com/ns.html?id=GTM-MCDDKRF\" height=\"0\" width=\"0\" style=\"display:none;visibility:hidden\"></iframe></noscript><div id=\"__next\"><div class=\" w-full z-10 sticky bg-white top-0 border-b border-grey-light\"><div class=\"w-full flex flex-wrap items-center lg:justify-between mt-0 py-4 justify-center\"><div class=\" mx-0 px-0 lg:pl-4 flex items-center lg:mx-4\"><span class=\"text-teal-700 no-underline hover:no-underline font-bold text-xl text-purple-800\"><a href=\"/\">CodeWithHarry</a></span></div><div class=\"pr-4 absolute top-1 right-1 pt-3\"><button class=\"lg:hidden flex items-center px-3 py-2 border rounded text-grey border-grey-dark hover:text-black hover:border-purple appearance-none focus:outline-none\"><svg class=\"fill-current h-3 w-3\" viewBox=\"0 0 20 20\" xmlns=\"http://www.w3.org/2000/svg\"><title>Menu</title><path d=\"M0 3h20v2H0V3zm0 6h20v2H0V9zm0 6h20v2H0v-2z\"></path></svg></button></div><div class=\"w-full flex-grow lg:flex lg:flex-1 lg:content-center lg:justify-end lg:w-auto h-0 lg:h-auto overflow-hidden mt-2 lg:mt-0 z-20 transition-all\" id=\"nav-content\"><ul class=\"flex items-center flex-col lg:flex-row\"><div id=\"search-toggle\" class=\"search-icon cursor-pointer px-6 hidden\"><svg class=\"fill-current pointer-events-none text-grey-darkest w-4 h-4 inline\" xmlns=\"http://www.w3.org/2000/svg\" viewBox=\"0 0 20 20\"><path d=\"M12.9 14.32a8 8 0 1 1 1.41-1.41l5.35 5.33-1.42 1.42-5.33-5.34zM8 14A6 6 0 1 0 8 2a6 6 0 0 0 0 12z\"></path></svg></div><li class=\"mx-2 my-2\"><a href=\"/\">Home</a></li><li class=\"mx-2 my-2\"><a href=\"/videos/\">Courses</a></li><li class=\"mx-2 my-2\"><a href=\"/blog/\">Blog</a></li><li class=\"mx-2 my-2\"><a href=\"/contact/\">Contact</a></li></ul><div class=\"text-center my-2 px-4\"><button id=\"login\" class=\"text-white bg-purple-700 hover:bg-purple-800 focus:ring-4 focus:ring-purple-300 font-medium rounded-lg text-sm px-3 py-2 text-center inline-flex items-center mx-1\">Login</button><button id=\"signup\" class=\"text-white bg-purple-700 hover:bg-purple-800 focus:ring-4 focus:ring-purple-300 font-medium rounded-lg text-sm px-3 py-2 text-center inline-flex items-center mx-1\">Signup</button></div></div></div></div><div class=\"relative w-full hidden bg-white shadow-xl\" id=\"search-content\"><div class=\"container mx-auto py-4 text-black\"><input type=\"search\" id=\"searchfield\" placeholder=\"Search...\" autofocus=\"\" class=\"w-full text-grey-800 transition focus:outline-none focus:border-transparent p-2 appearance-none leading-normal text-xl lg:text-2xl\"/></div></div><div class=\"mx-auto my-1\"></div><div class=\"\" style=\"position:fixed;top:0;left:0;height:2px;background:transparent;z-index:99999999999;width:100%\"><div class=\"\" style=\"height:100%;background:purple;transition:all 500ms ease;width:0%\"><div style=\"box-shadow:0 0 10px purple, 0 0 10px purple;width:5%;opacity:1;position:absolute;height:100%;transition:all 500ms ease;transform:rotate(3deg) translate(0px, -4px);left:-10rem\"></div></div></div><div class=\"Home_container__bCOhY\"><div class=\"flex bg-white h-96 container mx-auto\"><div class=\"flex items-center text-center lg:text-left px-8 md:px-12 lg:w-1/2\"><div><h2 class=\"text-3xl font-semibold text-gray-800 md:text-4xl\">Welcome to <span class=\"text-indigo-600\">CodeWithHarry</span></h2><p class=\"mt-2 text-sm text-gray-500 md:text-base\">Confused on which course to take? I have got you covered. Browse courses and find out the best course for you. Its free! Code With Harry is my attempt to teach basics and those coding techniques to people in short time which took me ages to learn.</p><div class=\"flex justify-center lg:justify-start mt-6\"><button class=\"px-3 py-2 lg:px-4 lg:py-3 bg-gray-900 text-gray-200 text-xs font-semibold rounded hover:bg-gray-800\">Free Courses</button><button class=\"px-3 py-2 mx-4 lg:px-4 lg:py-3 bg-gray-300 text-gray-900 text-xs font-semibold rounded hover:bg-gray-400\">Explore Blog</button></div></div></div><div class=\"hidden lg:block lg:w-1/2\" style=\"clip-path:polygon(10% 0, 100% 0%, 100% 100%, 0 100%)\"><div class=\"h-full object-cover\" style=\"background-image:url(https://images.unsplash.com/photo-1498050108023-c5249f4df085?ixlib=rb-1.2.1&amp;ixid=eyJhcHBfaWQiOjEyMDd9&amp;auto=format&amp;fit=crop&amp;w=1352&amp;q=80)\"><div class=\"h-full bg-black opacity-25\"></div></div></div></div><div class=\"container mx-auto lg:my-2\"><h2 class=\"text-3xl font-medium title-font text-gray-900 my-10 text-center\">Recommended Courses</h2><div class=\"flex flex-wrap\"><div class=\"lg:p-4 md:w-1/3 flex justify-center\"><div class=\"max-w-sm rounded-2xl overflow-hidden shadow-lg\"><img class=\"w-full\" src=\"https://codewithharry.nyc3.cdn.digitaloceanspaces.com/assets/ea2cfeb5412adb3e200c6fc4206c73a0.png\" alt=\"Tailwind Course In Hindi\"/><div class=\"px-6 py-4 lg:h-52\"><span class=\"tracking-widest text-xs title-font font-medium text-gray-400 mb-1\">Free Course</span><div class=\"title-font text-lg font-medium text-gray-900 mb-3\"><a href=\"/videos/tailwind-course-in-hindi-1/\">Tailwind Course In Hindi</a></div><p class=\"text-gray-700 text-base\">Complete Tailwind CSS Course by CodeWithHarry in Hindi - Learn Tailwind CSS from scratch for free! </p></div><div class=\"px-6 pt-4 pb-2\"><span class=\"inline-block bg-purple-800 rounded-full px-3 py-2 text-sm font-semibold text-white mr-2 mb-2 hover:bg-purple-600 cursor-pointer\"> Start Watching</span></div></div></div><div class=\"lg:p-4 md:w-1/3 flex justify-center\"><div class=\"max-w-sm rounded-2xl overflow-hidden shadow-lg\"><img class=\"w-full\" src=\"https://codewithharry.nyc3.cdn.digitaloceanspaces.com/assets/90a57ddc0174e2d9bf47c381eaddc0ee.jpg\" alt=\"React Js Tutorials For Beginners\"/><div class=\"px-6 py-4 lg:h-52\"><span class=\"tracking-widest text-xs title-font font-medium text-gray-400 mb-1\">Free Course</span><div class=\"title-font text-lg font-medium text-gray-900 mb-3\"><a href=\"/videos/react-tutorials-in-hindi-1/\">React Js Tutorials For Beginners</a></div><p class=\"text-gray-700 text-base\">React is a free and open-source front-end JavaScript library. This series will cover React from starting to the end. We will learn react from the ground up!</p></div><div class=\"px-6 pt-4 pb-2\"><span class=\"inline-block bg-purple-800 rounded-full px-3 py-2 text-sm font-semibold text-white mr-2 mb-2 hover:bg-purple-600 cursor-pointer\"> Start Watching</span></div></div></div><div class=\"lg:p-4 md:w-1/3 flex justify-center\"><div class=\"max-w-sm rounded-2xl overflow-hidden shadow-lg\"><img class=\"w-full\" src=\"https://codewithharry.nyc3.cdn.digitaloceanspaces.com/assets/5286f40260e65257448301d19d2d8935.jpg\" alt=\"Data Structures and Algorithms Course\"/><div class=\"px-6 py-4 lg:h-52\"><span class=\"tracking-widest text-xs title-font font-medium text-gray-400 mb-1\">Free Course</span><div class=\"title-font text-lg font-medium text-gray-900 mb-3\"><a href=\"/videos/data-structures-and-algorithms-in-hindi-1/\">Data Structures and Algorithms Course</a></div><p class=\"text-gray-700 text-base\">Data Structure and Algorithm is one of the most crucial things to learn. This course will give you a complete understanding of Data Structure and its implementation.</p></div><div class=\"px-6 pt-4 pb-2\"><span class=\"inline-block bg-purple-800 rounded-full px-3 py-2 text-sm font-semibold text-white mr-2 mb-2 hover:bg-purple-600 cursor-pointer\"> Start Watching</span></div></div></div></div></div><div class=\"container mx-auto\"><section class=\"text-gray-600 body-font\"><div class=\"container px-5 py-12 mx-auto\"><h2 class=\"text-3xl font-medium title-font text-gray-900 mb-12 text-center\">Testimonials</h2><div class=\"flex flex-wrap -m-4\"><div class=\"p-4 md:w-1/2 w-full\"><div class=\"h-full bg-gray-100 p-8 rounded\"><svg xmlns=\"http://www.w3.org/2000/svg\" fill=\"currentColor\" class=\"block w-5 h-5 text-gray-400 mb-4\" viewBox=\"0 0 975.036 975.036\"><path d=\"M925.036 57.197h-304c-27.6 0-50 22.4-50 50v304c0 27.601 22.4 50 50 50h145.5c-1.9 79.601-20.4 143.3-55.4 191.2-27.6 37.8-69.399 69.1-125.3 93.8-25.7 11.3-36.8 41.7-24.8 67.101l36 76c11.6 24.399 40.3 35.1 65.1 24.399 66.2-28.6 122.101-64.8 167.7-108.8 55.601-53.7 93.7-114.3 114.3-181.9 20.601-67.6 30.9-159.8 30.9-276.8v-239c0-27.599-22.401-50-50-50zM106.036 913.497c65.4-28.5 121-64.699 166.9-108.6 56.1-53.7 94.4-114.1 115-181.2 20.6-67.1 30.899-159.6 30.899-277.5v-239c0-27.6-22.399-50-50-50h-304c-27.6 0-50 22.4-50 50v304c0 27.601 22.4 50 50 50h145.5c-1.9 79.601-20.4 143.3-55.4 191.2-27.6 37.8-69.4 69.1-125.3 93.8-25.7 11.3-36.8 41.7-24.8 67.101l35.9 75.8c11.601 24.399 40.501 35.2 65.301 24.399z\"></path></svg><p class=\"leading-relaxed mb-6\">I don&#x27;t have words to thank this man, I&#x27;m really grateful to have this channel and website in my daily routine. If you&#x27;re a mere beginner, then you can trust this guy and can put your time into his content. I can assure you that it&#x27;ll be worth it.</p><span class=\"inline-flex items-center\"><span class=\"flex-grow flex flex-col pl-4\"><span class=\"title-font font-medium text-gray-900\">Mohit Kumar</span><span class=\"text-gray-500 text-sm\">Web Developer</span></span></span></div></div><div class=\"p-4 md:w-1/2 w-full\"><div class=\"h-full bg-gray-100 p-8 rounded\"><svg xmlns=\"http://www.w3.org/2000/svg\" fill=\"currentColor\" class=\"block w-5 h-5 text-gray-400 mb-4\" viewBox=\"0 0 975.036 975.036\"><path d=\"M925.036 57.197h-304c-27.6 0-50 22.4-50 50v304c0 27.601 22.4 50 50 50h145.5c-1.9 79.601-20.4 143.3-55.4 191.2-27.6 37.8-69.399 69.1-125.3 93.8-25.7 11.3-36.8 41.7-24.8 67.101l36 76c11.6 24.399 40.3 35.1 65.1 24.399 66.2-28.6 122.101-64.8 167.7-108.8 55.601-53.7 93.7-114.3 114.3-181.9 20.601-67.6 30.9-159.8 30.9-276.8v-239c0-27.599-22.401-50-50-50zM106.036 913.497c65.4-28.5 121-64.699 166.9-108.6 56.1-53.7 94.4-114.1 115-181.2 20.6-67.1 30.899-159.6 30.899-277.5v-239c0-27.6-22.399-50-50-50h-304c-27.6 0-50 22.4-50 50v304c0 27.601 22.4 50 50 50h145.5c-1.9 79.601-20.4 143.3-55.4 191.2-27.6 37.8-69.4 69.1-125.3 93.8-25.7 11.3-36.8 41.7-24.8 67.101l35.9 75.8c11.601 24.399 40.501 35.2 65.301 24.399z\"></path></svg><p class=\"leading-relaxed mb-6\">For everyone who wants to level up their #Coding and #Dev skills - seriously, this channel is for you! Both basic and advanced stacks are covered on this channel, and one can learn according to his skill levels. And the icing on the cake is, everything is available for free.</p><span class=\"inline-flex items-center\"><span class=\"flex-grow flex flex-col pl-4\"><span class=\"title-font font-medium text-gray-900\">Rakesh Shetty</span><span class=\"text-gray-500 text-sm\">Web Developer</span></span></span></div></div></div></div></section></div></div><div><footer class=\"text-gray-600 body-font mt-8 px-10 bg-white\"><div class=\"px-2 py-4 mx-auto flex items-center sm:flex-row flex-col\"><span class=\"flex title-font font-medium items-center md:justify-start justify-center text-gray-900\"><img src=\"/img/logo-blue.png\" class=\"rounded h-12\"/><span class=\"ml-3 text-xl\">CodeWithHarry</span></span><p class=\"text-sm text-gray-500 sm:ml-4 sm:pl-4 sm:border-l-2 sm:border-gray-200 sm:py-2 sm:mt-0 mt-4 text-center\">Copyright \\xc2\\xa9 2022 CodeWithHarry.com</p><span class=\"inline-flex sm:ml-auto sm:mt-0 mt-4 justify-center sm:justify-start\"><a href=\"https://www.facebook.com/CodeWithHarry/\" target=\"_blank\" rel=\"noreferrer\" class=\"text-gray-500\"><svg fill=\"currentColor\" stroke-linecap=\"round\" stroke-linejoin=\"round\" stroke-width=\"2\" class=\"w-5 h-5\" viewBox=\"0 0 24 24\"><path d=\"M18 2h-3a5 5 0 00-5 5v3H7v4h3v8h4v-8h3l1-4h-4V7a1 1 0 011-1h3z\"></path></svg></a><a href=\"https://www.instagram.com/CodeWithHarry/\" target=\"_blank\" rel=\"noreferrer\" class=\"ml-3 text-gray-500\"><svg fill=\"none\" stroke=\"currentColor\" stroke-linecap=\"round\" stroke-linejoin=\"round\" stroke-width=\"2\" class=\"w-5 h-5\" viewBox=\"0 0 24 24\"><rect width=\"20\" height=\"20\" x=\"2\" y=\"2\" rx=\"5\" ry=\"5\"></rect><path d=\"M16 11.37A4 4 0 1112.63 8 4 4 0 0116 11.37zm1.5-4.87h.01\"></path></svg></a></span></div></footer></div></div><script id=\"__NEXT_DATA__\" type=\"application/json\">{\"props\":{\"pageProps\":{\"url\":\"https://cwh-apis-strapi-c39h9.ondigitalocean.app\",\"courses\":[{\"previewimg\":[{\"_id\":\"61d069aaa8662f00112b2f56\",\"name\":\"maxresdefault.png\",\"alternativeText\":\"\",\"caption\":\"\",\"hash\":\"ea2cfeb5412adb3e200c6fc4206c73a0\",\"ext\":\".png\",\"mime\":\"image/png\",\"size\":504.94,\"width\":1280,\"height\":720,\"url\":\"https://codewithharry.nyc3.cdn.digitaloceanspaces.com/assets/ea2cfeb5412adb3e200c6fc4206c73a0.png\",\"formats\":{\"thumbnail\":{\"name\":\"thumbnail_maxresdefault.png\",\"hash\":\"716ea4001209154c40edf769bc2d4762\",\"ext\":\".png\",\"mime\":\"image/png\",\"width\":245,\"height\":138,\"size\":54.31,\"path\":null,\"url\":\"https://codewithharry.nyc3.cdn.digitaloceanspaces.com/assets/716ea4001209154c40edf769bc2d4762.png\"},\"large\":{\"name\":\"large_maxresdefault.png\",\"hash\":\"23c7d9af612643b3869ec4402d48d96f\",\"ext\":\".png\",\"mime\":\"image/png\",\"width\":1000,\"height\":563,\"size\":598.39,\"path\":null,\"url\":\"https://codewithharry.nyc3.cdn.digitaloceanspaces.com/assets/23c7d9af612643b3869ec4402d48d96f.png\"},\"medium\":{\"name\":\"medium_maxresdefault.png\",\"hash\":\"d41d2c00be670003da312e1f7de3b44a\",\"ext\":\".png\",\"mime\":\"image/png\",\"width\":750,\"height\":422,\"size\":363.76,\"path\":null,\"url\":\"https://codewithharry.nyc3.cdn.digitaloceanspaces.com/assets/d41d2c00be670003da312e1f7de3b44a.png\"},\"small\":{\"name\":\"small_maxresdefault.png\",\"hash\":\"213a504930c363db5e691647e3300ff8\",\"ext\":\".png\",\"mime\":\"image/png\",\"width\":500,\"height\":281,\"size\":181.09,\"path\":null,\"url\":\"https://codewithharry.nyc3.cdn.digitaloceanspaces.com/assets/213a504930c363db5e691647e3300ff8.png\"}},\"provider\":\"do\",\"related\":[\"61d069b36ff03b00118e19cb\"],\"createdAt\":\"2022-01-01T14:48:10.333Z\",\"updatedAt\":\"2022-01-01T14:48:19.048Z\",\"__v\":0,\"id\":\"61d069aaa8662f00112b2f56\"}],\"_id\":\"61d069b36ff03b00118e19cb\",\"ytplaylistid\":\"PLu0W_9lII9ahwFDuExCpPFHAK829Wto2O\",\"title\":\"Tailwind Course In Hindi\",\"description\":\"Complete Tailwind CSS Course by CodeWithHarry in Hindi - Learn Tailwind CSS from scratch for free! \",\"firstSlug\":\"tailwind-course-in-hindi-1\",\"published_at\":\"2022-01-01T14:50:36.984Z\",\"createdAt\":\"2022-01-01T14:48:19.035Z\",\"updatedAt\":\"2022-01-01T14:54:04.234Z\",\"__v\":0,\"id\":\"61d069b36ff03b00118e19cb\"},{\"previewimg\":[{\"_id\":\"61bfeee69c378500110f7b95\",\"name\":\"-mJFZp84TIY-HD.jpg\",\"alternativeText\":\"\",\"caption\":\"\",\"hash\":\"90a57ddc0174e2d9bf47c381eaddc0ee\",\"ext\":\".jpg\",\"mime\":\"image/png\",\"size\":1818.27,\"width\":2560,\"height\":1440,\"url\":\"https://codewithharry.nyc3.cdn.digitaloceanspaces.com/assets/90a57ddc0174e2d9bf47c381eaddc0ee.jpg\",\"formats\":{\"thumbnail\":{\"name\":\"thumbnail_-mJFZp84TIY-HD.jpg\",\"hash\":\"d70a61ca8475fbffe6e355ea790377f9\",\"ext\":\".jpg\",\"mime\":\"image/png\",\"width\":245,\"height\":138,\"size\":63.3,\"path\":null,\"url\":\"https://codewithharry.nyc3.cdn.digitaloceanspaces.com/assets/d70a61ca8475fbffe6e355ea790377f9.jpg\"},\"large\":{\"name\":\"large_-mJFZp84TIY-HD.jpg\",\"hash\":\"922621e7273d079f2aa0440314009769\",\"ext\":\".jpg\",\"mime\":\"image/png\",\"width\":1000,\"height\":563,\"size\":691.03,\"path\":null,\"url\":\"https://codewithharry.nyc3.cdn.digitaloceanspaces.com/assets/922621e7273d079f2aa0440314009769.jpg\"},\"medium\":{\"name\":\"medium_-mJFZp84TIY-HD.jpg\",\"hash\":\"6e80b2384ed16a1967729b5117580b23\",\"ext\":\".jpg\",\"mime\":\"image/png\",\"width\":750,\"height\":422,\"size\":426.61,\"path\":null,\"url\":\"https://codewithharry.nyc3.cdn.digitaloceanspaces.com/assets/6e80b2384ed16a1967729b5117580b23.jpg\"},\"small\":{\"name\":\"small_-mJFZp84TIY-HD.jpg\",\"hash\":\"720bff77a03d125face792a4257a9190\",\"ext\":\".jpg\",\"mime\":\"image/png\",\"width\":500,\"height\":281,\"size\":215.53,\"path\":null,\"url\":\"https://codewithharry.nyc3.cdn.digitaloceanspaces.com/assets/720bff77a03d125face792a4257a9190.jpg\"}},\"provider\":\"do\",\"related\":[\"61bf15cbb26eda2ecc384ca2\"],\"createdAt\":\"2021-12-20T02:48:06.627Z\",\"updatedAt\":\"2021-12-26T18:30:47.316Z\",\"__v\":0,\"id\":\"61bfeee69c378500110f7b95\"}],\"_id\":\"61bf15cbb26eda2ecc384ca2\",\"title\":\"React Js Tutorials For Beginners\",\"ytplaylistid\":\"PLu0W_9lII9agx66oZnT6IyhcMIbUMNMdt\",\"description\":\"React is a free and open-source front-end JavaScript library. This series will cover React from starting to the end. We will learn react from the ground up!\",\"firstSlug\":\"react-tutorials-in-hindi-1\",\"published_at\":\"2021-12-19T11:21:47.256Z\",\"createdAt\":\"2021-12-19T11:21:47.258Z\",\"updatedAt\":\"2021-12-26T18:30:53.708Z\",\"__v\":0,\"order\":1,\"id\":\"61bf15cbb26eda2ecc384ca2\"},{\"previewimg\":[{\"_id\":\"61bfeee682a25a00115079ae\",\"name\":\"5_5oE5lgrhw-HD.jpg\",\"alternativeText\":\"\",\"caption\":\"\",\"hash\":\"5286f40260e65257448301d19d2d8935\",\"ext\":\".jpg\",\"mime\":\"image/png\",\"size\":1052.05,\"width\":1666,\"height\":948,\"url\":\"https://codewithharry.nyc3.cdn.digitaloceanspaces.com/assets/5286f40260e65257448301d19d2d8935.jpg\",\"formats\":{\"thumbnail\":{\"name\":\"thumbnail_5_5oE5lgrhw-HD.jpg\",\"hash\":\"26395e4be1fa67bdae477b2266ca4194\",\"ext\":\".jpg\",\"mime\":\"image/png\",\"width\":245,\"height\":139,\"size\":71.04,\"path\":null,\"url\":\"https://codewithharry.nyc3.cdn.digitaloceanspaces.com/assets/26395e4be1fa67bdae477b2266ca4194.jpg\"},\"large\":{\"name\":\"large_5_5oE5lgrhw-HD.jpg\",\"hash\":\"560cfa858d158a524210691c7a615a40\",\"ext\":\".jpg\",\"mime\":\"image/png\",\"width\":1000,\"height\":569,\"size\":759.98,\"path\":null,\"url\":\"https://codewithharry.nyc3.cdn.digitaloceanspaces.com/assets/560cfa858d158a524210691c7a615a40.jpg\"},\"medium\":{\"name\":\"medium_5_5oE5lgrhw-HD.jpg\",\"hash\":\"8ea60dc0aaa3bab4f6beca8a70ae6da2\",\"ext\":\".jpg\",\"mime\":\"image/png\",\"width\":750,\"height\":427,\"size\":462.58,\"path\":null,\"url\":\"https://codewithharry.nyc3.cdn.digitaloceanspaces.com/assets/8ea60dc0aaa3bab4f6beca8a70ae6da2.jpg\"},\"small\":{\"name\":\"small_5_5oE5lgrhw-HD.jpg\",\"hash\":\"f496dc6b6be213de9a4de3c3647f8396\",\"ext\":\".jpg\",\"mime\":\"image/png\",\"width\":500,\"height\":285,\"size\":231.83,\"path\":null,\"url\":\"https://codewithharry.nyc3.cdn.digitaloceanspaces.com/assets/f496dc6b6be213de9a4de3c3647f8396.jpg\"}},\"provider\":\"do\",\"related\":[\"61bf15cbb26eda2ecc384c9e\"],\"createdAt\":\"2021-12-20T02:48:06.761Z\",\"updatedAt\":\"2021-12-26T18:28:16.052Z\",\"__v\":0,\"id\":\"61bfeee682a25a00115079ae\"}],\"_id\":\"61bf15cbb26eda2ecc384c9e\",\"title\":\"Data Structures and Algorithms Course\",\"ytplaylistid\":\"PLu0W_9lII9ahIappRPN0MCAgtOu3lQjQi\",\"description\":\"Data Structure and Algorithm is one of the most crucial things to learn. This course will give you a complete understanding of Data Structure and its implementation.\",\"firstSlug\":\"data-structures-and-algorithms-in-hindi-1\",\"published_at\":\"2021-12-19T11:21:47.255Z\",\"createdAt\":\"2021-12-19T11:21:47.258Z\",\"updatedAt\":\"2021-12-26T18:28:26.160Z\",\"__v\":0,\"order\":2,\"id\":\"61bf15cbb26eda2ecc384c9e\"}]},\"__N_SSG\":true},\"page\":\"/\",\"query\":{},\"buildId\":\"F3k4CoacHQrKVkdvt--Fq\",\"isFallback\":false,\"gsp\":true,\"scriptLoader\":[]}</script></body></html>'\n"
     ]
    }
   ],
   "source": [
    "print(htmlcontent)"
   ]
  },
  {
   "cell_type": "code",
   "execution_count": 3,
   "metadata": {},
   "outputs": [
    {
     "name": "stdout",
     "output_type": "stream",
     "text": [
      "enter your string: akshay\n",
      "Your string is:  akshay\n",
      "Type of str1:  <class 'str'>\n",
      "String lenght : 6\n",
      "Alternate characters :  asa\n",
      "Reverse the string : yahska\n"
     ]
    }
   ],
   "source": [
    "# string operations\n",
    "\n",
    "str1=input(\"enter your string: \")\n",
    "print(\"Your string is: \",str1)\n",
    "print(\"Type of str1: \",type(str1))\n",
    "print(\"String lenght :\",len(str1))\n",
    "print(\"Alternate characters : \",str1[0::2])\n",
    "print(\"Reverse the string :\",str1[::-1])\n"
   ]
  },
  {
   "cell_type": "code",
   "execution_count": 7,
   "metadata": {},
   "outputs": [
    {
     "name": "stdout",
     "output_type": "stream",
     "text": [
      "['__add__', '__class__', '__contains__', '__delattr__', '__delitem__', '__dir__', '__doc__', '__eq__', '__format__', '__ge__', '__getattribute__', '__getitem__', '__gt__', '__hash__', '__iadd__', '__imul__', '__init__', '__init_subclass__', '__iter__', '__le__', '__len__', '__lt__', '__mul__', '__ne__', '__new__', '__reduce__', '__reduce_ex__', '__repr__', '__reversed__', '__rmul__', '__setattr__', '__setitem__', '__sizeof__', '__str__', '__subclasshook__', 'append', 'clear', 'copy', 'count', 'extend', 'index', 'insert', 'pop', 'remove', 'reverse', 'sort']\n"
     ]
    }
   ],
   "source": [
    "list1=[10,20,50,40,60,50,40,30,20,10,50]\n",
    "list2=[90,80,100,\"Ajay\",\"suraj\"]\n",
    "\n",
    "\n",
    "list1.count(50)\n",
    "list1.extend(list2)\n",
    "list1\n",
    "\n",
    "print(dir(list1))"
   ]
  },
  {
   "cell_type": "code",
   "execution_count": 15,
   "metadata": {},
   "outputs": [
    {
     "name": "stdout",
     "output_type": "stream",
     "text": [
      "List1 :  [1, 2, 3, 4, 5, 6, 7, 8, 9, 10]\n",
      "List2 :  [1, 2, 3, 4, 5, 6, 7, 8, 9, 10]\n"
     ]
    }
   ],
   "source": [
    "# list1[0]=\"manoj\"\n",
    "\n",
    "l1=[]\n",
    "for i in range(1,11):      \n",
    "    l1.append(i)\n",
    "print(\"List1 : \",l1)    \n",
    "    \n",
    "\n",
    "l2=[i for i in range(1,11)]    #list comprehension\n",
    "print(\"List2 : \",l2)    \n"
   ]
  },
  {
   "cell_type": "code",
   "execution_count": 11,
   "metadata": {},
   "outputs": [
    {
     "data": {
      "text/plain": [
       "16"
      ]
     },
     "execution_count": 11,
     "metadata": {},
     "output_type": "execute_result"
    }
   ],
   "source": [
    "len(list1)"
   ]
  },
  {
   "cell_type": "code",
   "execution_count": 12,
   "metadata": {},
   "outputs": [
    {
     "name": "stdout",
     "output_type": "stream",
     "text": [
      "manoj\n",
      "20\n",
      "50\n",
      "40\n",
      "60\n",
      "50\n",
      "40\n",
      "30\n",
      "20\n",
      "10\n",
      "50\n",
      "90\n",
      "80\n",
      "100\n",
      "Ajay\n",
      "suraj\n"
     ]
    }
   ],
   "source": [
    "for i in list1:\n",
    "    print(i)"
   ]
  },
  {
   "cell_type": "code",
   "execution_count": 16,
   "metadata": {},
   "outputs": [
    {
     "data": {
      "text/plain": [
       "[2, 4, 6, 8, 10]"
      ]
     },
     "execution_count": 16,
     "metadata": {},
     "output_type": "execute_result"
    }
   ],
   "source": [
    "l_e_v=[i for i in range(1,11) if i%2==0]\n",
    "l_e_v"
   ]
  },
  {
   "cell_type": "code",
   "execution_count": 30,
   "metadata": {},
   "outputs": [
    {
     "name": "stdout",
     "output_type": "stream",
     "text": [
      "Printing dictionary :  {'name': 'Akshay Dhongade', 'Age': 23, 'Course': 'MCA', 'City': 'Pune', 'profile': 'Python developer'}\n",
      "Dict keys :  dict_keys(['name', 'Age', 'Course', 'City', 'profile'])\n",
      "Dict values :  dict_values(['Akshay Dhongade', 23, 'MCA', 'Pune', 'Python developer'])\n",
      "\n",
      " itearting dictionary \n",
      "name\n",
      "Age\n",
      "Course\n",
      "City\n",
      "profile\n",
      "\n",
      " itearting dictionary key values\n",
      "name : Akshay Dhongade\n",
      "Age : 23\n",
      "Course : MCA\n",
      "City : Pune\n",
      "profile : Python developer\n"
     ]
    }
   ],
   "source": [
    "dict1={\"name\":\"Akshay\",\"Age\":23,\"Course\":\"MCA\"}\n",
    "\n",
    "\n",
    "dict1[\"City\"]=\"Pune\"  #adding new key value in dictionary\n",
    "\n",
    "dict1[\"name\"]=\"Akshay Dhongade\"   #updating dictionary key value way1\n",
    "\n",
    "dict1.update({\"profile\":\"Python developer\"}) #updating dictionary key value way2\n",
    "\n",
    "print(\"Printing dictionary : \",dict1)\n",
    "\n",
    "\n",
    "dict.keys(dict1)\n",
    "print(\"Dict keys : \",dict1.keys())\n",
    "\n",
    "print(\"Dict values : \",dict1.values())\n",
    "\n",
    "\n",
    "\n",
    "\n",
    "print(\"\\n itearting dictionary \")\n",
    "for key in dict1:\n",
    "    print(key)\n",
    "    \n",
    "\n",
    "    \n",
    "\n",
    "print(\"\\n itearting dictionary key values\")\n",
    "for key,value in dict1.items():\n",
    "    print(key,\":\",value)\n",
    "    \n",
    "    "
   ]
  },
  {
   "cell_type": "code",
   "execution_count": 33,
   "metadata": {},
   "outputs": [
    {
     "data": {
      "text/plain": [
       "('meera', 10, True, [10, 20, 30, 40, 50])"
      ]
     },
     "execution_count": 33,
     "metadata": {},
     "output_type": "execute_result"
    }
   ],
   "source": [
    "# tuple\n",
    "\n",
    "\n",
    "tup1=(\"ajay\")\n",
    "type(tup1)\n",
    "\n",
    "\n",
    "tup2=(\"meera\",10,True,[10,20,30,40])  #inside tulpe list is muttable so inside tuple list data is changed \n",
    "type(tup2)\n",
    "\n",
    "tup2[3].append(50)\n",
    "tup2"
   ]
  },
  {
   "cell_type": "code",
   "execution_count": 36,
   "metadata": {},
   "outputs": [
    {
     "data": {
      "text/plain": [
       "30"
      ]
     },
     "execution_count": 36,
     "metadata": {},
     "output_type": "execute_result"
    }
   ],
   "source": [
    "\n",
    "# unpacking in tuple\n",
    "\n",
    "a,b,c=(10,20,30)\n",
    "a\n",
    "b\n",
    "c"
   ]
  },
  {
   "cell_type": "code",
   "execution_count": 38,
   "metadata": {},
   "outputs": [
    {
     "name": "stdout",
     "output_type": "stream",
     "text": [
      "time takes for executing tuple : 0.048465400001077796\n",
      "time takes for executing list: 0.1853147000001627\n"
     ]
    }
   ],
   "source": [
    "# list vs tuple\n",
    "\n",
    "'''tuple is more faster and less  memory usage as compare to list'''\n",
    "# live example for finding how much is it takes to execute program\n",
    "\n",
    "\n",
    "import timeit\n",
    "print(\"time takes for executing tuple :\",timeit.timeit('x=(1,2,3,4,5)',number=1000000)) #time takes for executing tuple\n",
    "print(\"time takes for executing list:\",timeit.timeit('x=[1,2,3,4,5]',number=1000000)) #time takes for executing list\n",
    "\n"
   ]
  },
  {
   "cell_type": "code",
   "execution_count": 61,
   "metadata": {},
   "outputs": [
    {
     "name": "stdout",
     "output_type": "stream",
     "text": [
      "Empty dictionary : <class 'dict'>\n",
      "Empty set : <class 'set'>\n",
      "{'Audi', 'Volvo', 'Range rower', 'Bmw'}\n",
      "{'Mahindra', 'Range rower', 'Maruti', 'Tata'}\n"
     ]
    }
   ],
   "source": [
    "# set \n",
    "# unordered,unique values contains \n",
    "# functinaliy->add,remove,inion,intersection,difference,subset,superset\n",
    "\n",
    "set1={}   #empty dictionary\n",
    "print(\"Empty dictionary :\",type(set1))\n",
    "\n",
    "set2=set()\n",
    "print(\"Empty set :\",type(set2))\n",
    "\n",
    "\n",
    "set_of_cars1={\"Volvo\",\"Bmw\",\"Audi\",\"Audi\",\"Range rower\"}\n",
    "set_of_cars2={\"Tata\",\"Mahindra\",\"Maruti\",\"Range rower\"}\n",
    "\n",
    "\n",
    "print(set_of_cars1)\n",
    "print(set_of_cars2)\n",
    "\n",
    "\n"
   ]
  },
  {
   "cell_type": "code",
   "execution_count": 56,
   "metadata": {},
   "outputs": [
    {
     "data": {
      "text/plain": [
       "['__and__',\n",
       " '__class__',\n",
       " '__contains__',\n",
       " '__delattr__',\n",
       " '__dir__',\n",
       " '__doc__',\n",
       " '__eq__',\n",
       " '__format__',\n",
       " '__ge__',\n",
       " '__getattribute__',\n",
       " '__gt__',\n",
       " '__hash__',\n",
       " '__iand__',\n",
       " '__init__',\n",
       " '__init_subclass__',\n",
       " '__ior__',\n",
       " '__isub__',\n",
       " '__iter__',\n",
       " '__ixor__',\n",
       " '__le__',\n",
       " '__len__',\n",
       " '__lt__',\n",
       " '__ne__',\n",
       " '__new__',\n",
       " '__or__',\n",
       " '__rand__',\n",
       " '__reduce__',\n",
       " '__reduce_ex__',\n",
       " '__repr__',\n",
       " '__ror__',\n",
       " '__rsub__',\n",
       " '__rxor__',\n",
       " '__setattr__',\n",
       " '__sizeof__',\n",
       " '__str__',\n",
       " '__sub__',\n",
       " '__subclasshook__',\n",
       " '__xor__',\n",
       " 'add',\n",
       " 'clear',\n",
       " 'copy',\n",
       " 'difference',\n",
       " 'difference_update',\n",
       " 'discard',\n",
       " 'intersection',\n",
       " 'intersection_update',\n",
       " 'isdisjoint',\n",
       " 'issubset',\n",
       " 'issuperset',\n",
       " 'pop',\n",
       " 'remove',\n",
       " 'symmetric_difference',\n",
       " 'symmetric_difference_update',\n",
       " 'union',\n",
       " 'update']"
      ]
     },
     "execution_count": 56,
     "metadata": {},
     "output_type": "execute_result"
    }
   ],
   "source": [
    "# set operations\n",
    "\n",
    "set_of_cars2={\"Tata\",\"Mahindra\",\"Maruti\"}\n",
    "\n",
    "set_of_cars2.add(\"Hyundai\")\n",
    "\n",
    "# set_of_cars1.remove(\"Audi\")\n",
    "\n",
    "dir(set_of_cars1)\n"
   ]
  },
  {
   "cell_type": "code",
   "execution_count": 59,
   "metadata": {},
   "outputs": [
    {
     "data": {
      "text/plain": [
       "{'Bmw', 'Hyundai', 'Mahindra', 'Maruti', 'Tata', 'Volvo'}"
      ]
     },
     "execution_count": 59,
     "metadata": {},
     "output_type": "execute_result"
    }
   ],
   "source": [
    "#union set\n",
    "\n",
    "\n",
    "set4=set_of_cars1.union(set_of_cars2)\n",
    "set4"
   ]
  },
  {
   "cell_type": "code",
   "execution_count": 62,
   "metadata": {},
   "outputs": [
    {
     "data": {
      "text/plain": [
       "{'Range rower'}"
      ]
     },
     "execution_count": 62,
     "metadata": {},
     "output_type": "execute_result"
    }
   ],
   "source": [
    "#intersection\n",
    "\n",
    "set5=set_of_cars1.intersection(set_of_cars2)\n",
    "set5"
   ]
  },
  {
   "cell_type": "code",
   "execution_count": 63,
   "metadata": {},
   "outputs": [
    {
     "data": {
      "text/plain": [
       "{'Audi', 'Bmw', 'Volvo'}"
      ]
     },
     "execution_count": 63,
     "metadata": {},
     "output_type": "execute_result"
    }
   ],
   "source": [
    "# set1-set2(without common value) only set1 taken \n",
    "\n",
    "\n",
    "\n",
    "set5=set_of_cars1.difference(set_of_cars2)\n",
    "set5"
   ]
  },
  {
   "cell_type": "code",
   "execution_count": 71,
   "metadata": {},
   "outputs": [
    {
     "data": {
      "text/plain": [
       "array('f', [10.0, 20.0, 30.0, 40.0])"
      ]
     },
     "execution_count": 71,
     "metadata": {},
     "output_type": "execute_result"
    }
   ],
   "source": [
    "import array\n",
    "\n",
    "# use for type of array i(int),f(float)\n",
    "arr=array.array('f',[10,20,30,40])\n",
    "arr\n",
    "\n",
    "arr.append(50)\n",
    "arr\n",
    "\n",
    "arr.pop()\n",
    "arr"
   ]
  },
  {
   "cell_type": "code",
   "execution_count": 76,
   "metadata": {},
   "outputs": [
    {
     "name": "stdout",
     "output_type": "stream",
     "text": [
      "1.Push\n",
      "2.pop\n",
      "3.show list\n",
      "4.exit\n",
      "ENter your choice1\n",
      "Enter element10\n",
      "1.Push\n",
      "2.pop\n",
      "3.show list\n",
      "4.exit\n",
      "ENter your choice1\n",
      "Enter element100\n",
      "1.Push\n",
      "2.pop\n",
      "3.show list\n",
      "4.exit\n",
      "ENter your choice3\n",
      "List items are : ['10', '100']\n",
      "1.Push\n",
      "2.pop\n",
      "3.show list\n",
      "4.exit\n",
      "ENter your choice2\n",
      "1.Push\n",
      "2.pop\n",
      "3.show list\n",
      "4.exit\n",
      "ENter your choice3\n",
      "List items are : ['10']\n",
      "1.Push\n",
      "2.pop\n",
      "3.show list\n",
      "4.exit\n",
      "ENter your choice2\n",
      "1.Push\n",
      "2.pop\n",
      "3.show list\n",
      "4.exit\n",
      "ENter your choice3\n",
      "List items are : []\n",
      "1.Push\n",
      "2.pop\n",
      "3.show list\n",
      "4.exit\n",
      "ENter your choice2\n",
      "list is empty\n",
      "1.Push\n",
      "2.pop\n",
      "3.show list\n",
      "4.exit\n",
      "ENter your choice4\n"
     ]
    }
   ],
   "source": [
    "# stack\n",
    "\n",
    "l2=[]\n",
    "\n",
    "while True:\n",
    "    print(\"1.Push\")\n",
    "    print(\"2.pop\")\n",
    "    print(\"3.show list\")\n",
    "    print(\"4.exit\")\n",
    "    \n",
    "    ch=int(input(\"ENter your choice\"))\n",
    "    \n",
    "    if ch==1:\n",
    "        ele=input(\"Enter element\")\n",
    "        l2.append(ele)\n",
    "        \n",
    "    elif ch==2:\n",
    "        if len(l2):\n",
    "            l2.pop()\n",
    "        else:    \n",
    "            print(\"list is empty\")\n",
    "    \n",
    "    elif ch==3:\n",
    "        print(\"List items are :\",l2)\n",
    "    \n",
    "    elif ch==4:\n",
    "        break\n",
    "     \n",
    "    else:\n",
    "        print(\"you entered invalid choice\")\n",
    "        \n",
    "\n",
    "        \n",
    "    "
   ]
  },
  {
   "cell_type": "code",
   "execution_count": 77,
   "metadata": {},
   "outputs": [
    {
     "name": "stdout",
     "output_type": "stream",
     "text": [
      "1.enqueue\n",
      "2.dequeue\n",
      "3.show list\n",
      "4.exit\n",
      "ENter your choice1\n",
      "Enter element20\n",
      "1.enqueue\n",
      "2.dequeue\n",
      "3.show list\n",
      "4.exit\n",
      "ENter your choice30\n",
      "you entered invalid choice\n",
      "1.enqueue\n",
      "2.dequeue\n",
      "3.show list\n",
      "4.exit\n",
      "ENter your choice1\n",
      "Enter element20\n",
      "1.enqueue\n",
      "2.dequeue\n",
      "3.show list\n",
      "4.exit\n",
      "ENter your choice3\n",
      "List items are : ['20', '20']\n",
      "1.enqueue\n",
      "2.dequeue\n",
      "3.show list\n",
      "4.exit\n",
      "ENter your choice22\n",
      "you entered invalid choice\n",
      "1.enqueue\n",
      "2.dequeue\n",
      "3.show list\n",
      "4.exit\n",
      "ENter your choice2\n",
      "1.enqueue\n",
      "2.dequeue\n",
      "3.show list\n",
      "4.exit\n",
      "ENter your choice3\n",
      "List items are : ['20']\n",
      "1.enqueue\n",
      "2.dequeue\n",
      "3.show list\n",
      "4.exit\n",
      "ENter your choice2\n",
      "1.enqueue\n",
      "2.dequeue\n",
      "3.show list\n",
      "4.exit\n",
      "ENter your choice3\n",
      "List items are : []\n",
      "1.enqueue\n",
      "2.dequeue\n",
      "3.show list\n",
      "4.exit\n",
      "ENter your choice22\n",
      "you entered invalid choice\n",
      "1.enqueue\n",
      "2.dequeue\n",
      "3.show list\n",
      "4.exit\n",
      "ENter your choice2\n",
      "list is empty\n",
      "1.enqueue\n",
      "2.dequeue\n",
      "3.show list\n",
      "4.exit\n"
     ]
    },
    {
     "ename": "KeyboardInterrupt",
     "evalue": "Interrupted by user",
     "output_type": "error",
     "traceback": [
      "\u001b[1;31m---------------------------------------------------------------------------\u001b[0m",
      "\u001b[1;31mKeyboardInterrupt\u001b[0m                         Traceback (most recent call last)",
      "\u001b[1;32m<ipython-input-77-467db811e86b>\u001b[0m in \u001b[0;36m<module>\u001b[1;34m\u001b[0m\n\u001b[0;32m      9\u001b[0m     \u001b[0mprint\u001b[0m\u001b[1;33m(\u001b[0m\u001b[1;34m\"4.exit\"\u001b[0m\u001b[1;33m)\u001b[0m\u001b[1;33m\u001b[0m\u001b[1;33m\u001b[0m\u001b[0m\n\u001b[0;32m     10\u001b[0m \u001b[1;33m\u001b[0m\u001b[0m\n\u001b[1;32m---> 11\u001b[1;33m     \u001b[0mch\u001b[0m\u001b[1;33m=\u001b[0m\u001b[0mint\u001b[0m\u001b[1;33m(\u001b[0m\u001b[0minput\u001b[0m\u001b[1;33m(\u001b[0m\u001b[1;34m\"ENter your choice\"\u001b[0m\u001b[1;33m)\u001b[0m\u001b[1;33m)\u001b[0m\u001b[1;33m\u001b[0m\u001b[1;33m\u001b[0m\u001b[0m\n\u001b[0m\u001b[0;32m     12\u001b[0m \u001b[1;33m\u001b[0m\u001b[0m\n\u001b[0;32m     13\u001b[0m     \u001b[1;32mif\u001b[0m \u001b[0mch\u001b[0m\u001b[1;33m==\u001b[0m\u001b[1;36m1\u001b[0m\u001b[1;33m:\u001b[0m\u001b[1;33m\u001b[0m\u001b[1;33m\u001b[0m\u001b[0m\n",
      "\u001b[1;32mC:\\ProgramData\\Anaconda3\\lib\\site-packages\\ipykernel\\kernelbase.py\u001b[0m in \u001b[0;36mraw_input\u001b[1;34m(self, prompt)\u001b[0m\n\u001b[0;32m    858\u001b[0m                 \u001b[1;34m\"raw_input was called, but this frontend does not support input requests.\"\u001b[0m\u001b[1;33m\u001b[0m\u001b[1;33m\u001b[0m\u001b[0m\n\u001b[0;32m    859\u001b[0m             )\n\u001b[1;32m--> 860\u001b[1;33m         return self._input_request(str(prompt),\n\u001b[0m\u001b[0;32m    861\u001b[0m             \u001b[0mself\u001b[0m\u001b[1;33m.\u001b[0m\u001b[0m_parent_ident\u001b[0m\u001b[1;33m,\u001b[0m\u001b[1;33m\u001b[0m\u001b[1;33m\u001b[0m\u001b[0m\n\u001b[0;32m    862\u001b[0m             \u001b[0mself\u001b[0m\u001b[1;33m.\u001b[0m\u001b[0m_parent_header\u001b[0m\u001b[1;33m,\u001b[0m\u001b[1;33m\u001b[0m\u001b[1;33m\u001b[0m\u001b[0m\n",
      "\u001b[1;32mC:\\ProgramData\\Anaconda3\\lib\\site-packages\\ipykernel\\kernelbase.py\u001b[0m in \u001b[0;36m_input_request\u001b[1;34m(self, prompt, ident, parent, password)\u001b[0m\n\u001b[0;32m    902\u001b[0m             \u001b[1;32mexcept\u001b[0m \u001b[0mKeyboardInterrupt\u001b[0m\u001b[1;33m:\u001b[0m\u001b[1;33m\u001b[0m\u001b[1;33m\u001b[0m\u001b[0m\n\u001b[0;32m    903\u001b[0m                 \u001b[1;31m# re-raise KeyboardInterrupt, to truncate traceback\u001b[0m\u001b[1;33m\u001b[0m\u001b[1;33m\u001b[0m\u001b[1;33m\u001b[0m\u001b[0m\n\u001b[1;32m--> 904\u001b[1;33m                 \u001b[1;32mraise\u001b[0m \u001b[0mKeyboardInterrupt\u001b[0m\u001b[1;33m(\u001b[0m\u001b[1;34m\"Interrupted by user\"\u001b[0m\u001b[1;33m)\u001b[0m \u001b[1;32mfrom\u001b[0m \u001b[1;32mNone\u001b[0m\u001b[1;33m\u001b[0m\u001b[1;33m\u001b[0m\u001b[0m\n\u001b[0m\u001b[0;32m    905\u001b[0m             \u001b[1;32mexcept\u001b[0m \u001b[0mException\u001b[0m \u001b[1;32mas\u001b[0m \u001b[0me\u001b[0m\u001b[1;33m:\u001b[0m\u001b[1;33m\u001b[0m\u001b[1;33m\u001b[0m\u001b[0m\n\u001b[0;32m    906\u001b[0m                 \u001b[0mself\u001b[0m\u001b[1;33m.\u001b[0m\u001b[0mlog\u001b[0m\u001b[1;33m.\u001b[0m\u001b[0mwarning\u001b[0m\u001b[1;33m(\u001b[0m\u001b[1;34m\"Invalid Message:\"\u001b[0m\u001b[1;33m,\u001b[0m \u001b[0mexc_info\u001b[0m\u001b[1;33m=\u001b[0m\u001b[1;32mTrue\u001b[0m\u001b[1;33m)\u001b[0m\u001b[1;33m\u001b[0m\u001b[1;33m\u001b[0m\u001b[0m\n",
      "\u001b[1;31mKeyboardInterrupt\u001b[0m: Interrupted by user"
     ]
    }
   ],
   "source": [
    "# queue\n",
    "\n",
    "l1=[]\n",
    "\n",
    "while True:\n",
    "    print(\"1.enqueue\")\n",
    "    print(\"2.dequeue\")\n",
    "    print(\"3.show list\")\n",
    "    print(\"4.exit\")\n",
    "    \n",
    "    ch=int(input(\"ENter your choice\"))\n",
    "    \n",
    "    if ch==1:\n",
    "        ele=input(\"Enter element\")\n",
    "        l1.append(ele)\n",
    "        \n",
    "    elif ch==2:\n",
    "        if len(l1):\n",
    "            l1.pop(0)\n",
    "        else:    \n",
    "            print(\"list is empty\")\n",
    "    \n",
    "    elif ch==3:\n",
    "        print(\"List items are :\",l1)\n",
    "    \n",
    "    elif ch==4:\n",
    "        break\n",
    "     \n",
    "    else:\n",
    "        print(\"you entered invalid choice\")\n",
    "        \n",
    "\n",
    "        \n",
    "    "
   ]
  },
  {
   "cell_type": "code",
   "execution_count": 78,
   "metadata": {},
   "outputs": [],
   "source": [
    "a=10"
   ]
  },
  {
   "cell_type": "code",
   "execution_count": 79,
   "metadata": {},
   "outputs": [
    {
     "data": {
      "text/plain": [
       "int"
      ]
     },
     "execution_count": 79,
     "metadata": {},
     "output_type": "execute_result"
    }
   ],
   "source": [
    "type(a)"
   ]
  },
  {
   "cell_type": "code",
   "execution_count": 87,
   "metadata": {},
   "outputs": [
    {
     "ename": "SyntaxError",
     "evalue": "invalid syntax (<ipython-input-87-c520d39496d3>, line 13)",
     "output_type": "error",
     "traceback": [
      "\u001b[1;36m  File \u001b[1;32m\"<ipython-input-87-c520d39496d3>\"\u001b[1;36m, line \u001b[1;32m13\u001b[0m\n\u001b[1;33m    for i in range(1,10)\u001b[0m\n\u001b[1;37m                        ^\u001b[0m\n\u001b[1;31mSyntaxError\u001b[0m\u001b[1;31m:\u001b[0m invalid syntax\n"
     ]
    }
   ],
   "source": [
    "'''three types of errors\n",
    "\n",
    "1)compile time error ->syntactical error missing : wrong predefined function use ,wrong spelling\n",
    "2)logical error  ->error in user logic wrong output\n",
    "3)run time error->number divide by 0\n",
    "'''\n",
    "\n",
    "\n",
    "\n",
    "\n",
    "try:\n",
    "   \n",
    "    for i in range(1,10)\n",
    "    print(i)\n",
    "except Exception as a:\n",
    "    print(\"error : \",a)\n",
    "    \n",
    "finally:\n",
    "    print(\"Always exceuted resources closed\")\n",
    "\n",
    "    "
   ]
  },
  {
   "cell_type": "code",
   "execution_count": 2,
   "metadata": {},
   "outputs": [
    {
     "name": "stdout",
     "output_type": "stream",
     "text": [
      "[4, 9, 16, 25]\n"
     ]
    }
   ],
   "source": [
    "# map()\n",
    "\n",
    "l=[2,3,4,5]\n",
    "\n",
    "def square(n):\n",
    "    return n*n\n",
    "\n",
    "c=map(square,l)\n",
    "print(list(c))"
   ]
  },
  {
   "cell_type": "code",
   "execution_count": 6,
   "metadata": {},
   "outputs": [
    {
     "name": "stdout",
     "output_type": "stream",
     "text": [
      "(8, 125, 216, 64, 512, 3375, 2744, 6859, 8000, 91125, 29791)\n"
     ]
    }
   ],
   "source": [
    "# map function execute function on every element of sequence \n",
    "\n",
    "# sequence=number of values tuple,set,list \n",
    "\n",
    "# map(functionname,sequence name)\n",
    "\n",
    "# manipulation,modification will be happend in case of  map function\n",
    "\n",
    "# for every element present in the given sequence applying some function and generate new element with the required modification\n",
    "\n",
    "l2=[2,5,6,4,8,15,14,19,20,45,31]\n",
    "\n",
    "d=lambda n:n**3\n",
    "\n",
    "cubes=map(d,l2)\n",
    "print(tuple(cubes))"
   ]
  },
  {
   "cell_type": "code",
   "execution_count": 7,
   "metadata": {},
   "outputs": [
    {
     "name": "stdout",
     "output_type": "stream",
     "text": [
      "[6, 20, 18, 16]\n"
     ]
    }
   ],
   "source": [
    "# apply map function apply with multiple sequence\n",
    "\n",
    "def mult(x,y):\n",
    "    return x*y\n",
    "\n",
    "a=[2,4,6,8]\n",
    "b=[3,5,3,2]\n",
    "\n",
    "mult2=map(mult,a,b)\n",
    "print(list(mult2))\n",
    "\n"
   ]
  },
  {
   "cell_type": "code",
   "execution_count": 22,
   "metadata": {},
   "outputs": [
    {
     "data": {
      "text/plain": [
       "[6, 20, 18, 16]"
      ]
     },
     "execution_count": 22,
     "metadata": {},
     "output_type": "execute_result"
    }
   ],
   "source": [
    "ld=list(map(lambda a,b:a*b,a,b))\n",
    "ld"
   ]
  },
  {
   "cell_type": "code",
   "execution_count": 17,
   "metadata": {},
   "outputs": [
    {
     "name": "stdout",
     "output_type": "stream",
     "text": [
      "[2, 4, 6, 8]\n"
     ]
    }
   ],
   "source": [
    "l3=[2,3,4,5,6,7,9,8]\n",
    "\n",
    "\n",
    "d=list(filter(lambda n:n%2==0,l3))\n",
    "print(d)"
   ]
  },
  {
   "cell_type": "code",
   "execution_count": 10,
   "metadata": {},
   "outputs": [
    {
     "name": "stdout",
     "output_type": "stream",
     "text": [
      "[8, 27, 125, 343, 216, 512]\n"
     ]
    }
   ],
   "source": [
    "num=[2,3,5,7,6,8]\n",
    "\n",
    "cubed=list(map(lambda n:n**3,num))\n",
    "print(cubed)"
   ]
  },
  {
   "cell_type": "code",
   "execution_count": 16,
   "metadata": {},
   "outputs": [
    {
     "ename": "SyntaxError",
     "evalue": "expression cannot contain assignment, perhaps you meant \"==\"? (<ipython-input-16-5f13c2da8dfa>, line 3)",
     "output_type": "error",
     "traceback": [
      "\u001b[1;36m  File \u001b[1;32m\"<ipython-input-16-5f13c2da8dfa>\"\u001b[1;36m, line \u001b[1;32m3\u001b[0m\n\u001b[1;33m    ld=list(map(lambda n:n=n+1,num))\u001b[0m\n\u001b[1;37m                ^\u001b[0m\n\u001b[1;31mSyntaxError\u001b[0m\u001b[1;31m:\u001b[0m expression cannot contain assignment, perhaps you meant \"==\"?\n"
     ]
    }
   ],
   "source": [
    "n=0\n",
    "\n",
    "ld=list(map(lambda n:n=n+1,num))\n",
    "print(ld)"
   ]
  },
  {
   "cell_type": "code",
   "execution_count": null,
   "metadata": {},
   "outputs": [],
   "source": [
    "# filter()\n",
    "\n",
    "# we can use filter() to filter values from the given sequence based on some condition\n",
    "# syntax filter(function,sequence)\n",
    "#conditional check going to be happend in the case of filter "
   ]
  },
  {
   "cell_type": "code",
   "execution_count": 1,
   "metadata": {},
   "outputs": [
    {
     "name": "stdout",
     "output_type": "stream",
     "text": [
      "file is created\n"
     ]
    }
   ],
   "source": [
    "# file handling in python\n",
    "\n",
    "# reading data from file-> read(),readline()\n",
    "# readlines return all lines from file in the form of list\n",
    "#write() is used to write data into file \n",
    "#writelines() function is used to write sequence data tuype vaues into file\n",
    "\n",
    "file=open(\"F:/python_prog/file_handling/file1.txt\",\"w\")\n",
    "\n",
    "\n",
    "try:    \n",
    "    file.write(\"i love python\")\n",
    "    file.close()\n",
    "    print(\"file is created\")\n",
    "    \n",
    "except Exception as e:\n",
    "    print(e)\n",
    "    "
   ]
  },
  {
   "cell_type": "code",
   "execution_count": 8,
   "metadata": {},
   "outputs": [
    {
     "name": "stdout",
     "output_type": "stream",
     "text": [
      "\n",
      " 1...Reading File Data\n",
      "2...Writing data into file \n",
      "3...exit\n",
      " \n",
      "Enter your option2\n",
      "Enter file locationF:\\python_prog\\file_handling\\file1.txt\n",
      "\n",
      " 1...Reading File Data\n",
      "2...Writing data into file \n",
      "3...exit\n",
      " \n",
      "Enter your option1\n",
      "Enter file locationF:\\python_prog\\file_handling\\file1.txt\n",
      "\n",
      " File content is :\n",
      " ['sagar\\n', 'ramesh\\n', 'suresh']\n",
      "\n",
      " 1...Reading File Data\n",
      "2...Writing data into file \n",
      "3...exit\n",
      " \n"
     ]
    },
    {
     "ename": "KeyboardInterrupt",
     "evalue": "Interrupted by user",
     "output_type": "error",
     "traceback": [
      "\u001b[1;31m---------------------------------------------------------------------------\u001b[0m",
      "\u001b[1;31mKeyboardInterrupt\u001b[0m                         Traceback (most recent call last)",
      "\u001b[1;32m<ipython-input-8-3e003d695bf3>\u001b[0m in \u001b[0;36m<module>\u001b[1;34m\u001b[0m\n\u001b[0;32m      4\u001b[0m     \u001b[0mprint\u001b[0m\u001b[1;33m(\u001b[0m\u001b[1;34m\"3...exit\\n \"\u001b[0m\u001b[1;33m)\u001b[0m\u001b[1;33m\u001b[0m\u001b[1;33m\u001b[0m\u001b[0m\n\u001b[0;32m      5\u001b[0m \u001b[1;33m\u001b[0m\u001b[0m\n\u001b[1;32m----> 6\u001b[1;33m     \u001b[0mch\u001b[0m\u001b[1;33m=\u001b[0m\u001b[0mint\u001b[0m\u001b[1;33m(\u001b[0m\u001b[0minput\u001b[0m\u001b[1;33m(\u001b[0m\u001b[1;34m\"Enter your option\"\u001b[0m\u001b[1;33m)\u001b[0m\u001b[1;33m)\u001b[0m\u001b[1;33m\u001b[0m\u001b[1;33m\u001b[0m\u001b[0m\n\u001b[0m\u001b[0;32m      7\u001b[0m \u001b[1;33m\u001b[0m\u001b[0m\n\u001b[0;32m      8\u001b[0m \u001b[1;33m\u001b[0m\u001b[0m\n",
      "\u001b[1;32mC:\\ProgramData\\Anaconda3\\lib\\site-packages\\ipykernel\\kernelbase.py\u001b[0m in \u001b[0;36mraw_input\u001b[1;34m(self, prompt)\u001b[0m\n\u001b[0;32m    858\u001b[0m                 \u001b[1;34m\"raw_input was called, but this frontend does not support input requests.\"\u001b[0m\u001b[1;33m\u001b[0m\u001b[1;33m\u001b[0m\u001b[0m\n\u001b[0;32m    859\u001b[0m             )\n\u001b[1;32m--> 860\u001b[1;33m         return self._input_request(str(prompt),\n\u001b[0m\u001b[0;32m    861\u001b[0m             \u001b[0mself\u001b[0m\u001b[1;33m.\u001b[0m\u001b[0m_parent_ident\u001b[0m\u001b[1;33m,\u001b[0m\u001b[1;33m\u001b[0m\u001b[1;33m\u001b[0m\u001b[0m\n\u001b[0;32m    862\u001b[0m             \u001b[0mself\u001b[0m\u001b[1;33m.\u001b[0m\u001b[0m_parent_header\u001b[0m\u001b[1;33m,\u001b[0m\u001b[1;33m\u001b[0m\u001b[1;33m\u001b[0m\u001b[0m\n",
      "\u001b[1;32mC:\\ProgramData\\Anaconda3\\lib\\site-packages\\ipykernel\\kernelbase.py\u001b[0m in \u001b[0;36m_input_request\u001b[1;34m(self, prompt, ident, parent, password)\u001b[0m\n\u001b[0;32m    902\u001b[0m             \u001b[1;32mexcept\u001b[0m \u001b[0mKeyboardInterrupt\u001b[0m\u001b[1;33m:\u001b[0m\u001b[1;33m\u001b[0m\u001b[1;33m\u001b[0m\u001b[0m\n\u001b[0;32m    903\u001b[0m                 \u001b[1;31m# re-raise KeyboardInterrupt, to truncate traceback\u001b[0m\u001b[1;33m\u001b[0m\u001b[1;33m\u001b[0m\u001b[1;33m\u001b[0m\u001b[0m\n\u001b[1;32m--> 904\u001b[1;33m                 \u001b[1;32mraise\u001b[0m \u001b[0mKeyboardInterrupt\u001b[0m\u001b[1;33m(\u001b[0m\u001b[1;34m\"Interrupted by user\"\u001b[0m\u001b[1;33m)\u001b[0m \u001b[1;32mfrom\u001b[0m \u001b[1;32mNone\u001b[0m\u001b[1;33m\u001b[0m\u001b[1;33m\u001b[0m\u001b[0m\n\u001b[0m\u001b[0;32m    905\u001b[0m             \u001b[1;32mexcept\u001b[0m \u001b[0mException\u001b[0m \u001b[1;32mas\u001b[0m \u001b[0me\u001b[0m\u001b[1;33m:\u001b[0m\u001b[1;33m\u001b[0m\u001b[1;33m\u001b[0m\u001b[0m\n\u001b[0;32m    906\u001b[0m                 \u001b[0mself\u001b[0m\u001b[1;33m.\u001b[0m\u001b[0mlog\u001b[0m\u001b[1;33m.\u001b[0m\u001b[0mwarning\u001b[0m\u001b[1;33m(\u001b[0m\u001b[1;34m\"Invalid Message:\"\u001b[0m\u001b[1;33m,\u001b[0m \u001b[0mexc_info\u001b[0m\u001b[1;33m=\u001b[0m\u001b[1;32mTrue\u001b[0m\u001b[1;33m)\u001b[0m\u001b[1;33m\u001b[0m\u001b[1;33m\u001b[0m\u001b[0m\n",
      "\u001b[1;31mKeyboardInterrupt\u001b[0m: Interrupted by user"
     ]
    }
   ],
   "source": [
    "\n",
    "\n",
    "\n",
    "while True:\n",
    "    print(\"\\n 1...Reading File Data\")\n",
    "    print(\"2...Writing data into file \")\n",
    "    print(\"3...exit\\n \")\n",
    "    \n",
    "    ch=int(input(\"Enter your option\"))\n",
    "    \n",
    "    \n",
    "    if ch==1:\n",
    "        file_loc=input(\"Enter file location\")\n",
    "        fp=open(file_loc,\"r\")\n",
    "        content=fp.readlines()\n",
    "        fp.close()\n",
    "        print(\"\\n File content is :\\n\",content)\n",
    "    \n",
    "    elif ch==2:\n",
    "        file_loc=input(\"Enter file location\")\n",
    "        fp=open(file_loc,\"w\")\n",
    "        l1=[\"sagar\\n\",\"ramesh\\n\",\"suresh\"]\n",
    "        fp.writelines(l1)\n",
    "        fp.close()\n",
    "        \n",
    "    elif ch==3:\n",
    "        break\n",
    "        \n",
    "    else:\n",
    "        print(\"You entered invalid choice\")"
   ]
  },
  {
   "cell_type": "code",
   "execution_count": 9,
   "metadata": {},
   "outputs": [],
   "source": [
    "# pickling unpickling \n",
    "\n",
    "# pickling->convert object into bytestream  encription(serialization)\n",
    "\n",
    "#unpicking ->convert  bytetream into real object  decryption(deserialization)\n",
    "\n",
    "\n",
    "\n",
    "import pickle\n",
    "\n",
    "f=open(\"F:\\\\python_prog\\\\file_handling\\\\file2.txt\",\"wb\")\n",
    "\n",
    "d={\"Name\":\"Akshay\",\"gender\":\"male\",\"Age\":23}\n",
    "\n",
    "\n",
    "pickle.dump(d,f)\n",
    "\n",
    "f.close()"
   ]
  },
  {
   "cell_type": "code",
   "execution_count": 10,
   "metadata": {},
   "outputs": [
    {
     "name": "stdout",
     "output_type": "stream",
     "text": [
      "{'Name': 'Akshay', 'gender': 'male', 'Age': 23}\n"
     ]
    }
   ],
   "source": [
    "# unpickling, decerialization,bytrstream to real object\n",
    "\n",
    "\n",
    "import pickle\n",
    "\n",
    "f=open(\"F:\\\\python_prog\\\\file_handling\\\\file2.txt\",\"rb\")\n",
    "\n",
    "d=pickle.load(f)\n",
    "print(d)"
   ]
  },
  {
   "cell_type": "code",
   "execution_count": 13,
   "metadata": {},
   "outputs": [
    {
     "data": {
      "text/plain": [
       "b'\\x80\\x04\\x95-\\x00\\x00\\x00\\x00\\x00\\x00\\x00}\\x94(\\x8c\\x04Name\\x94\\x8c\\x06Akshay\\x94\\x8c\\x06gender\\x94\\x8c\\x04male\\x94\\x8c\\x03Age\\x94K\\x17u.'"
      ]
     },
     "execution_count": 13,
     "metadata": {},
     "output_type": "execute_result"
    }
   ],
   "source": [
    "f=open(\"F:\\\\python_prog\\\\file_handling\\\\file2.txt\",\"rb\")\n",
    "c=f.read()\n",
    "c"
   ]
  },
  {
   "cell_type": "code",
   "execution_count": 16,
   "metadata": {},
   "outputs": [
    {
     "name": "stdout",
     "output_type": "stream",
     "text": [
      "welcome to\n",
      "welcome toram\n"
     ]
    }
   ],
   "source": [
    "# oops concept polymorphisum\n",
    "\n",
    "# function overloading\n",
    "\n",
    "\n",
    "class person:\n",
    "    def disp(self,name=''):\n",
    "        print(\"welcome to\"+name)\n",
    "        \n",
    "        \n",
    "p=person()\n",
    "p.disp()\n",
    "p.disp('ram')\n",
    "\n",
    "\n",
    "        "
   ]
  },
  {
   "cell_type": "code",
   "execution_count": 21,
   "metadata": {},
   "outputs": [
    {
     "name": "stdout",
     "output_type": "stream",
     "text": [
      "i am class A function\n",
      "i am class B function\n"
     ]
    }
   ],
   "source": [
    "#function overriding\n",
    "\n",
    "class A:\n",
    "    def disp(self):\n",
    "        print(\"i am class A function\")\n",
    " \n",
    "\n",
    "class B(A):\n",
    "    def disp(self):\n",
    "#         super().disp()\n",
    "        print(\"i am class B function\")\n",
    "\n",
    "a1=A()\n",
    "a1.disp()\n",
    "\n",
    "b2=B()\n",
    "b2.disp()"
   ]
  },
  {
   "cell_type": "code",
   "execution_count": 23,
   "metadata": {},
   "outputs": [
    {
     "name": "stdout",
     "output_type": "stream",
     "text": [
      "its processing\n"
     ]
    }
   ],
   "source": [
    "from abc import ABC,abstractmethod\n",
    "\n",
    "class computer(ABC):\n",
    "    @abstractmethod\n",
    "    def process(self):\n",
    "        pass\n",
    "    \n",
    "    \n",
    "class laptop(computer):\n",
    "    def process(self):\n",
    "        print(\"its processing\")\n",
    "        \n",
    "        \n",
    "comp1=laptop()\n",
    "comp1.process()    "
   ]
  },
  {
   "cell_type": "code",
   "execution_count": 25,
   "metadata": {},
   "outputs": [
    {
     "data": {
      "text/plain": [
       "[3, 5, 2, 1, 0]"
      ]
     },
     "execution_count": 25,
     "metadata": {},
     "output_type": "execute_result"
    }
   ],
   "source": [
    "list1 = [3,4,5,2,1,0]\n",
    "# what is list1 after\n",
    "list1.pop(1)\n",
    "list1"
   ]
  },
  {
   "cell_type": "code",
   "execution_count": 26,
   "metadata": {},
   "outputs": [
    {
     "data": {
      "text/plain": [
       "1e+20"
      ]
     },
     "execution_count": 26,
     "metadata": {},
     "output_type": "execute_result"
    }
   ],
   "source": [
    "func = lambda a, b : (a ** b)\n",
    "# what is the output of \n",
    "func(float(10),20)"
   ]
  },
  {
   "cell_type": "code",
   "execution_count": 27,
   "metadata": {},
   "outputs": [
    {
     "name": "stdout",
     "output_type": "stream",
     "text": [
      "['False', 'None', 'True', 'and', 'as', 'assert', 'async', 'await', 'break', 'class', 'continue', 'def', 'del', 'elif', 'else', 'except', 'finally', 'for', 'from', 'global', 'if', 'import', 'in', 'is', 'lambda', 'nonlocal', 'not', 'or', 'pass', 'raise', 'return', 'try', 'while', 'with', 'yield']\n"
     ]
    }
   ],
   "source": [
    "# find all keywords use in python\n",
    "import keyword\n",
    "print(keyword.kwlist)\n"
   ]
  },
  {
   "cell_type": "code",
   "execution_count": 29,
   "metadata": {},
   "outputs": [
    {
     "name": "stdout",
     "output_type": "stream",
     "text": [
      "10\n",
      "1\n",
      "1\n"
     ]
    }
   ],
   "source": [
    "# global local variables\n",
    "\n",
    "\n",
    "a=10\n",
    "def foo():\n",
    "    global a\n",
    "    a=1\n",
    "    print(a)\n",
    "    \n",
    "print(a)\n",
    "foo()\n",
    "print(a)"
   ]
  },
  {
   "cell_type": "code",
   "execution_count": 33,
   "metadata": {},
   "outputs": [
    {
     "ename": "Exception",
     "evalue": "hey you can not divide by 0",
     "output_type": "error",
     "traceback": [
      "\u001b[1;31m---------------------------------------------------------------------------\u001b[0m",
      "\u001b[1;31mException\u001b[0m                                 Traceback (most recent call last)",
      "\u001b[1;32m<ipython-input-33-92f7d2abd069>\u001b[0m in \u001b[0;36m<module>\u001b[1;34m\u001b[0m\n\u001b[0;32m      6\u001b[0m         \u001b[1;32mreturn\u001b[0m \u001b[0mnum\u001b[0m\u001b[1;33m/\u001b[0m\u001b[0mdeno\u001b[0m\u001b[1;33m\u001b[0m\u001b[1;33m\u001b[0m\u001b[0m\n\u001b[0;32m      7\u001b[0m \u001b[1;33m\u001b[0m\u001b[0m\n\u001b[1;32m----> 8\u001b[1;33m \u001b[0mdiv\u001b[0m\u001b[1;33m(\u001b[0m\u001b[1;36m10\u001b[0m\u001b[1;33m,\u001b[0m\u001b[1;36m0\u001b[0m\u001b[1;33m)\u001b[0m\u001b[1;33m\u001b[0m\u001b[1;33m\u001b[0m\u001b[0m\n\u001b[0m",
      "\u001b[1;32m<ipython-input-33-92f7d2abd069>\u001b[0m in \u001b[0;36mdiv\u001b[1;34m(num, deno)\u001b[0m\n\u001b[0;32m      1\u001b[0m \u001b[1;32mdef\u001b[0m \u001b[0mdiv\u001b[0m\u001b[1;33m(\u001b[0m\u001b[0mnum\u001b[0m\u001b[1;33m,\u001b[0m\u001b[0mdeno\u001b[0m\u001b[1;33m)\u001b[0m\u001b[1;33m:\u001b[0m\u001b[1;33m\u001b[0m\u001b[1;33m\u001b[0m\u001b[0m\n\u001b[0;32m      2\u001b[0m     \u001b[1;32mif\u001b[0m \u001b[0mdeno\u001b[0m\u001b[1;33m==\u001b[0m\u001b[1;36m0\u001b[0m\u001b[1;33m:\u001b[0m\u001b[1;33m\u001b[0m\u001b[1;33m\u001b[0m\u001b[0m\n\u001b[1;32m----> 3\u001b[1;33m         \u001b[1;32mraise\u001b[0m \u001b[0mException\u001b[0m\u001b[1;33m(\u001b[0m\u001b[1;34m\"hey you can not divide by 0\"\u001b[0m\u001b[1;33m)\u001b[0m\u001b[1;33m\u001b[0m\u001b[1;33m\u001b[0m\u001b[0m\n\u001b[0m\u001b[0;32m      4\u001b[0m \u001b[1;33m\u001b[0m\u001b[0m\n\u001b[0;32m      5\u001b[0m     \u001b[1;32melse\u001b[0m\u001b[1;33m:\u001b[0m\u001b[1;33m\u001b[0m\u001b[1;33m\u001b[0m\u001b[0m\n",
      "\u001b[1;31mException\u001b[0m: hey you can not divide by 0"
     ]
    }
   ],
   "source": [
    "# custome exception\n",
    "\n",
    "\n",
    "def div(num,deno):\n",
    "    if deno==0:\n",
    "        raise Exception(\"hey you can not divide by 0\")\n",
    "        \n",
    "    else:\n",
    "        return num/deno\n",
    "    \n",
    "div(10,0)    "
   ]
  },
  {
   "cell_type": "code",
   "execution_count": 35,
   "metadata": {},
   "outputs": [
    {
     "name": "stdout",
     "output_type": "stream",
     "text": [
      "division by zero\n"
     ]
    }
   ],
   "source": [
    "try:\n",
    "    a=10\n",
    "    b=0\n",
    "    \n",
    "    c=a/b\n",
    "    print(c)\n",
    "except Exception as e:\n",
    "\n",
    "    print(e)\n"
   ]
  },
  {
   "cell_type": "code",
   "execution_count": 37,
   "metadata": {},
   "outputs": [
    {
     "data": {
      "text/plain": [
       "{10}"
      ]
     },
     "execution_count": 37,
     "metadata": {},
     "output_type": "execute_result"
    }
   ],
   "source": [
    "# set is muttable\n",
    "# frozenset is immutable\n",
    "\n",
    "\n",
    "set1=set()\n",
    "\n",
    "set1.add(10)\n",
    "set1\n"
   ]
  },
  {
   "cell_type": "code",
   "execution_count": 39,
   "metadata": {},
   "outputs": [
    {
     "data": {
      "text/plain": [
       "frozenset({1, 2, 'a'})"
      ]
     },
     "execution_count": 39,
     "metadata": {},
     "output_type": "execute_result"
    }
   ],
   "source": [
    "set2=frozenset({1,2,'a'})\n",
    "set2"
   ]
  },
  {
   "cell_type": "code",
   "execution_count": 40,
   "metadata": {},
   "outputs": [
    {
     "ename": "AttributeError",
     "evalue": "'frozenset' object has no attribute 'add'",
     "output_type": "error",
     "traceback": [
      "\u001b[1;31m---------------------------------------------------------------------------\u001b[0m",
      "\u001b[1;31mAttributeError\u001b[0m                            Traceback (most recent call last)",
      "\u001b[1;32m<ipython-input-40-5aa24efd8632>\u001b[0m in \u001b[0;36m<module>\u001b[1;34m\u001b[0m\n\u001b[1;32m----> 1\u001b[1;33m \u001b[0mset2\u001b[0m\u001b[1;33m.\u001b[0m\u001b[0madd\u001b[0m\u001b[1;33m(\u001b[0m\u001b[1;36m20\u001b[0m\u001b[1;33m)\u001b[0m\u001b[1;33m\u001b[0m\u001b[1;33m\u001b[0m\u001b[0m\n\u001b[0m",
      "\u001b[1;31mAttributeError\u001b[0m: 'frozenset' object has no attribute 'add'"
     ]
    }
   ],
   "source": [
    "set2.add(20)"
   ]
  },
  {
   "cell_type": "code",
   "execution_count": 41,
   "metadata": {},
   "outputs": [
    {
     "data": {
      "text/plain": [
       "'3.8.5 (default, Sep  3 2020, 21:29:08) [MSC v.1916 64 bit (AMD64)]'"
      ]
     },
     "execution_count": 41,
     "metadata": {},
     "output_type": "execute_result"
    }
   ],
   "source": [
    "import sys\n",
    "sys.version"
   ]
  },
  {
   "cell_type": "code",
   "execution_count": 45,
   "metadata": {},
   "outputs": [
    {
     "data": {
      "text/plain": [
       "[70, 70]"
      ]
     },
     "execution_count": 45,
     "metadata": {},
     "output_type": "execute_result"
    }
   ],
   "source": [
    "#using random \n",
    "\n",
    "import random\n",
    "value=[10,20,6,6,90,70]\n",
    "random.choices(value,k=2)"
   ]
  },
  {
   "cell_type": "code",
   "execution_count": 51,
   "metadata": {},
   "outputs": [
    {
     "data": {
      "text/plain": [
       "[3463, 4660, 1428, 9506]"
      ]
     },
     "execution_count": 51,
     "metadata": {},
     "output_type": "execute_result"
    }
   ],
   "source": [
    "import random \n",
    "l1=[random.randint(1000,9999) for i in range(1,5)]\n",
    "l1"
   ]
  },
  {
   "cell_type": "code",
   "execution_count": 48,
   "metadata": {},
   "outputs": [
    {
     "data": {
      "text/plain": [
       "[9309, 2929, 5419, 3116]"
      ]
     },
     "execution_count": 48,
     "metadata": {},
     "output_type": "execute_result"
    }
   ],
   "source": []
  },
  {
   "cell_type": "code",
   "execution_count": 61,
   "metadata": {},
   "outputs": [
    {
     "name": "stdout",
     "output_type": "stream",
     "text": [
      "0\n",
      "1\n",
      "2\n",
      "3\n",
      "4\n",
      "5\n",
      "6\n",
      "7\n",
      "8\n",
      "9\n"
     ]
    }
   ],
   "source": [
    "# tuple comprehension  gives us generatoe expression\n",
    "\n",
    "tup1=(i for i in range(10) )\n",
    "tup1\n",
    "\n",
    "\n",
    "for i in range(10):\n",
    "    print(next(tup1))\n",
    "\n"
   ]
  },
  {
   "cell_type": "code",
   "execution_count": null,
   "metadata": {},
   "outputs": [],
   "source": []
  }
 ],
 "metadata": {
  "kernelspec": {
   "display_name": "Python 3",
   "language": "python",
   "name": "python3"
  },
  "language_info": {
   "codemirror_mode": {
    "name": "ipython",
    "version": 3
   },
   "file_extension": ".py",
   "mimetype": "text/x-python",
   "name": "python",
   "nbconvert_exporter": "python",
   "pygments_lexer": "ipython3",
   "version": "3.8.5"
  }
 },
 "nbformat": 4,
 "nbformat_minor": 4
}
